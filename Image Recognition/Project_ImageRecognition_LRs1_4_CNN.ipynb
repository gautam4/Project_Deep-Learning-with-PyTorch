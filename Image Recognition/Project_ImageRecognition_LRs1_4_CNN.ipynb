{
  "nbformat": 4,
  "nbformat_minor": 0,
  "metadata": {
    "colab": {
      "name": "Project_ImageRecognition_LRs1-4_CNN.ipynb",
      "version": "0.3.2",
      "provenance": [],
      "collapsed_sections": []
    },
    "kernelspec": {
      "name": "python3",
      "display_name": "Python 3"
    },
    "accelerator": "GPU"
  },
  "cells": [
    {
      "cell_type": "markdown",
      "metadata": {
        "id": "EokjmJEFmrpL",
        "colab_type": "text"
      },
      "source": [
        "# Project Image Recognition: CNN classifier for 10 monkey species\n",
        "\n",
        "## Introduction\n",
        "\n",
        "* This project uses data publically available through Kaggle. The data involves 1300-1400 images of 10 different monkey species. Each image has a size of 400x300 or more size. The original data can be found at the following source. \n",
        "    * Source: https://www.kaggle.com/slothkong/10-monkey-species\n",
        "\n",
        "* The ten monkey species are listed below. \n",
        "\n",
        "| Species Name | Common Name |\n",
        "                  | ------  | ------ |\n",
        "  | Alouatta Palliata |         Mantled Howler |\n",
        "| Erythrocebus Patas\t|  Patas Monkey |\n",
        "| Cacajao Calvus | Bald Uakari |\n",
        "| Macaca Fuscata | Japanese Macaque |\n",
        "| Cebuella Pygmea | Pygmy Marmoset |\n",
        "| Cebus Capucinus | White Headed Capuchin |\n",
        "| Mico Argentatus | Silvery Marmoset |\n",
        "| Saimiri Sciureus | Common Squirrel Monkey |\n",
        "| Aotus Nigriceps\t| Black Headed Night Monkey |\n",
        "| Trachypithecus Johnii | Nilgiri Langur |\n",
        "\n",
        "* All of the classes have 131-152 images for training and 26-30 for Validation. More information on the dataset can be found at the Kaggle pace for the dataset.\n",
        "\n",
        "\n",
        "* This project applies a Convolutional Neural Network( CNN) model to the classification task to study fine grain classfication problems. Fine grain classifcation refers to the detailed classification problem rather than identifying a general class type such as monkey. \n",
        "\n",
        "## Design \n",
        "* To experiment and improve the deep learning model's performance, multiple models each with the same architecture and a different learning rate are instantiated, trained, and tested. \n",
        "    * The different learning rates for different models were divided into two sets of trials:\n",
        "        * Trials 1-4 were to find a high performance range of learning rates \n",
        "        * Trials 5-7 were to identify an optimal learning rate in that range\n",
        "    * The learning rates tested were:\n",
        "        * Trial 1: LR = 0.01\n",
        "        * Trial 2: LR = 0.001\n",
        "        * Trial 3: LR = 0.0001\n",
        "        * Trial 4: LR = 0.00001\n",
        "        \n",
        "        * Trial 5: LR = 0.0003\n",
        "        * Trial 6: LR = 0.0005\n",
        "        * Trial 7: LR = 0.0008\n",
        " \n",
        "* This notebook includes Trials 1-4 "
      ]
    },
    {
      "cell_type": "markdown",
      "metadata": {
        "id": "fk-5BEMyIrGO",
        "colab_type": "text"
      },
      "source": [
        "### Install the required packages "
      ]
    },
    {
      "cell_type": "code",
      "metadata": {
        "id": "xfcXPDD7vjZO",
        "colab_type": "code",
        "outputId": "f476427a-cfa5-48b5-a80a-161c8298daff",
        "colab": {
          "base_uri": "https://localhost:8080/",
          "height": 119
        }
      },
      "source": [
        "#Start by setting up PyTorch and other requirements\n",
        "!pip3 install torch torchvision"
      ],
      "execution_count": 0,
      "outputs": [
        {
          "output_type": "stream",
          "text": [
            "Requirement already satisfied: torch in /usr/local/lib/python3.6/dist-packages (1.1.0)\n",
            "Requirement already satisfied: torchvision in /usr/local/lib/python3.6/dist-packages (0.3.0)\n",
            "Requirement already satisfied: numpy in /usr/local/lib/python3.6/dist-packages (from torch) (1.16.4)\n",
            "Requirement already satisfied: pillow>=4.1.1 in /usr/local/lib/python3.6/dist-packages (from torchvision) (4.3.0)\n",
            "Requirement already satisfied: six in /usr/local/lib/python3.6/dist-packages (from torchvision) (1.12.0)\n",
            "Requirement already satisfied: olefile in /usr/local/lib/python3.6/dist-packages (from pillow>=4.1.1->torchvision) (0.46)\n"
          ],
          "name": "stdout"
        }
      ]
    },
    {
      "cell_type": "code",
      "metadata": {
        "id": "97uTFknmPpeP",
        "colab_type": "code",
        "outputId": "c5e8b11d-508d-41a7-f03d-3b9b82f7e158",
        "colab": {
          "base_uri": "https://localhost:8080/",
          "height": 51
        }
      },
      "source": [
        "#Import Statements\n",
        "import numpy as np\n",
        "import torch\n",
        "import torch.nn as nn\n",
        "import torch.nn.functional as F\n",
        "import torch.optim as optim\n",
        "import torchvision.transforms as transforms\n",
        "from torchvision import transforms, utils,datasets, models\n",
        "import PIL.Image\n",
        "from google.colab import files\n",
        "import zipfile\n",
        "import io\n",
        "from torch.utils.data.sampler import SubsetRandomSampler\n",
        "\n",
        "from matplotlib import pyplot as plt\n",
        "from google.colab import files\n",
        "\n",
        "print(\"All libraries have been imported successfully\")\n",
        "\n",
        "train_on_gpu = torch.cuda.is_available()\n",
        "\n",
        "if not train_on_gpu:\n",
        "    print(\"Training on CPU\")\n",
        "else:\n",
        "    print(\"Cuda is available. Training on GPU\")"
      ],
      "execution_count": 2,
      "outputs": [
        {
          "output_type": "stream",
          "text": [
            "All libraries have been imported successfully\n",
            "Cuda is available. Training on GPU\n"
          ],
          "name": "stdout"
        }
      ]
    },
    {
      "cell_type": "code",
      "metadata": {
        "id": "RmQAliWrzc1T",
        "colab_type": "code",
        "colab": {}
      },
      "source": [
        "#Load the training data zip\n",
        "uploaded = files.upload()\n"
      ],
      "execution_count": 0,
      "outputs": []
    },
    {
      "cell_type": "code",
      "metadata": {
        "id": "qsgOlWI_zqHQ",
        "colab_type": "code",
        "colab": {}
      },
      "source": [
        "#Unzip the training zip\n",
        "zf = zipfile.ZipFile(io.BytesIO(uploaded['train2.zip']), \"r\")\n",
        "zf.extractall()\n"
      ],
      "execution_count": 0,
      "outputs": []
    },
    {
      "cell_type": "code",
      "metadata": {
        "id": "WezeM_5ki2Yo",
        "colab_type": "code",
        "colab": {}
      },
      "source": [
        "#Load the validation data zip\n",
        "validloaded = files.upload()\n"
      ],
      "execution_count": 0,
      "outputs": []
    },
    {
      "cell_type": "code",
      "metadata": {
        "id": "BPAs8qwIjb89",
        "colab_type": "code",
        "colab": {}
      },
      "source": [
        "#Unzip the validation zip\n",
        "zf2 = zipfile.ZipFile(io.BytesIO(validloaded['valid.zip']), \"r\")\n",
        "zf2.extractall()"
      ],
      "execution_count": 0,
      "outputs": []
    },
    {
      "cell_type": "markdown",
      "metadata": {
        "id": "jRoXDQM4QTPc",
        "colab_type": "text"
      },
      "source": [
        "##  Building the Dataset\n",
        "\n",
        "* The training and test data are derived from the train.zip image dataset through random sampling. \n",
        "* The validation data is derived from the entirety of the valid.zip\n",
        "\n",
        "* Unique Ideas/Aspects(Find a better word/phrasing)\n",
        "    * The transforms normalize the train, test, and validation data to a range of [-2,2]. This wider than normal normalization was intentionally designed to increase the range of possible values for image pixels. This dataset in particular contains both drastically differing and overlapping class attributes for different monkey species. A wider normalization was chosen so that the increased range of possible values would allow for greater differentiation by the model for different image pixel values.\n"
      ]
    },
    {
      "cell_type": "code",
      "metadata": {
        "id": "ap6MFG6axSja",
        "colab_type": "code",
        "outputId": "e4578fe3-9d57-4f6c-d28a-12d4b9249100",
        "colab": {
          "base_uri": "https://localhost:8080/",
          "height": 34
        }
      },
      "source": [
        "#Create The test and train set\n",
        "\n",
        "#Parameters for Train/Test Splitting\n",
        "num_workers = 0\n",
        "batch_size= 137\n",
        "data_dir = 'train'\n",
        "test_size = 0.25\n",
        "\n",
        "#Tranforms for the training and test dataset\n",
        "#    The images are resized to 128x128. The random horizontal and vertical flip increase the learning potential of the network\n",
        "#    The Normalize function normalizes all values in the image matrix to [-2,2]. This greater range over the traditional [-1,1] or [0,1] was chosen \n",
        "#         to increase the range of possible values, which should allow further differentiation between different image pixel values\n",
        "data_train_transforms = transforms.Compose([transforms.Resize((128,128)), transforms.RandomHorizontalFlip(p=0.3),transforms.RandomVerticalFlip(p=0.3) , \n",
        "                                            transforms.ToTensor(), transforms.Normalize([0.5,0.5,0.5],[0.25,0.25,0.25])])\n",
        "data_test_transforms = transforms.Compose([transforms.Resize((128,128)), transforms.ToTensor(), transforms.Normalize([0.5,0.5,0.5],[0.25,0.25,0.25])])\n",
        "\n",
        "#Import the training Image folder. \n",
        "#Import the training Image folder a second time as 'test_data' because the transforms for the test and training set are different.\n",
        "train_data =  datasets.ImageFolder(data_dir, transform = data_train_transforms)\n",
        "test_data = datasets.ImageFolder(data_dir, transform = data_test_transforms)\n",
        "\n",
        "#Randomly split indices based on test_size fraction\n",
        "#Total 1096 images\n",
        "#Training: 822\n",
        "#Test: 274\n",
        "\n",
        "count_train = len(train_data)\n",
        "train_indices = list(range(count_train))\n",
        "np.random.shuffle(train_indices)\n",
        "traintestsplit = int(np.floor(test_size * count_train))\n",
        "traindata_idx, testdata_idx = train_indices[traintestsplit:], train_indices[:traintestsplit]\n",
        "\n",
        "train_sampler = SubsetRandomSampler(traindata_idx)\n",
        "test_sampler = SubsetRandomSampler(testdata_idx)\n",
        "\n",
        "#Create the training and test dataloaders\n",
        "train_dataloader = torch.utils.data.DataLoader(train_data, batch_size=batch_size, sampler = train_sampler, num_workers=num_workers)\n",
        "\n",
        "test_dataloader = torch.utils.data.DataLoader(test_data, batch_size=batch_size, sampler = test_sampler, num_workers = num_workers)\n",
        "print(\"The Train and Test dataloaders were created\")"
      ],
      "execution_count": 4,
      "outputs": [
        {
          "output_type": "stream",
          "text": [
            "The Train and Test dataloaders were created\n"
          ],
          "name": "stdout"
        }
      ]
    },
    {
      "cell_type": "code",
      "metadata": {
        "id": "E-egs9yS4M-b",
        "colab_type": "code",
        "outputId": "95159dce-aa46-4b44-f0ea-ab0186e65cd6",
        "colab": {
          "base_uri": "https://localhost:8080/",
          "height": 34
        }
      },
      "source": [
        "# Create the Validation dataset\n",
        "\n",
        "#Define the transforms for the dataset\n",
        "data_valid_transforms = transforms.Compose([transforms.Resize((128,128)), transforms.ToTensor(), transforms.Normalize([0.5,0.5,0.5],[0.25,0.25,0.25])])\n",
        "\n",
        "#Import the validation dataset\n",
        "valid_dir = 'valid'\n",
        "valid_data = datasets.ImageFolder(valid_dir, transform = data_valid_transforms)\n",
        "\n",
        "#Create the validation dataloader\n",
        "valid_dataloader = torch.utils.data.DataLoader(valid_data, batch_size= 90, shuffle=True)\n",
        "print(\"The Validation dataloader was defined\")"
      ],
      "execution_count": 0,
      "outputs": [
        {
          "output_type": "stream",
          "text": [
            "The Validation dataloader was defined\n"
          ],
          "name": "stdout"
        }
      ]
    },
    {
      "cell_type": "markdown",
      "metadata": {
        "id": "3-sli-lC_voU",
        "colab_type": "text"
      },
      "source": [
        "* The following training, validation and test datasets were created with their corresponding dataloaders\n",
        "\n",
        "\n",
        "\n",
        "             \n",
        "| Dataset | Images | \n",
        "      |------|------|\n",
        "|Training | 822 |\n",
        "| Test  | 274 |\n",
        "| Valid | 274 |\n",
        "| \n"
      ]
    },
    {
      "cell_type": "markdown",
      "metadata": {
        "id": "B53zASrG4NcH",
        "colab_type": "text"
      },
      "source": [
        "## Building the CNN Model\n"
      ]
    },
    {
      "cell_type": "code",
      "metadata": {
        "id": "ibEZvX4SlOaQ",
        "colab_type": "code",
        "outputId": "b455a0d6-0870-45ab-ae75-cbf59f5f39fe",
        "colab": {
          "base_uri": "https://localhost:8080/",
          "height": 34
        }
      },
      "source": [
        "#Define the CNN model\n",
        "\n",
        "class MonkeySpeciesCNN(nn.Module):\n",
        "    def __init__(self):\n",
        "        super(MonkeySpeciesCNN, self).__init__()\n",
        "        #Input is 128x128x3 tensor\n",
        "        self.conv1 = nn.Conv2d(3, 16,4, padding =1, stride =2)\n",
        "        #Batch Normalization on layer outputs\n",
        "        self.conv1_BN = nn.BatchNorm2d(16)\n",
        "        #Input is 64x64x16\n",
        "        \n",
        "        self.conv2 = nn.Conv2d(16, 32,3, padding =1)\n",
        "        self.conv2_BN = nn.BatchNorm2d(32)\n",
        "        #Input is 32x32x32 \n",
        "        self.conv3 = nn.Conv2d(32,64,3,  padding = 1)\n",
        "        self.conv3_BN = nn.BatchNorm2d(64)\n",
        "        #Output is 16x16x64\n",
        "        \n",
        "        #max pooling Layer\n",
        "        self.pool = nn.MaxPool2d(2,2)\n",
        "        #linear layer(4*4*512)\n",
        "        self.fc1 = nn.Linear(4096, 100)\n",
        "        self.fc2 = nn.Linear(100, 1000)\n",
        "        self.fc3 = nn.Linear(1000, 10)\n",
        "        self.dropout =  nn.Dropout(0.25)\n",
        "    \n",
        "    def forward(self,x):\n",
        "        x = self.pool(F.relu(self.conv1_BN(self.conv1(x))))\n",
        "        x = self.pool(F.relu(self.conv2_BN(self.conv2(x))))\n",
        "        x = self.pool(F.relu(self.conv3_BN(self.conv3(x))))\n",
        "        \n",
        "        x = x.view(-1,8*64*8)\n",
        "        x = self.dropout(x)\n",
        "        x = F.relu(self.fc1(x))\n",
        "        x = self.dropout(x)\n",
        "        x = F.relu(self.fc2(x))\n",
        "        x = self.dropout(x)\n",
        "        x = F.log_softmax(self.fc3(x),dim=1)\n",
        "        return x\n",
        "\n",
        "classes = ['monkey1', 'monkey2', 'monkey3', 'monkey4', 'monkey5', 'monkey6', 'monkey7',\n",
        "          'monkey8', 'monkey9','monkey10']\n",
        "\n",
        "print(\"The Monkey Species CNN class was successfully defined\")\n",
        "    "
      ],
      "execution_count": 0,
      "outputs": [
        {
          "output_type": "stream",
          "text": [
            "The Monkey Species CNN class was successfully defined\n"
          ],
          "name": "stdout"
        }
      ]
    },
    {
      "cell_type": "markdown",
      "metadata": {
        "id": "JwtX9QSjor9Y",
        "colab_type": "text"
      },
      "source": [
        "## Trial 1: LR = 0.01"
      ]
    },
    {
      "cell_type": "code",
      "metadata": {
        "id": "gR1qhltzoSx_",
        "colab_type": "code",
        "outputId": "ade98a53-b48a-4c76-d8ed-878d52145e3e",
        "colab": {
          "base_uri": "https://localhost:8080/",
          "height": 238
        }
      },
      "source": [
        "#Define the model\n",
        "#The following notation was used: \n",
        "#    MonkeyClassifier1: model for Trial 1(LR = 0.01)\n",
        "\n",
        "MonkeyClassifier1 = MonkeySpeciesCNN()\n",
        "#Print the model\n",
        "print(MonkeyClassifier1)\n"
      ],
      "execution_count": 0,
      "outputs": [
        {
          "output_type": "stream",
          "text": [
            "MonkeySpeciesCNN(\n",
            "  (conv1): Conv2d(3, 16, kernel_size=(4, 4), stride=(2, 2), padding=(1, 1))\n",
            "  (conv1_BN): BatchNorm2d(16, eps=1e-05, momentum=0.1, affine=True, track_running_stats=True)\n",
            "  (conv2): Conv2d(16, 32, kernel_size=(3, 3), stride=(1, 1), padding=(1, 1))\n",
            "  (conv2_BN): BatchNorm2d(32, eps=1e-05, momentum=0.1, affine=True, track_running_stats=True)\n",
            "  (conv3): Conv2d(32, 64, kernel_size=(3, 3), stride=(1, 1), padding=(1, 1))\n",
            "  (conv3_BN): BatchNorm2d(64, eps=1e-05, momentum=0.1, affine=True, track_running_stats=True)\n",
            "  (pool): MaxPool2d(kernel_size=2, stride=2, padding=0, dilation=1, ceil_mode=False)\n",
            "  (fc1): Linear(in_features=4096, out_features=100, bias=True)\n",
            "  (fc2): Linear(in_features=100, out_features=1000, bias=True)\n",
            "  (fc3): Linear(in_features=1000, out_features=10, bias=True)\n",
            "  (dropout): Dropout(p=0.25)\n",
            ")\n"
          ],
          "name": "stdout"
        }
      ]
    },
    {
      "cell_type": "code",
      "metadata": {
        "id": "xq_yHJcurzRM",
        "colab_type": "code",
        "outputId": "8f47e8d3-a61a-49d9-c059-08bf58303766",
        "colab": {
          "base_uri": "https://localhost:8080/",
          "height": 238
        }
      },
      "source": [
        "#Define the Criterion, Optimizer, and move the model to the GPU\n",
        "\n",
        "device = torch.device(\"cuda\" if torch.cuda.is_available() else \"cpu\")\n",
        "criterion = nn.CrossEntropyLoss()\n",
        "optimizer1 = optim.Adam(MonkeyClassifier1.parameters(), lr=0.01)\n",
        "MonkeyClassifier1.to(device)\n",
        "\n"
      ],
      "execution_count": 0,
      "outputs": [
        {
          "output_type": "execute_result",
          "data": {
            "text/plain": [
              "MonkeySpeciesCNN(\n",
              "  (conv1): Conv2d(3, 16, kernel_size=(4, 4), stride=(2, 2), padding=(1, 1))\n",
              "  (conv1_BN): BatchNorm2d(16, eps=1e-05, momentum=0.1, affine=True, track_running_stats=True)\n",
              "  (conv2): Conv2d(16, 32, kernel_size=(3, 3), stride=(1, 1), padding=(1, 1))\n",
              "  (conv2_BN): BatchNorm2d(32, eps=1e-05, momentum=0.1, affine=True, track_running_stats=True)\n",
              "  (conv3): Conv2d(32, 64, kernel_size=(3, 3), stride=(1, 1), padding=(1, 1))\n",
              "  (conv3_BN): BatchNorm2d(64, eps=1e-05, momentum=0.1, affine=True, track_running_stats=True)\n",
              "  (pool): MaxPool2d(kernel_size=2, stride=2, padding=0, dilation=1, ceil_mode=False)\n",
              "  (fc1): Linear(in_features=4096, out_features=100, bias=True)\n",
              "  (fc2): Linear(in_features=100, out_features=1000, bias=True)\n",
              "  (fc3): Linear(in_features=1000, out_features=10, bias=True)\n",
              "  (dropout): Dropout(p=0.25)\n",
              ")"
            ]
          },
          "metadata": {
            "tags": []
          },
          "execution_count": 18
        }
      ]
    },
    {
      "cell_type": "code",
      "metadata": {
        "id": "rJmsdQVdIpj5",
        "colab_type": "code",
        "outputId": "d5e2d148-9a28-4646-f032-3a66404046ae",
        "colab": {
          "base_uri": "https://localhost:8080/",
          "height": 1000
        }
      },
      "source": [
        "#Train the model\n",
        "\n",
        "n_epochs = 45\n",
        "\n",
        "trainLossList1 = []\n",
        "validLossList1 = []\n",
        "\n",
        "for epoch in range(n_epochs):\n",
        "    train_loss = 0.0\n",
        "    valid_loss = 0.0\n",
        "    #Train the model on the training data\n",
        "    MonkeyClassifier1.train()\n",
        "    for inputs, labels in train_dataloader:\n",
        "        inputs, labels = inputs.to(device), labels.to(device)\n",
        "        optimizer1.zero_grad()\n",
        "        logps = MonkeyClassifier1(inputs)\n",
        "        loss = criterion(logps, labels)\n",
        "        loss.backward()\n",
        "        optimizer1.step()\n",
        "        train_loss += loss.item()*inputs.size(0)\n",
        "        \n",
        "    train_loss = train_loss/len(train_dataloader.dataset)\n",
        "    \n",
        "    #Validate the model on the validation data\n",
        "    MonkeyClassifier1.eval()\n",
        "    for vinputs, vlabels in valid_dataloader:\n",
        "        vinputs, vlabels = vinputs.to(device), vlabels.to(device)\n",
        "        output = MonkeyClassifier1(vinputs)\n",
        "        vloss = criterion(output,vlabels)\n",
        "        valid_loss += vloss.item()*vinputs.size(0)\n",
        "    valid_loss = valid_loss/len(valid_dataloader.dataset)\n",
        "    \n",
        "    if epoch != 0:\n",
        "        trainLossList1.append(train_loss)\n",
        "        validLossList1.append(valid_loss)\n",
        "        \n",
        "    \n",
        "    \n",
        "    print('Epoch: {} \\tTraining Loss: {:.6f} \\tValidation Loss: {:.6f}'.format(epoch,train_loss, valid_loss))\n",
        "    \n",
        "#Save the network weights\n",
        "torch.save(MonkeyClassifier1.state_dict(), 'monkeyModelWeightsTrial1.pth')\n",
        "\n",
        "\n",
        "\n",
        "fig = plt.figure()\n",
        "ax = fig.add_subplot(111)\n",
        "plt.plot(np.arange(len(trainLossList1)), trainLossList1, 'b')\n",
        "plt.plot(np.arange(len(validLossList1)), validLossList1, 'g')\n",
        "plt.ylabel('Training and Validation Loss')\n",
        "plt.xlabel('Epoch Number')\n",
        "plt.title('Training and Validation Loss over 45 Epochs for Trial 1: LR=0.01')\n",
        "plt.show()\n",
        "\n"
      ],
      "execution_count": 0,
      "outputs": [
        {
          "output_type": "stream",
          "text": [
            "Epoch: 0 \tTraining Loss: 3.867881 \tValidation Loss: 2.310529\n",
            "Epoch: 1 \tTraining Loss: 1.730027 \tValidation Loss: 2.305127\n",
            "Epoch: 2 \tTraining Loss: 1.729478 \tValidation Loss: 2.303952\n",
            "Epoch: 3 \tTraining Loss: 1.726977 \tValidation Loss: 2.303908\n",
            "Epoch: 4 \tTraining Loss: 1.726496 \tValidation Loss: 2.302964\n",
            "Epoch: 5 \tTraining Loss: 1.725349 \tValidation Loss: 2.302330\n",
            "Epoch: 6 \tTraining Loss: 1.726304 \tValidation Loss: 2.302199\n",
            "Epoch: 7 \tTraining Loss: 1.726777 \tValidation Loss: 2.302486\n",
            "Epoch: 8 \tTraining Loss: 1.727008 \tValidation Loss: 2.302234\n",
            "Epoch: 9 \tTraining Loss: 1.727783 \tValidation Loss: 2.302579\n",
            "Epoch: 10 \tTraining Loss: 1.728256 \tValidation Loss: 2.302498\n",
            "Epoch: 11 \tTraining Loss: 1.726709 \tValidation Loss: 2.302206\n",
            "Epoch: 12 \tTraining Loss: 1.727143 \tValidation Loss: 2.302381\n",
            "Epoch: 13 \tTraining Loss: 1.725441 \tValidation Loss: 2.302040\n",
            "Epoch: 14 \tTraining Loss: 1.726731 \tValidation Loss: 2.301918\n",
            "Epoch: 15 \tTraining Loss: 1.726895 \tValidation Loss: 2.301990\n",
            "Epoch: 16 \tTraining Loss: 1.725804 \tValidation Loss: 2.302101\n",
            "Epoch: 17 \tTraining Loss: 1.726359 \tValidation Loss: 2.302663\n",
            "Epoch: 18 \tTraining Loss: 1.728143 \tValidation Loss: 2.302080\n",
            "Epoch: 19 \tTraining Loss: 1.727029 \tValidation Loss: 2.302543\n",
            "Epoch: 20 \tTraining Loss: 1.726392 \tValidation Loss: 2.302506\n",
            "Epoch: 21 \tTraining Loss: 1.727348 \tValidation Loss: 2.302253\n",
            "Epoch: 22 \tTraining Loss: 1.724857 \tValidation Loss: 2.302466\n",
            "Epoch: 23 \tTraining Loss: 1.728336 \tValidation Loss: 2.302307\n",
            "Epoch: 24 \tTraining Loss: 1.726801 \tValidation Loss: 2.302068\n",
            "Epoch: 25 \tTraining Loss: 1.725461 \tValidation Loss: 2.301994\n",
            "Epoch: 26 \tTraining Loss: 1.725767 \tValidation Loss: 2.301942\n",
            "Epoch: 27 \tTraining Loss: 1.725583 \tValidation Loss: 2.301982\n",
            "Epoch: 28 \tTraining Loss: 1.726587 \tValidation Loss: 2.302188\n",
            "Epoch: 29 \tTraining Loss: 1.726339 \tValidation Loss: 2.302132\n",
            "Epoch: 30 \tTraining Loss: 1.728086 \tValidation Loss: 2.302711\n",
            "Epoch: 31 \tTraining Loss: 1.726197 \tValidation Loss: 2.302306\n",
            "Epoch: 32 \tTraining Loss: 1.727071 \tValidation Loss: 2.302242\n",
            "Epoch: 33 \tTraining Loss: 1.727628 \tValidation Loss: 2.302208\n",
            "Epoch: 34 \tTraining Loss: 1.726563 \tValidation Loss: 2.302086\n",
            "Epoch: 35 \tTraining Loss: 1.725678 \tValidation Loss: 2.302102\n",
            "Epoch: 36 \tTraining Loss: 1.726448 \tValidation Loss: 2.302328\n",
            "Epoch: 37 \tTraining Loss: 1.727042 \tValidation Loss: 2.302701\n",
            "Epoch: 38 \tTraining Loss: 1.726863 \tValidation Loss: 2.302188\n",
            "Epoch: 39 \tTraining Loss: 1.727385 \tValidation Loss: 2.302043\n",
            "Epoch: 40 \tTraining Loss: 1.726383 \tValidation Loss: 2.302047\n",
            "Epoch: 41 \tTraining Loss: 1.726589 \tValidation Loss: 2.302163\n",
            "Epoch: 42 \tTraining Loss: 1.725254 \tValidation Loss: 2.302053\n",
            "Epoch: 43 \tTraining Loss: 1.727097 \tValidation Loss: 2.302730\n",
            "Epoch: 44 \tTraining Loss: 1.725984 \tValidation Loss: 2.302392\n"
          ],
          "name": "stdout"
        },
        {
          "output_type": "display_data",
          "data": {
            "image/png": "[encoded data removed]",
            "text/plain": [
              "<Figure size 432x288 with 1 Axes>"
            ]
          },
          "metadata": {
            "tags": []
          }
        }
      ]
    },
    {
      "cell_type": "code",
      "metadata": {
        "id": "6tdRFqGdECLi",
        "colab_type": "code",
        "colab": {}
      },
      "source": [
        "files.download('monkeyModelWeightsTrial1.pth')"
      ],
      "execution_count": 0,
      "outputs": []
    },
    {
      "cell_type": "code",
      "metadata": {
        "id": "5ZcKsUJy0J16",
        "colab_type": "code",
        "outputId": "27cc5ea6-2107-48a5-cb6a-8debb5d8893b",
        "colab": {
          "base_uri": "https://localhost:8080/",
          "height": 255
        }
      },
      "source": [
        "# Predict classes for Test Dataset 1\n",
        "\n",
        "test_loss = 0.0\n",
        "class_correct = list(0. for i in range(10))\n",
        "class_total = list(0. for i in range(10))\n",
        "\n",
        "\n",
        "MonkeyClassifier1.eval()\n",
        "\n",
        "for data, target in test_dataloader:\n",
        "    data, target = data.cuda(), target.cuda()\n",
        "    output = MonkeyClassifier1(data)\n",
        "    loss = criterion(output, target)\n",
        "\n",
        "    test_loss += loss.item()*data.size(0)\n",
        "    _, pred = torch.max(output,1)\n",
        "    correct_tensor = pred.eq(target.data.view_as(pred))\n",
        "    \n",
        "    correct = np.squeeze(correct_tensor.numpy()) if not train_on_gpu else np.squeeze(correct_tensor.cpu().numpy())\n",
        "    for i in range(1,batch_size): \n",
        "        label = target.data[i-1]\n",
        "        class_correct[label] += correct[i].item()\n",
        "        class_total[label] +=1\n",
        "    \n",
        "test_loss = test_loss/len(test_dataloader.dataset)\n",
        "print('Test Loss: {:.6f}\\n'.format(test_loss))\n",
        "\n",
        "for i in range(0,10):\n",
        "    if class_total[i]>0:\n",
        "        print('Test Accuracy of %5s: %2d%% (%2d/%2d)' %( classes[i], 100*class_correct[i]/class_total[i], np.sum(class_correct[i]), np.sum(class_total[i])))\n",
        "    else:\n",
        "        print('Test Accuracy of %5s: N/A (no training examples)' % (classes[i]))\n",
        "\n",
        "print('\\nTest Accuracy (Overall): %2d%% (%2d/%2d)' % (100. * np.sum(class_correct) / np.sum(class_total), np.sum(class_correct), np.sum(class_total)))\n"
      ],
      "execution_count": 0,
      "outputs": [
        {
          "output_type": "stream",
          "text": [
            "Test Loss: 0.576847\n",
            "\n",
            "Test Accuracy of monkey1:  3% ( 1/26)\n",
            "Test Accuracy of monkey2:  6% ( 2/30)\n",
            "Test Accuracy of monkey3:  5% ( 1/20)\n",
            "Test Accuracy of monkey4: 13% ( 4/29)\n",
            "Test Accuracy of monkey5:  6% ( 2/31)\n",
            "Test Accuracy of monkey6:  4% ( 1/25)\n",
            "Test Accuracy of monkey7: 10% ( 3/29)\n",
            "Test Accuracy of monkey8: 11% ( 3/27)\n",
            "Test Accuracy of monkey9:  6% ( 2/32)\n",
            "Test Accuracy of monkey10:  0% ( 0/23)\n",
            "\n",
            "Test Accuracy (Overall):  6% (19/272)\n"
          ],
          "name": "stdout"
        }
      ]
    },
    {
      "cell_type": "markdown",
      "metadata": {
        "id": "xafTqatjrfTc",
        "colab_type": "text"
      },
      "source": [
        "## Trial 2: LR = 0.001"
      ]
    },
    {
      "cell_type": "code",
      "metadata": {
        "id": "SEKkIN6Vrj1F",
        "colab_type": "code",
        "outputId": "d300764f-08e3-4a52-aa28-bb88ad9d8118",
        "colab": {
          "base_uri": "https://localhost:8080/",
          "height": 238
        }
      },
      "source": [
        "#Define the model\n",
        "\n",
        "MonkeyClassifier2 = MonkeySpeciesCNN()\n",
        "#Print the model\n",
        "print(MonkeyClassifier2)\n"
      ],
      "execution_count": 0,
      "outputs": [
        {
          "output_type": "stream",
          "text": [
            "MonkeySpeciesCNN(\n",
            "  (conv1): Conv2d(3, 16, kernel_size=(4, 4), stride=(2, 2), padding=(1, 1))\n",
            "  (conv1_BN): BatchNorm2d(16, eps=1e-05, momentum=0.1, affine=True, track_running_stats=True)\n",
            "  (conv2): Conv2d(16, 32, kernel_size=(3, 3), stride=(1, 1), padding=(1, 1))\n",
            "  (conv2_BN): BatchNorm2d(32, eps=1e-05, momentum=0.1, affine=True, track_running_stats=True)\n",
            "  (conv3): Conv2d(32, 64, kernel_size=(3, 3), stride=(1, 1), padding=(1, 1))\n",
            "  (conv3_BN): BatchNorm2d(64, eps=1e-05, momentum=0.1, affine=True, track_running_stats=True)\n",
            "  (pool): MaxPool2d(kernel_size=2, stride=2, padding=0, dilation=1, ceil_mode=False)\n",
            "  (fc1): Linear(in_features=4096, out_features=100, bias=True)\n",
            "  (fc2): Linear(in_features=100, out_features=1000, bias=True)\n",
            "  (fc3): Linear(in_features=1000, out_features=10, bias=True)\n",
            "  (dropout): Dropout(p=0.25)\n",
            ")\n"
          ],
          "name": "stdout"
        }
      ]
    },
    {
      "cell_type": "code",
      "metadata": {
        "id": "-BFZ3FHorrmd",
        "colab_type": "code",
        "outputId": "9dc4247c-8b05-4d96-ea5d-9ec23f9bae3f",
        "colab": {
          "base_uri": "https://localhost:8080/",
          "height": 238
        }
      },
      "source": [
        "#Define the Criterion, Optimizer, and move the model to the GPU\n",
        "\n",
        "device = torch.device(\"cuda\" if torch.cuda.is_available() else \"cpu\")\n",
        "criterion = nn.CrossEntropyLoss()\n",
        "optimizer2 = optim.Adam(MonkeyClassifier2.parameters(), lr=0.001)\n",
        "MonkeyClassifier2.to(device)"
      ],
      "execution_count": 0,
      "outputs": [
        {
          "output_type": "execute_result",
          "data": {
            "text/plain": [
              "MonkeySpeciesCNN(\n",
              "  (conv1): Conv2d(3, 16, kernel_size=(4, 4), stride=(2, 2), padding=(1, 1))\n",
              "  (conv1_BN): BatchNorm2d(16, eps=1e-05, momentum=0.1, affine=True, track_running_stats=True)\n",
              "  (conv2): Conv2d(16, 32, kernel_size=(3, 3), stride=(1, 1), padding=(1, 1))\n",
              "  (conv2_BN): BatchNorm2d(32, eps=1e-05, momentum=0.1, affine=True, track_running_stats=True)\n",
              "  (conv3): Conv2d(32, 64, kernel_size=(3, 3), stride=(1, 1), padding=(1, 1))\n",
              "  (conv3_BN): BatchNorm2d(64, eps=1e-05, momentum=0.1, affine=True, track_running_stats=True)\n",
              "  (pool): MaxPool2d(kernel_size=2, stride=2, padding=0, dilation=1, ceil_mode=False)\n",
              "  (fc1): Linear(in_features=4096, out_features=100, bias=True)\n",
              "  (fc2): Linear(in_features=100, out_features=1000, bias=True)\n",
              "  (fc3): Linear(in_features=1000, out_features=10, bias=True)\n",
              "  (dropout): Dropout(p=0.25)\n",
              ")"
            ]
          },
          "metadata": {
            "tags": []
          },
          "execution_count": 23
        }
      ]
    },
    {
      "cell_type": "code",
      "metadata": {
        "id": "WLdj9wmVryZc",
        "colab_type": "code",
        "outputId": "65fa128b-a5ee-414e-a624-2739fe8182ab",
        "colab": {
          "base_uri": "https://localhost:8080/",
          "height": 1000
        }
      },
      "source": [
        "#Train the model\n",
        "\n",
        "n_epochs = 45\n",
        "\n",
        "trainLossList2 = []\n",
        "validLossList2 = []\n",
        "\n",
        "for epoch in range(n_epochs):\n",
        "    train_loss = 0.0\n",
        "    valid_loss = 0.0\n",
        "    #Train the model on the training data\n",
        "    MonkeyClassifier2.train()\n",
        "    for inputs, labels in train_dataloader:\n",
        "        inputs, labels = inputs.to(device), labels.to(device)\n",
        "        optimizer2.zero_grad()\n",
        "        logps = MonkeyClassifier2(inputs)\n",
        "        loss = criterion(logps, labels)\n",
        "        loss.backward()\n",
        "        optimizer2.step()\n",
        "        train_loss += loss.item()*inputs.size(0)\n",
        "        \n",
        "    train_loss = train_loss/len(train_dataloader.dataset)\n",
        "    \n",
        "    #Validate the model on the validation data\n",
        "    MonkeyClassifier2.eval()\n",
        "    for vinputs, vlabels in valid_dataloader:\n",
        "        vinputs, vlabels = vinputs.to(device), vlabels.to(device)\n",
        "        output = MonkeyClassifier2(vinputs)\n",
        "        vloss = criterion(output,vlabels)\n",
        "        valid_loss += vloss.item()*vinputs.size(0)\n",
        "    valid_loss = valid_loss/len(valid_dataloader.dataset)\n",
        "    \n",
        "    if epoch != 0:\n",
        "        trainLossList2.append(train_loss)\n",
        "        validLossList2.append(valid_loss)\n",
        "        \n",
        "    \n",
        "    \n",
        "    print('Epoch: {} \\tTraining Loss: {:.6f} \\tValidation Loss: {:.6f}'.format(epoch,train_loss, valid_loss))\n",
        "    \n",
        "#Save the network weights\n",
        "torch.save(MonkeyClassifier2.state_dict(), 'monkeyModelWeightsTrial2.pth')\n",
        "\n",
        "\n",
        "\n",
        "fig = plt.figure()\n",
        "ax = fig.add_subplot(111)\n",
        "plt.plot(np.arange(len(trainLossList2)), trainLossList2, 'b')\n",
        "plt.plot(np.arange(len(validLossList2)), validLossList2, 'g')\n",
        "plt.ylabel('Training and Validation Loss')\n",
        "plt.xlabel('Epoch Number')\n",
        "plt.title('Training and Validation Loss over 45 Epochs for Trial 2: LR=0.001')\n",
        "plt.show()\n"
      ],
      "execution_count": 0,
      "outputs": [
        {
          "output_type": "stream",
          "text": [
            "Epoch: 0 \tTraining Loss: 1.675562 \tValidation Loss: 2.283037\n",
            "Epoch: 1 \tTraining Loss: 1.494736 \tValidation Loss: 2.215670\n",
            "Epoch: 2 \tTraining Loss: 1.340486 \tValidation Loss: 2.134222\n",
            "Epoch: 3 \tTraining Loss: 1.251716 \tValidation Loss: 1.971517\n",
            "Epoch: 4 \tTraining Loss: 1.152459 \tValidation Loss: 1.712817\n",
            "Epoch: 5 \tTraining Loss: 1.105565 \tValidation Loss: 1.546655\n",
            "Epoch: 6 \tTraining Loss: 1.062496 \tValidation Loss: 1.446550\n",
            "Epoch: 7 \tTraining Loss: 1.030435 \tValidation Loss: 1.438270\n",
            "Epoch: 8 \tTraining Loss: 0.950062 \tValidation Loss: 1.316810\n",
            "Epoch: 9 \tTraining Loss: 0.913559 \tValidation Loss: 1.243832\n",
            "Epoch: 10 \tTraining Loss: 0.850686 \tValidation Loss: 1.235369\n",
            "Epoch: 11 \tTraining Loss: 0.815829 \tValidation Loss: 1.208634\n",
            "Epoch: 12 \tTraining Loss: 0.773207 \tValidation Loss: 1.165333\n",
            "Epoch: 13 \tTraining Loss: 0.747271 \tValidation Loss: 1.119764\n",
            "Epoch: 14 \tTraining Loss: 0.707466 \tValidation Loss: 1.136533\n",
            "Epoch: 15 \tTraining Loss: 0.701752 \tValidation Loss: 1.116459\n",
            "Epoch: 16 \tTraining Loss: 0.660404 \tValidation Loss: 1.138437\n",
            "Epoch: 17 \tTraining Loss: 0.642175 \tValidation Loss: 1.083717\n",
            "Epoch: 18 \tTraining Loss: 0.593796 \tValidation Loss: 1.028730\n",
            "Epoch: 19 \tTraining Loss: 0.597719 \tValidation Loss: 1.043365\n",
            "Epoch: 20 \tTraining Loss: 0.569843 \tValidation Loss: 1.019885\n",
            "Epoch: 21 \tTraining Loss: 0.608500 \tValidation Loss: 1.082185\n",
            "Epoch: 22 \tTraining Loss: 0.600303 \tValidation Loss: 1.045088\n",
            "Epoch: 23 \tTraining Loss: 0.541846 \tValidation Loss: 0.987244\n",
            "Epoch: 24 \tTraining Loss: 0.476622 \tValidation Loss: 1.053784\n",
            "Epoch: 25 \tTraining Loss: 0.492590 \tValidation Loss: 1.046328\n",
            "Epoch: 26 \tTraining Loss: 0.502683 \tValidation Loss: 0.940126\n",
            "Epoch: 27 \tTraining Loss: 0.430647 \tValidation Loss: 1.085334\n",
            "Epoch: 28 \tTraining Loss: 0.396493 \tValidation Loss: 1.000820\n",
            "Epoch: 29 \tTraining Loss: 0.419952 \tValidation Loss: 1.070939\n",
            "Epoch: 30 \tTraining Loss: 0.409979 \tValidation Loss: 1.036130\n",
            "Epoch: 31 \tTraining Loss: 0.425190 \tValidation Loss: 1.091783\n",
            "Epoch: 32 \tTraining Loss: 0.398004 \tValidation Loss: 0.942395\n",
            "Epoch: 33 \tTraining Loss: 0.373635 \tValidation Loss: 1.068040\n",
            "Epoch: 34 \tTraining Loss: 0.359477 \tValidation Loss: 0.932064\n",
            "Epoch: 35 \tTraining Loss: 0.363833 \tValidation Loss: 1.006325\n",
            "Epoch: 36 \tTraining Loss: 0.346521 \tValidation Loss: 0.965025\n",
            "Epoch: 37 \tTraining Loss: 0.314948 \tValidation Loss: 0.895429\n",
            "Epoch: 38 \tTraining Loss: 0.304780 \tValidation Loss: 0.915432\n",
            "Epoch: 39 \tTraining Loss: 0.292724 \tValidation Loss: 0.940772\n",
            "Epoch: 40 \tTraining Loss: 0.291547 \tValidation Loss: 0.938784\n",
            "Epoch: 41 \tTraining Loss: 0.280517 \tValidation Loss: 1.040443\n",
            "Epoch: 42 \tTraining Loss: 0.273798 \tValidation Loss: 0.966027\n",
            "Epoch: 43 \tTraining Loss: 0.263303 \tValidation Loss: 0.904784\n",
            "Epoch: 44 \tTraining Loss: 0.266808 \tValidation Loss: 0.815497\n"
          ],
          "name": "stdout"
        },
        {
          "output_type": "display_data",
          "data": {
            "image/png": "[encoded data removed]",
            "text/plain": [
              "<Figure size 432x288 with 1 Axes>"
            ]
          },
          "metadata": {
            "tags": []
          }
        }
      ]
    },
    {
      "cell_type": "code",
      "metadata": {
        "id": "ZHcsUyRgr2JG",
        "colab_type": "code",
        "colab": {}
      },
      "source": [
        "files.download('monkeyModelWeightsTrial2.pth')"
      ],
      "execution_count": 0,
      "outputs": []
    },
    {
      "cell_type": "code",
      "metadata": {
        "id": "qu9Wgvg3sSEG",
        "colab_type": "code",
        "outputId": "9da8151c-1d2f-4f79-a224-99b962b30423",
        "colab": {
          "base_uri": "https://localhost:8080/",
          "height": 255
        }
      },
      "source": [
        "# Predict classes for Test Dataset \n",
        "\n",
        "test_loss = 0.0\n",
        "class_correct = list(0. for i in range(10))\n",
        "class_total = list(0. for i in range(10))\n",
        "\n",
        "\n",
        "MonkeyClassifier2.eval()\n",
        "\n",
        "for data, target in test_dataloader:\n",
        "    data, target = data.cuda(), target.cuda()\n",
        "    output = MonkeyClassifier2(data)\n",
        "    loss = criterion(output, target)\n",
        "\n",
        "    test_loss += loss.item()*data.size(0)\n",
        "    _, pred = torch.max(output,1)\n",
        "    correct_tensor = pred.eq(target.data.view_as(pred))\n",
        "    \n",
        "    correct = np.squeeze(correct_tensor.numpy()) if not train_on_gpu else np.squeeze(correct_tensor.cpu().numpy())\n",
        "    for i in range(1,batch_size): \n",
        "        label = target.data[i-1]\n",
        "        class_correct[label] += correct[i].item()\n",
        "        class_total[label] +=1\n",
        "    \n",
        "test_loss = test_loss/len(test_dataloader.dataset)\n",
        "print('Test Loss: {:.6f}\\n'.format(test_loss))\n",
        "\n",
        "for i in range(0,10):\n",
        "    if class_total[i]>0:\n",
        "        print('Test Accuracy of %5s: %2d%% (%2d/%2d)' %( classes[i], 100*class_correct[i]/class_total[i], np.sum(class_correct[i]), np.sum(class_total[i])))\n",
        "    else:\n",
        "        print('Test Accuracy of %5s: N/A (no training examples)' % (classes[i]))\n",
        "\n",
        "print('\\nTest Accuracy (Overall): %2d%% (%2d/%2d)' % (100. * np.sum(class_correct) / np.sum(class_total), np.sum(class_correct), np.sum(class_total)))"
      ],
      "execution_count": 0,
      "outputs": [
        {
          "output_type": "stream",
          "text": [
            "Test Loss: 0.267555\n",
            "\n",
            "Test Accuracy of monkey1: 61% (16/26)\n",
            "Test Accuracy of monkey2: 66% (20/30)\n",
            "Test Accuracy of monkey3: 65% (13/20)\n",
            "Test Accuracy of monkey4: 82% (24/29)\n",
            "Test Accuracy of monkey5: 67% (21/31)\n",
            "Test Accuracy of monkey6: 76% (19/25)\n",
            "Test Accuracy of monkey7: 71% (20/28)\n",
            "Test Accuracy of monkey8: 59% (16/27)\n",
            "Test Accuracy of monkey9: 71% (23/32)\n",
            "Test Accuracy of monkey10: 70% (17/24)\n",
            "\n",
            "Test Accuracy (Overall): 69% (189/272)\n"
          ],
          "name": "stdout"
        }
      ]
    },
    {
      "cell_type": "markdown",
      "metadata": {
        "id": "SOgGJJ-0sfyg",
        "colab_type": "text"
      },
      "source": [
        "## Trial 3: LR = 0.0001"
      ]
    },
    {
      "cell_type": "code",
      "metadata": {
        "id": "c6v3CsPisl5G",
        "colab_type": "code",
        "outputId": "15ff7bc8-6416-4f85-98fa-a50154c456c4",
        "colab": {
          "base_uri": "https://localhost:8080/",
          "height": 238
        }
      },
      "source": [
        "#Define the model\n",
        "\n",
        "MonkeyClassifier3 = MonkeySpeciesCNN()\n",
        "#Print the model\n",
        "print(MonkeyClassifier3)\n"
      ],
      "execution_count": 0,
      "outputs": [
        {
          "output_type": "stream",
          "text": [
            "MonkeySpeciesCNN(\n",
            "  (conv1): Conv2d(3, 16, kernel_size=(4, 4), stride=(2, 2), padding=(1, 1))\n",
            "  (conv1_BN): BatchNorm2d(16, eps=1e-05, momentum=0.1, affine=True, track_running_stats=True)\n",
            "  (conv2): Conv2d(16, 32, kernel_size=(3, 3), stride=(1, 1), padding=(1, 1))\n",
            "  (conv2_BN): BatchNorm2d(32, eps=1e-05, momentum=0.1, affine=True, track_running_stats=True)\n",
            "  (conv3): Conv2d(32, 64, kernel_size=(3, 3), stride=(1, 1), padding=(1, 1))\n",
            "  (conv3_BN): BatchNorm2d(64, eps=1e-05, momentum=0.1, affine=True, track_running_stats=True)\n",
            "  (pool): MaxPool2d(kernel_size=2, stride=2, padding=0, dilation=1, ceil_mode=False)\n",
            "  (fc1): Linear(in_features=4096, out_features=100, bias=True)\n",
            "  (fc2): Linear(in_features=100, out_features=1000, bias=True)\n",
            "  (fc3): Linear(in_features=1000, out_features=10, bias=True)\n",
            "  (dropout): Dropout(p=0.25)\n",
            ")\n"
          ],
          "name": "stdout"
        }
      ]
    },
    {
      "cell_type": "code",
      "metadata": {
        "id": "O7aki1lCsquO",
        "colab_type": "code",
        "outputId": "861db40b-8122-49da-9b7e-720b34c5f595",
        "colab": {
          "base_uri": "https://localhost:8080/",
          "height": 238
        }
      },
      "source": [
        "#Define the Criterion, Optimizer, and move the model to the GPU\n",
        "\n",
        "device = torch.device(\"cuda\" if torch.cuda.is_available() else \"cpu\")\n",
        "criterion = nn.CrossEntropyLoss()\n",
        "optimizer3 = optim.Adam(MonkeyClassifier3.parameters(), lr=0.0001)\n",
        "MonkeyClassifier3.to(device)"
      ],
      "execution_count": 0,
      "outputs": [
        {
          "output_type": "execute_result",
          "data": {
            "text/plain": [
              "MonkeySpeciesCNN(\n",
              "  (conv1): Conv2d(3, 16, kernel_size=(4, 4), stride=(2, 2), padding=(1, 1))\n",
              "  (conv1_BN): BatchNorm2d(16, eps=1e-05, momentum=0.1, affine=True, track_running_stats=True)\n",
              "  (conv2): Conv2d(16, 32, kernel_size=(3, 3), stride=(1, 1), padding=(1, 1))\n",
              "  (conv2_BN): BatchNorm2d(32, eps=1e-05, momentum=0.1, affine=True, track_running_stats=True)\n",
              "  (conv3): Conv2d(32, 64, kernel_size=(3, 3), stride=(1, 1), padding=(1, 1))\n",
              "  (conv3_BN): BatchNorm2d(64, eps=1e-05, momentum=0.1, affine=True, track_running_stats=True)\n",
              "  (pool): MaxPool2d(kernel_size=2, stride=2, padding=0, dilation=1, ceil_mode=False)\n",
              "  (fc1): Linear(in_features=4096, out_features=100, bias=True)\n",
              "  (fc2): Linear(in_features=100, out_features=1000, bias=True)\n",
              "  (fc3): Linear(in_features=1000, out_features=10, bias=True)\n",
              "  (dropout): Dropout(p=0.25)\n",
              ")"
            ]
          },
          "metadata": {
            "tags": []
          },
          "execution_count": 28
        }
      ]
    },
    {
      "cell_type": "code",
      "metadata": {
        "id": "Ulywiy-FsxI2",
        "colab_type": "code",
        "outputId": "c2043d22-ab79-4c9a-8b3a-3122d42f8fb6",
        "colab": {
          "base_uri": "https://localhost:8080/",
          "height": 1000
        }
      },
      "source": [
        "#Train the model\n",
        "\n",
        "n_epochs = 45\n",
        "\n",
        "trainLossList3 = []\n",
        "validLossList3 = []\n",
        "\n",
        "for epoch in range(n_epochs):\n",
        "    train_loss = 0.0\n",
        "    valid_loss = 0.0\n",
        "    #Train the model on the training data\n",
        "    MonkeyClassifier3.train()\n",
        "    for inputs, labels in train_dataloader:\n",
        "        inputs, labels = inputs.to(device), labels.to(device)\n",
        "        optimizer3.zero_grad()\n",
        "        logps = MonkeyClassifier3(inputs)\n",
        "        loss = criterion(logps, labels)\n",
        "        loss.backward()\n",
        "        optimizer3.step()\n",
        "        train_loss += loss.item()*inputs.size(0)\n",
        "        \n",
        "    train_loss = train_loss/len(train_dataloader.dataset)\n",
        "    \n",
        "    #Validate the model on the validation data\n",
        "    MonkeyClassifier3.eval()\n",
        "    for vinputs, vlabels in valid_dataloader:\n",
        "        vinputs, vlabels = vinputs.to(device), vlabels.to(device)\n",
        "        output = MonkeyClassifier3(vinputs)\n",
        "        vloss = criterion(output,vlabels)\n",
        "        valid_loss += vloss.item()*vinputs.size(0)\n",
        "    valid_loss = valid_loss/len(valid_dataloader.dataset)\n",
        "    \n",
        "    if epoch != 0:\n",
        "        trainLossList3.append(train_loss)\n",
        "        validLossList3.append(valid_loss)\n",
        "        \n",
        "    \n",
        "    \n",
        "    print('Epoch: {} \\tTraining Loss: {:.6f} \\tValidation Loss: {:.6f}'.format(epoch,train_loss, valid_loss))\n",
        "    \n",
        "#Save the network weights\n",
        "torch.save(MonkeyClassifier3.state_dict(), 'monkeyModelWeightsTrial3.pth')\n",
        "\n",
        "\n",
        "\n",
        "fig = plt.figure()\n",
        "ax = fig.add_subplot(111)\n",
        "plt.plot(np.arange(len(trainLossList3)), trainLossList3, 'b')\n",
        "plt.plot(np.arange(len(validLossList3)), validLossList3, 'g')\n",
        "plt.ylabel('Training and Validation Loss')\n",
        "plt.xlabel('Epoch Number')\n",
        "plt.title('Training and Validation Loss over 45 Epochs for Trial 3: LR=0.0001')\n",
        "plt.show()\n"
      ],
      "execution_count": 0,
      "outputs": [
        {
          "output_type": "stream",
          "text": [
            "Epoch: 0 \tTraining Loss: 1.724085 \tValidation Loss: 2.302453\n",
            "Epoch: 1 \tTraining Loss: 1.700925 \tValidation Loss: 2.299079\n",
            "Epoch: 2 \tTraining Loss: 1.680841 \tValidation Loss: 2.288067\n",
            "Epoch: 3 \tTraining Loss: 1.643960 \tValidation Loss: 2.257789\n",
            "Epoch: 4 \tTraining Loss: 1.600391 \tValidation Loss: 2.199277\n",
            "Epoch: 5 \tTraining Loss: 1.560425 \tValidation Loss: 2.116315\n",
            "Epoch: 6 \tTraining Loss: 1.517464 \tValidation Loss: 2.034925\n",
            "Epoch: 7 \tTraining Loss: 1.476469 \tValidation Loss: 1.963131\n",
            "Epoch: 8 \tTraining Loss: 1.447319 \tValidation Loss: 1.898164\n",
            "Epoch: 9 \tTraining Loss: 1.393238 \tValidation Loss: 1.848533\n",
            "Epoch: 10 \tTraining Loss: 1.371459 \tValidation Loss: 1.809134\n",
            "Epoch: 11 \tTraining Loss: 1.334910 \tValidation Loss: 1.773200\n",
            "Epoch: 12 \tTraining Loss: 1.299316 \tValidation Loss: 1.752855\n",
            "Epoch: 13 \tTraining Loss: 1.285208 \tValidation Loss: 1.718356\n",
            "Epoch: 14 \tTraining Loss: 1.277493 \tValidation Loss: 1.684097\n",
            "Epoch: 15 \tTraining Loss: 1.236933 \tValidation Loss: 1.666068\n",
            "Epoch: 16 \tTraining Loss: 1.221699 \tValidation Loss: 1.638128\n",
            "Epoch: 17 \tTraining Loss: 1.203404 \tValidation Loss: 1.604425\n",
            "Epoch: 18 \tTraining Loss: 1.163211 \tValidation Loss: 1.570779\n",
            "Epoch: 19 \tTraining Loss: 1.165774 \tValidation Loss: 1.552097\n",
            "Epoch: 20 \tTraining Loss: 1.119459 \tValidation Loss: 1.512168\n",
            "Epoch: 21 \tTraining Loss: 1.088749 \tValidation Loss: 1.488170\n",
            "Epoch: 22 \tTraining Loss: 1.070556 \tValidation Loss: 1.465959\n",
            "Epoch: 23 \tTraining Loss: 1.048932 \tValidation Loss: 1.434293\n",
            "Epoch: 24 \tTraining Loss: 1.050483 \tValidation Loss: 1.399345\n",
            "Epoch: 25 \tTraining Loss: 1.014741 \tValidation Loss: 1.383961\n",
            "Epoch: 26 \tTraining Loss: 1.017951 \tValidation Loss: 1.372135\n",
            "Epoch: 27 \tTraining Loss: 0.981023 \tValidation Loss: 1.341467\n",
            "Epoch: 28 \tTraining Loss: 0.964691 \tValidation Loss: 1.319414\n",
            "Epoch: 29 \tTraining Loss: 0.957113 \tValidation Loss: 1.303664\n",
            "Epoch: 30 \tTraining Loss: 0.936585 \tValidation Loss: 1.291749\n",
            "Epoch: 31 \tTraining Loss: 0.929870 \tValidation Loss: 1.282507\n",
            "Epoch: 32 \tTraining Loss: 0.908263 \tValidation Loss: 1.267169\n",
            "Epoch: 33 \tTraining Loss: 0.901813 \tValidation Loss: 1.251213\n",
            "Epoch: 34 \tTraining Loss: 0.872779 \tValidation Loss: 1.240580\n",
            "Epoch: 35 \tTraining Loss: 0.870788 \tValidation Loss: 1.228840\n",
            "Epoch: 36 \tTraining Loss: 0.848659 \tValidation Loss: 1.211813\n",
            "Epoch: 37 \tTraining Loss: 0.846777 \tValidation Loss: 1.197449\n",
            "Epoch: 38 \tTraining Loss: 0.820454 \tValidation Loss: 1.195620\n",
            "Epoch: 39 \tTraining Loss: 0.830393 \tValidation Loss: 1.185187\n",
            "Epoch: 40 \tTraining Loss: 0.812375 \tValidation Loss: 1.173101\n",
            "Epoch: 41 \tTraining Loss: 0.783333 \tValidation Loss: 1.164900\n",
            "Epoch: 42 \tTraining Loss: 0.796837 \tValidation Loss: 1.163008\n",
            "Epoch: 43 \tTraining Loss: 0.774767 \tValidation Loss: 1.156994\n",
            "Epoch: 44 \tTraining Loss: 0.777457 \tValidation Loss: 1.135318\n"
          ],
          "name": "stdout"
        },
        {
          "output_type": "display_data",
          "data": {
            "image/png": "[encoded data removed]",
            "text/plain": [
              "<Figure size 432x288 with 1 Axes>"
            ]
          },
          "metadata": {
            "tags": []
          }
        }
      ]
    },
    {
      "cell_type": "code",
      "metadata": {
        "id": "ZqxhcqqqtHP_",
        "colab_type": "code",
        "colab": {}
      },
      "source": [
        "files.download('monkeyModelWeightsTrial3.pth')"
      ],
      "execution_count": 0,
      "outputs": []
    },
    {
      "cell_type": "code",
      "metadata": {
        "id": "NamZBblbtNIA",
        "colab_type": "code",
        "outputId": "aedd6da3-03f5-4c0b-9891-37a4c0236bf8",
        "colab": {
          "base_uri": "https://localhost:8080/",
          "height": 255
        }
      },
      "source": [
        "# Predict classes for Test Dataset \n",
        "\n",
        "test_loss = 0.0\n",
        "class_correct = list(0. for i in range(10))\n",
        "class_total = list(0. for i in range(10))\n",
        "\n",
        "\n",
        "MonkeyClassifier3.eval()\n",
        "\n",
        "for data, target in test_dataloader:\n",
        "    data, target = data.cuda(), target.cuda()\n",
        "    output = MonkeyClassifier3(data)\n",
        "    loss = criterion(output, target)\n",
        "\n",
        "    test_loss += loss.item()*data.size(0)\n",
        "    _, pred = torch.max(output,1)\n",
        "    correct_tensor = pred.eq(target.data.view_as(pred))\n",
        "    \n",
        "    correct = np.squeeze(correct_tensor.numpy()) if not train_on_gpu else np.squeeze(correct_tensor.cpu().numpy())\n",
        "    for i in range(1,batch_size): \n",
        "        label = target.data[i-1]\n",
        "        class_correct[label] += correct[i].item()\n",
        "        class_total[label] +=1\n",
        "    \n",
        "test_loss = test_loss/len(test_dataloader.dataset)\n",
        "print('Test Loss: {:.6f}\\n'.format(test_loss))\n",
        "\n",
        "for i in range(0,10):\n",
        "    if class_total[i]>0:\n",
        "        print('Test Accuracy of %5s: %2d%% (%2d/%2d)' %( classes[i], 100*class_correct[i]/class_total[i], np.sum(class_correct[i]), np.sum(class_total[i])))\n",
        "    else:\n",
        "        print('Test Accuracy of %5s: N/A (no training examples)' % (classes[i]))\n",
        "\n",
        "print('\\nTest Accuracy (Overall): %2d%% (%2d/%2d)' % (100. * np.sum(class_correct) / np.sum(class_total), np.sum(class_correct), np.sum(class_total)))"
      ],
      "execution_count": 0,
      "outputs": [
        {
          "output_type": "stream",
          "text": [
            "Test Loss: 0.259393\n",
            "\n",
            "Test Accuracy of monkey1: 76% (20/26)\n",
            "Test Accuracy of monkey2: 54% (17/31)\n",
            "Test Accuracy of monkey3: 75% (15/20)\n",
            "Test Accuracy of monkey4: 64% (18/28)\n",
            "Test Accuracy of monkey5: 60% (18/30)\n",
            "Test Accuracy of monkey6: 64% (16/25)\n",
            "Test Accuracy of monkey7: 72% (21/29)\n",
            "Test Accuracy of monkey8: 74% (20/27)\n",
            "Test Accuracy of monkey9: 56% (18/32)\n",
            "Test Accuracy of monkey10: 70% (17/24)\n",
            "\n",
            "Test Accuracy (Overall): 66% (180/272)\n"
          ],
          "name": "stdout"
        }
      ]
    },
    {
      "cell_type": "markdown",
      "metadata": {
        "id": "qLM4-YGjth5Y",
        "colab_type": "text"
      },
      "source": [
        "## Trial 4: LR = 0.00001"
      ]
    },
    {
      "cell_type": "code",
      "metadata": {
        "id": "gbmhjz76tnzI",
        "colab_type": "code",
        "outputId": "9868ee09-015f-4646-aebf-f9251f6b8e01",
        "colab": {
          "base_uri": "https://localhost:8080/",
          "height": 238
        }
      },
      "source": [
        "#Define the model\n",
        "\n",
        "MonkeyClassifier4 = MonkeySpeciesCNN()\n",
        "#Print the model\n",
        "print(MonkeyClassifier4)"
      ],
      "execution_count": 0,
      "outputs": [
        {
          "output_type": "stream",
          "text": [
            "MonkeySpeciesCNN(\n",
            "  (conv1): Conv2d(3, 16, kernel_size=(4, 4), stride=(2, 2), padding=(1, 1))\n",
            "  (conv1_BN): BatchNorm2d(16, eps=1e-05, momentum=0.1, affine=True, track_running_stats=True)\n",
            "  (conv2): Conv2d(16, 32, kernel_size=(3, 3), stride=(1, 1), padding=(1, 1))\n",
            "  (conv2_BN): BatchNorm2d(32, eps=1e-05, momentum=0.1, affine=True, track_running_stats=True)\n",
            "  (conv3): Conv2d(32, 64, kernel_size=(3, 3), stride=(1, 1), padding=(1, 1))\n",
            "  (conv3_BN): BatchNorm2d(64, eps=1e-05, momentum=0.1, affine=True, track_running_stats=True)\n",
            "  (pool): MaxPool2d(kernel_size=2, stride=2, padding=0, dilation=1, ceil_mode=False)\n",
            "  (fc1): Linear(in_features=4096, out_features=100, bias=True)\n",
            "  (fc2): Linear(in_features=100, out_features=1000, bias=True)\n",
            "  (fc3): Linear(in_features=1000, out_features=10, bias=True)\n",
            "  (dropout): Dropout(p=0.25)\n",
            ")\n"
          ],
          "name": "stdout"
        }
      ]
    },
    {
      "cell_type": "code",
      "metadata": {
        "id": "VYezdtpDttA6",
        "colab_type": "code",
        "outputId": "6b5e4733-de1b-4e92-e6ff-97f88d3dce36",
        "colab": {
          "base_uri": "https://localhost:8080/",
          "height": 238
        }
      },
      "source": [
        "#Define the Criterion, Optimizer, and move the model to the GPU\n",
        "\n",
        "device = torch.device(\"cuda\" if torch.cuda.is_available() else \"cpu\")\n",
        "criterion = nn.CrossEntropyLoss()\n",
        "optimizer4 = optim.Adam(MonkeyClassifier4.parameters(), lr=0.00001)\n",
        "MonkeyClassifier4.to(device)"
      ],
      "execution_count": 0,
      "outputs": [
        {
          "output_type": "execute_result",
          "data": {
            "text/plain": [
              "MonkeySpeciesCNN(\n",
              "  (conv1): Conv2d(3, 16, kernel_size=(4, 4), stride=(2, 2), padding=(1, 1))\n",
              "  (conv1_BN): BatchNorm2d(16, eps=1e-05, momentum=0.1, affine=True, track_running_stats=True)\n",
              "  (conv2): Conv2d(16, 32, kernel_size=(3, 3), stride=(1, 1), padding=(1, 1))\n",
              "  (conv2_BN): BatchNorm2d(32, eps=1e-05, momentum=0.1, affine=True, track_running_stats=True)\n",
              "  (conv3): Conv2d(32, 64, kernel_size=(3, 3), stride=(1, 1), padding=(1, 1))\n",
              "  (conv3_BN): BatchNorm2d(64, eps=1e-05, momentum=0.1, affine=True, track_running_stats=True)\n",
              "  (pool): MaxPool2d(kernel_size=2, stride=2, padding=0, dilation=1, ceil_mode=False)\n",
              "  (fc1): Linear(in_features=4096, out_features=100, bias=True)\n",
              "  (fc2): Linear(in_features=100, out_features=1000, bias=True)\n",
              "  (fc3): Linear(in_features=1000, out_features=10, bias=True)\n",
              "  (dropout): Dropout(p=0.25)\n",
              ")"
            ]
          },
          "metadata": {
            "tags": []
          },
          "execution_count": 33
        }
      ]
    },
    {
      "cell_type": "code",
      "metadata": {
        "id": "ppLBcFVZt2Xo",
        "colab_type": "code",
        "outputId": "1fa87812-167b-42ab-81ec-dce67c8c98ab",
        "colab": {
          "base_uri": "https://localhost:8080/",
          "height": 1000
        }
      },
      "source": [
        "#Train the model\n",
        "\n",
        "n_epochs = 45\n",
        "\n",
        "trainLossList4 = []\n",
        "validLossList4 = []\n",
        "\n",
        "for epoch in range(n_epochs):\n",
        "    train_loss = 0.0\n",
        "    valid_loss = 0.0\n",
        "    #Train the model on the training data\n",
        "    MonkeyClassifier4.train()\n",
        "    for inputs, labels in train_dataloader:\n",
        "        inputs, labels = inputs.to(device), labels.to(device)\n",
        "        optimizer4.zero_grad()\n",
        "        logps = MonkeyClassifier4(inputs)\n",
        "        loss = criterion(logps, labels)\n",
        "        loss.backward()\n",
        "        optimizer4.step()\n",
        "        train_loss += loss.item()*inputs.size(0)\n",
        "        \n",
        "    train_loss = train_loss/len(train_dataloader.dataset)\n",
        "    \n",
        "    #Validate the model on the validation data\n",
        "    MonkeyClassifier4.eval()\n",
        "    for vinputs, vlabels in valid_dataloader:\n",
        "        vinputs, vlabels = vinputs.to(device), vlabels.to(device)\n",
        "        output = MonkeyClassifier4(vinputs)\n",
        "        vloss = criterion(output,vlabels)\n",
        "        valid_loss += vloss.item()*vinputs.size(0)\n",
        "    valid_loss = valid_loss/len(valid_dataloader.dataset)\n",
        "    \n",
        "    if epoch != 0:\n",
        "        trainLossList4.append(train_loss)\n",
        "        validLossList4.append(valid_loss)\n",
        "        \n",
        "    \n",
        "    \n",
        "    print('Epoch: {} \\tTraining Loss: {:.6f} \\tValidation Loss: {:.6f}'.format(epoch,train_loss, valid_loss))\n",
        "    \n",
        "#Save the network weights\n",
        "torch.save(MonkeyClassifier4.state_dict(), 'monkeyModelWeightsTrial4.pth')\n",
        "\n",
        "\n",
        "\n",
        "fig = plt.figure()\n",
        "ax = fig.add_subplot(111)\n",
        "plt.plot(np.arange(len(trainLossList4)), trainLossList4, 'b')\n",
        "plt.plot(np.arange(len(validLossList4)), validLossList4, 'g')\n",
        "plt.ylabel('Training and Validation Loss')\n",
        "plt.xlabel('Epoch Number')\n",
        "plt.title('Training and Validation Loss over 45 Epochs for Trial 4: LR=0.00001')\n",
        "plt.show()"
      ],
      "execution_count": 0,
      "outputs": [
        {
          "output_type": "stream",
          "text": [
            "Epoch: 0 \tTraining Loss: 1.734897 \tValidation Loss: 2.303103\n",
            "Epoch: 1 \tTraining Loss: 1.727949 \tValidation Loss: 2.302971\n",
            "Epoch: 2 \tTraining Loss: 1.727664 \tValidation Loss: 2.302400\n",
            "Epoch: 3 \tTraining Loss: 1.726247 \tValidation Loss: 2.300874\n",
            "Epoch: 4 \tTraining Loss: 1.721569 \tValidation Loss: 2.298420\n",
            "Epoch: 5 \tTraining Loss: 1.720898 \tValidation Loss: 2.295191\n",
            "Epoch: 6 \tTraining Loss: 1.717581 \tValidation Loss: 2.291751\n",
            "Epoch: 7 \tTraining Loss: 1.718390 \tValidation Loss: 2.288402\n",
            "Epoch: 8 \tTraining Loss: 1.718181 \tValidation Loss: 2.285232\n",
            "Epoch: 9 \tTraining Loss: 1.715976 \tValidation Loss: 2.282221\n",
            "Epoch: 10 \tTraining Loss: 1.713383 \tValidation Loss: 2.279407\n",
            "Epoch: 11 \tTraining Loss: 1.714162 \tValidation Loss: 2.276607\n",
            "Epoch: 12 \tTraining Loss: 1.707940 \tValidation Loss: 2.273879\n",
            "Epoch: 13 \tTraining Loss: 1.704306 \tValidation Loss: 2.271077\n",
            "Epoch: 14 \tTraining Loss: 1.707089 \tValidation Loss: 2.268115\n",
            "Epoch: 15 \tTraining Loss: 1.698335 \tValidation Loss: 2.264874\n",
            "Epoch: 16 \tTraining Loss: 1.700258 \tValidation Loss: 2.261360\n",
            "Epoch: 17 \tTraining Loss: 1.696272 \tValidation Loss: 2.257850\n",
            "Epoch: 18 \tTraining Loss: 1.692434 \tValidation Loss: 2.254012\n",
            "Epoch: 19 \tTraining Loss: 1.688132 \tValidation Loss: 2.250072\n",
            "Epoch: 20 \tTraining Loss: 1.687067 \tValidation Loss: 2.245784\n",
            "Epoch: 21 \tTraining Loss: 1.683946 \tValidation Loss: 2.241418\n",
            "Epoch: 22 \tTraining Loss: 1.680985 \tValidation Loss: 2.236921\n",
            "Epoch: 23 \tTraining Loss: 1.678009 \tValidation Loss: 2.231880\n",
            "Epoch: 24 \tTraining Loss: 1.669406 \tValidation Loss: 2.226367\n",
            "Epoch: 25 \tTraining Loss: 1.665442 \tValidation Loss: 2.220621\n",
            "Epoch: 26 \tTraining Loss: 1.667795 \tValidation Loss: 2.214565\n",
            "Epoch: 27 \tTraining Loss: 1.661559 \tValidation Loss: 2.208184\n",
            "Epoch: 28 \tTraining Loss: 1.651003 \tValidation Loss: 2.201899\n",
            "Epoch: 29 \tTraining Loss: 1.647732 \tValidation Loss: 2.195119\n",
            "Epoch: 30 \tTraining Loss: 1.650544 \tValidation Loss: 2.188164\n",
            "Epoch: 31 \tTraining Loss: 1.634731 \tValidation Loss: 2.180872\n",
            "Epoch: 32 \tTraining Loss: 1.632061 \tValidation Loss: 2.173295\n",
            "Epoch: 33 \tTraining Loss: 1.634582 \tValidation Loss: 2.165747\n",
            "Epoch: 34 \tTraining Loss: 1.629227 \tValidation Loss: 2.158303\n",
            "Epoch: 35 \tTraining Loss: 1.611063 \tValidation Loss: 2.150529\n",
            "Epoch: 36 \tTraining Loss: 1.611343 \tValidation Loss: 2.142408\n",
            "Epoch: 37 \tTraining Loss: 1.606560 \tValidation Loss: 2.134370\n",
            "Epoch: 38 \tTraining Loss: 1.599775 \tValidation Loss: 2.125975\n",
            "Epoch: 39 \tTraining Loss: 1.590703 \tValidation Loss: 2.117400\n",
            "Epoch: 40 \tTraining Loss: 1.587742 \tValidation Loss: 2.109013\n",
            "Epoch: 41 \tTraining Loss: 1.576848 \tValidation Loss: 2.100221\n",
            "Epoch: 42 \tTraining Loss: 1.571350 \tValidation Loss: 2.091895\n",
            "Epoch: 43 \tTraining Loss: 1.571921 \tValidation Loss: 2.083622\n",
            "Epoch: 44 \tTraining Loss: 1.557873 \tValidation Loss: 2.075335\n"
          ],
          "name": "stdout"
        },
        {
          "output_type": "display_data",
          "data": {
            "image/png": "[encoded data removed]",
            "text/plain": [
              "<Figure size 432x288 with 1 Axes>"
            ]
          },
          "metadata": {
            "tags": []
          }
        }
      ]
    },
    {
      "cell_type": "code",
      "metadata": {
        "id": "9acZQ1s8WHhB",
        "colab_type": "code",
        "colab": {}
      },
      "source": [
        "files.download('monkeyModelWeightsTrial4.pth')"
      ],
      "execution_count": 0,
      "outputs": []
    },
    {
      "cell_type": "code",
      "metadata": {
        "id": "xGLP34oiWN1r",
        "colab_type": "code",
        "outputId": "705dbb5e-f25f-41df-b030-2a7d0ef86b59",
        "colab": {
          "base_uri": "https://localhost:8080/",
          "height": 255
        }
      },
      "source": [
        "# Predict classes for Test Dataset \n",
        "\n",
        "test_loss = 0.0\n",
        "class_correct = list(0. for i in range(10))\n",
        "class_total = list(0. for i in range(10))\n",
        "\n",
        "\n",
        "MonkeyClassifier4.eval()\n",
        "\n",
        "for data, target in test_dataloader:\n",
        "    data, target = data.cuda(), target.cuda()\n",
        "    output = MonkeyClassifier4(data)\n",
        "    loss = criterion(output, target)\n",
        "\n",
        "    test_loss += loss.item()*data.size(0)\n",
        "    _, pred = torch.max(output,1)\n",
        "    correct_tensor = pred.eq(target.data.view_as(pred))\n",
        "    \n",
        "    correct = np.squeeze(correct_tensor.numpy()) if not train_on_gpu else np.squeeze(correct_tensor.cpu().numpy())\n",
        "    for i in range(1,batch_size): \n",
        "        label = target.data[i-1]\n",
        "        class_correct[label] += correct[i].item()\n",
        "        class_total[label] +=1\n",
        "    \n",
        "test_loss = test_loss/len(test_dataloader.dataset)\n",
        "print('Test Loss: {:.6f}\\n'.format(test_loss))\n",
        "\n",
        "for i in range(0,10):\n",
        "    if class_total[i]>0:\n",
        "        print('Test Accuracy of %5s: %2d%% (%2d/%2d)' %( classes[i], 100*class_correct[i]/class_total[i], np.sum(class_correct[i]), np.sum(class_total[i])))\n",
        "    else:\n",
        "        print('Test Accuracy of %5s: N/A (no training examples)' % (classes[i]))\n",
        "\n",
        "print('\\nTest Accuracy (Overall): %2d%% (%2d/%2d)' % (100. * np.sum(class_correct) / np.sum(class_total), np.sum(class_correct), np.sum(class_total)))"
      ],
      "execution_count": 0,
      "outputs": [
        {
          "output_type": "stream",
          "text": [
            "Test Loss: 0.513155\n",
            "\n",
            "Test Accuracy of monkey1: 15% ( 4/26)\n",
            "Test Accuracy of monkey2: 23% ( 7/30)\n",
            "Test Accuracy of monkey3: 30% ( 6/20)\n",
            "Test Accuracy of monkey4: 31% ( 9/29)\n",
            "Test Accuracy of monkey5: 38% (12/31)\n",
            "Test Accuracy of monkey6: 32% ( 8/25)\n",
            "Test Accuracy of monkey7: 24% ( 7/29)\n",
            "Test Accuracy of monkey8: 57% (15/26)\n",
            "Test Accuracy of monkey9: 15% ( 5/32)\n",
            "Test Accuracy of monkey10: 37% ( 9/24)\n",
            "\n",
            "Test Accuracy (Overall): 30% (82/272)\n"
          ],
          "name": "stdout"
        }
      ]
    },
    {
      "cell_type": "code",
      "metadata": {
        "id": "gNtJqrnYWaW5",
        "colab_type": "code",
        "outputId": "1994c306-96f4-45d3-c63a-40342cbc34ce",
        "colab": {
          "base_uri": "https://localhost:8080/",
          "height": 318
        }
      },
      "source": [
        "import seaborn as sns\n",
        "import pandas as pd\n",
        "sns.set(style=\"darkgrid\")\n",
        "#trainingLoss_df = pd.DataFrame(\n",
        "#                    { 'Model R1': trainingLossList1,\n",
        "#                      'Model R2': trainingLossList2,\n",
        "#                      'Model R3': trainingLossList3,\n",
        "#                      'Model R4': trainingLossList4\n",
        "#                      'Model R5': trainingLossList5\n",
        "#                    })\n",
        "\n",
        "trainingLoss_df = pd.DataFrame(list(zip(trainLossList1, trainLossList2, trainLossList3, trainLossList4)),\n",
        "                              columns = ['Model 1','Model 2','Model 3','Model 4'])\n",
        "palette = sns.color_palette(\"mako_r\", 4)\n",
        "ax = sns.lineplot(data=trainingLoss_df, palette=palette).set_title('Training Loss for Models 1-4')\n",
        "plt.xlabel('Epoch')\n",
        "plt.ylabel('Training Loss')\n",
        "\n"
      ],
      "execution_count": 0,
      "outputs": [
        {
          "output_type": "execute_result",
          "data": {
            "text/plain": [
              "Text(0, 0.5, 'Training Loss')"
            ]
          },
          "metadata": {
            "tags": []
          },
          "execution_count": 37
        },
        {
          "output_type": "display_data",
          "data": {
            "image/png": "[encoded data removed]",
            "text/plain": [
              "<Figure size 432x288 with 1 Axes>"
            ]
          },
          "metadata": {
            "tags": []
          }
        }
      ]
    },
    {
      "cell_type": "code",
      "metadata": {
        "id": "vEh4nkKlYznc",
        "colab_type": "code",
        "outputId": "b1d1a652-2129-48b6-d8fb-27c4b3c633dd",
        "colab": {
          "base_uri": "https://localhost:8080/",
          "height": 318
        }
      },
      "source": [
        "validLoss_df = pd.DataFrame(list(zip(validLossList1, validLossList2, validLossList3, validLossList4)),\n",
        "                              columns = ['Model 1','Model 2','Model 3','Model 4'])\n",
        "palette = sns.color_palette(\"mako_r\", 4)\n",
        "ax = sns.lineplot(data=validLoss_df, palette=palette).set_title('Validation Loss for Models 1-4')\n",
        "plt.xlabel('Epoch')\n",
        "plt.ylabel('Validation Loss')\n"
      ],
      "execution_count": 0,
      "outputs": [
        {
          "output_type": "execute_result",
          "data": {
            "text/plain": [
              "Text(0, 0.5, 'Validation Loss')"
            ]
          },
          "metadata": {
            "tags": []
          },
          "execution_count": 38
        },
        {
          "output_type": "display_data",
          "data": {
            "image/png": "[encoded data removed]",
            "text/plain": [
              "<Figure size 432x288 with 1 Axes>"
            ]
          },
          "metadata": {
            "tags": []
          }
        }
      ]
    }
  ]
}