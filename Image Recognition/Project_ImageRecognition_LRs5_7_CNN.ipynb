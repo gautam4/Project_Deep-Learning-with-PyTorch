{
  "nbformat": 4,
  "nbformat_minor": 0,
  "metadata": {
    "colab": {
      "name": "Project_ImageRecognition_LRs5-7_CNN.ipynb",
      "version": "0.3.2",
      "provenance": [],
      "collapsed_sections": []
    },
    "kernelspec": {
      "name": "python3",
      "display_name": "Python 3"
    },
    "accelerator": "GPU"
  },
  "cells": [
    {
      "cell_type": "markdown",
      "metadata": {
        "id": "EokjmJEFmrpL",
        "colab_type": "text"
      },
      "source": [
        "# Project Image Recognition:  CNN classifier for 10 monkey species \n",
        "\n",
        "## Introduction\n",
        "\n",
        "* This project uses data publically available through Kaggle. The data involves 1300-1400 images of 10 different monkey species. Each image has a size of 400x300 or more size. The original data can be found at the following source. \n",
        "    * Source: https://www.kaggle.com/slothkong/10-monkey-species\n",
        "\n",
        "* The ten monkey species are listed below. \n",
        "\n",
        "| Species Name | Common Name |\n",
        "                  | ------  | ------ |\n",
        "  | Alouatta Palliata |         Mantled Howler |\n",
        "| Erythrocebus Patas\t|  Patas Monkey |\n",
        "| Cacajao Calvus | Bald Uakari |\n",
        "| Macaca Fuscata | Japanese Macaque |\n",
        "| Cebuella Pygmea | Pygmy Marmoset |\n",
        "| Cebus Capucinus | White Headed Capuchin |\n",
        "| Mico Argentatus | Silvery Marmoset |\n",
        "| Saimiri Sciureus | Common Squirrel Monkey |\n",
        "| Aotus Nigriceps\t| Black Headed Night Monkey |\n",
        "| Trachypithecus Johnii | Nilgiri Langur |\n",
        "\n",
        "* All of the classes have 131-152 images for training and 26-30 for Validation. More information on the dataset can be found at the Kaggle pace for the dataset.\n",
        "\n",
        "\n",
        "* This project applies a Convolutional Neural Network( CNN) model to the classification task to study fine grain classfication problems. Fine grain classifcation refers to the detailed classification problem rather than identifying a general class type such as monkey. \n",
        "\n",
        "## Design \n",
        "* To experiment and improve the deep learning model's performance, multiple models each with the same architecture and a different learning rate are instantiated, trained, and tested. \n",
        "    * The different learning rates for different models were divided into two sets of trials:\n",
        "        * Trials 1-4 were to find a high performance range of learning rates \n",
        "        * Trials 5-7 were to identify an optimal learning rate in that range\n",
        "    * The learning rates tested were:\n",
        "        * Trial 1: LR = 0.01\n",
        "        * Trial 2: LR = 0.001\n",
        "        * Trial 3: LR = 0.0001\n",
        "        * Trial 4: LR = 0.00001\n",
        "        \n",
        "        * Trial 5: LR = 0.0003\n",
        "        * Trial 6: LR = 0.0005\n",
        "        * Trial 7: LR = 0.0008\n",
        " \n",
        "* This notebook includes Trials 5-7"
      ]
    },
    {
      "cell_type": "markdown",
      "metadata": {
        "id": "fk-5BEMyIrGO",
        "colab_type": "text"
      },
      "source": [
        "### Install the required packages "
      ]
    },
    {
      "cell_type": "code",
      "metadata": {
        "id": "xfcXPDD7vjZO",
        "colab_type": "code",
        "outputId": "d9516102-8579-4c2c-e809-f013c324aabd",
        "colab": {
          "base_uri": "https://localhost:8080/",
          "height": 119
        }
      },
      "source": [
        "#Start by setting up PyTorch and other requirements\n",
        "!pip3 install torch torchvision"
      ],
      "execution_count": 1,
      "outputs": [
        {
          "output_type": "stream",
          "text": [
            "Requirement already satisfied: torch in /usr/local/lib/python3.6/dist-packages (1.1.0)\n",
            "Requirement already satisfied: torchvision in /usr/local/lib/python3.6/dist-packages (0.3.0)\n",
            "Requirement already satisfied: numpy in /usr/local/lib/python3.6/dist-packages (from torch) (1.16.4)\n",
            "Requirement already satisfied: six in /usr/local/lib/python3.6/dist-packages (from torchvision) (1.12.0)\n",
            "Requirement already satisfied: pillow>=4.1.1 in /usr/local/lib/python3.6/dist-packages (from torchvision) (4.3.0)\n",
            "Requirement already satisfied: olefile in /usr/local/lib/python3.6/dist-packages (from pillow>=4.1.1->torchvision) (0.46)\n"
          ],
          "name": "stdout"
        }
      ]
    },
    {
      "cell_type": "code",
      "metadata": {
        "id": "97uTFknmPpeP",
        "colab_type": "code",
        "outputId": "f04fdb66-0454-47ed-fea8-b9c6081063a5",
        "colab": {
          "base_uri": "https://localhost:8080/",
          "height": 51
        }
      },
      "source": [
        "#Import Statements\n",
        "import numpy as np\n",
        "import torch\n",
        "import torch.nn as nn\n",
        "import torch.nn.functional as F\n",
        "import torch.optim as optim\n",
        "import torchvision.transforms as transforms\n",
        "from torchvision import transforms, utils,datasets, models\n",
        "import PIL.Image\n",
        "from google.colab import files\n",
        "import zipfile\n",
        "import io\n",
        "from torch.utils.data.sampler import SubsetRandomSampler\n",
        "\n",
        "from matplotlib import pyplot as plt\n",
        "from google.colab import files\n",
        "\n",
        "print(\"All libraries have been imported successfully\")\n",
        "\n",
        "train_on_gpu = torch.cuda.is_available()\n",
        "\n",
        "if not train_on_gpu:\n",
        "    print(\"Training on CPU\")\n",
        "else:\n",
        "    print(\"Cuda is available. Training on GPU\")"
      ],
      "execution_count": 2,
      "outputs": [
        {
          "output_type": "stream",
          "text": [
            "All libraries have been imported successfully\n",
            "Cuda is available. Training on GPU\n"
          ],
          "name": "stdout"
        }
      ]
    },
    {
      "cell_type": "code",
      "metadata": {
        "id": "RmQAliWrzc1T",
        "colab_type": "code",
        "colab": {}
      },
      "source": [
        "#Load the training data zip\n",
        "uploaded = files.upload()\n"
      ],
      "execution_count": 0,
      "outputs": []
    },
    {
      "cell_type": "code",
      "metadata": {
        "id": "qsgOlWI_zqHQ",
        "colab_type": "code",
        "colab": {}
      },
      "source": [
        "#Unzip the training zip\n",
        "zf = zipfile.ZipFile(io.BytesIO(uploaded['train2.zip']), \"r\")\n",
        "zf.extractall()\n"
      ],
      "execution_count": 0,
      "outputs": []
    },
    {
      "cell_type": "code",
      "metadata": {
        "id": "WezeM_5ki2Yo",
        "colab_type": "code",
        "colab": {}
      },
      "source": [
        "#Load the validation data zip\n",
        "validloaded = files.upload()\n"
      ],
      "execution_count": 0,
      "outputs": []
    },
    {
      "cell_type": "code",
      "metadata": {
        "id": "BPAs8qwIjb89",
        "colab_type": "code",
        "colab": {}
      },
      "source": [
        "#Unzip the validation zip\n",
        "zf2 = zipfile.ZipFile(io.BytesIO(validloaded['valid.zip']), \"r\")\n",
        "zf2.extractall()"
      ],
      "execution_count": 0,
      "outputs": []
    },
    {
      "cell_type": "markdown",
      "metadata": {
        "id": "jRoXDQM4QTPc",
        "colab_type": "text"
      },
      "source": [
        "##  Building the Dataset\n",
        "\n",
        "* The training and test data are derived from the train.zip image dataset through random sampling. \n",
        "* The validation data is derived from the entirety of the valid.zip\n",
        "\n",
        "* Unique Ideas/Aspects\n",
        "    * The transforms normalize the train, test, and validation data to a range of [-2,2]. This wider than normal normalization was intentionally designed to increase the range of possible values for image pixels. This dataset in particular contains both drastically differing and overlapping class attributes for different monkey species. A wider normalization was chosen so that the increased range of possible values would allow for greater differentiation by the model for different image pixel values.\n"
      ]
    },
    {
      "cell_type": "code",
      "metadata": {
        "id": "ap6MFG6axSja",
        "colab_type": "code",
        "outputId": "67ce3567-31df-44cf-af74-963543a16a5a",
        "colab": {
          "base_uri": "https://localhost:8080/",
          "height": 34
        }
      },
      "source": [
        "#Create The test and train set\n",
        "\n",
        "#Parameters for Train/Test Splitting\n",
        "num_workers = 0\n",
        "batch_size= 137\n",
        "data_dir = 'train'\n",
        "test_size = 0.25\n",
        "\n",
        "#Tranforms for the training and test dataset\n",
        "#    The images are resized to 128x128. The random horizontal and vertical flip increase the learning potential of the network\n",
        "#    The Normalize function normalizes all values in the image matrix to [-2,2]. This greater range over the traditional [-1,1] or [0,1] was chosen \n",
        "#         to increase the range of possible values, which should allow further differentiation between different image pixel values\n",
        "data_train_transforms = transforms.Compose([transforms.Resize((128,128)), transforms.RandomHorizontalFlip(p=0.3),transforms.RandomVerticalFlip(p=0.3) , \n",
        "                                            transforms.ToTensor(), transforms.Normalize([0.5,0.5,0.5],[0.25,0.25,0.25])])\n",
        "data_test_transforms = transforms.Compose([transforms.Resize((128,128)), transforms.ToTensor(), transforms.Normalize([0.5,0.5,0.5],[0.25,0.25,0.25])])\n",
        "\n",
        "#Import the training Image folder. \n",
        "#Import the training Image folder a second time as 'test_data' because the transforms for the test and training set are different.\n",
        "train_data =  datasets.ImageFolder(data_dir, transform = data_train_transforms)\n",
        "test_data = datasets.ImageFolder(data_dir, transform = data_test_transforms)\n",
        "\n",
        "#Randomly split indices based on test_size fraction\n",
        "#Total 1096 images\n",
        "#Training: 822\n",
        "#Test: 274\n",
        "\n",
        "count_train = len(train_data)\n",
        "train_indices = list(range(count_train))\n",
        "np.random.shuffle(train_indices)\n",
        "traintestsplit = int(np.floor(test_size * count_train))\n",
        "traindata_idx, testdata_idx = train_indices[traintestsplit:], train_indices[:traintestsplit]\n",
        "\n",
        "train_sampler = SubsetRandomSampler(traindata_idx)\n",
        "test_sampler = SubsetRandomSampler(testdata_idx)\n",
        "\n",
        "#Create the training and test dataloaders\n",
        "train_dataloader = torch.utils.data.DataLoader(train_data, batch_size=batch_size, sampler = train_sampler, num_workers=num_workers)\n",
        "\n",
        "test_dataloader = torch.utils.data.DataLoader(test_data, batch_size=batch_size, sampler = test_sampler, num_workers = num_workers)\n",
        "print(\"The Train and Test dataloaders were created\")"
      ],
      "execution_count": 73,
      "outputs": [
        {
          "output_type": "stream",
          "text": [
            "The Train and Test dataloaders were created\n"
          ],
          "name": "stdout"
        }
      ]
    },
    {
      "cell_type": "code",
      "metadata": {
        "id": "E-egs9yS4M-b",
        "colab_type": "code",
        "outputId": "5b55a748-d254-4f2c-836a-0f122006d306",
        "colab": {
          "base_uri": "https://localhost:8080/",
          "height": 34
        }
      },
      "source": [
        "# Create the Validation dataset\n",
        "\n",
        "#Define the transforms for the dataset\n",
        "data_valid_transforms = transforms.Compose([transforms.Resize((128,128)), transforms.ToTensor(), transforms.Normalize([0.5,0.5,0.5],[0.25,0.25,0.25])])\n",
        "\n",
        "#Import the validation dataset\n",
        "valid_dir = 'valid'\n",
        "valid_data = datasets.ImageFolder(valid_dir, transform = data_valid_transforms)\n",
        "\n",
        "#Create the validation dataloader\n",
        "valid_dataloader = torch.utils.data.DataLoader(valid_data, batch_size= 90, shuffle=True)\n",
        "print(\"The Validation dataloader was defined\")"
      ],
      "execution_count": 8,
      "outputs": [
        {
          "output_type": "stream",
          "text": [
            "The Validation dataloader was defined\n"
          ],
          "name": "stdout"
        }
      ]
    },
    {
      "cell_type": "markdown",
      "metadata": {
        "id": "3-sli-lC_voU",
        "colab_type": "text"
      },
      "source": [
        "* The following training, validation and test datasets were created with their corresponding dataloaders\n",
        "\n",
        "\n",
        "\n",
        "             \n",
        "| Dataset | Images | \n",
        "      |------|------|\n",
        "|Training | 822 |\n",
        "| Test  | 274 |\n",
        "| Valid | 274 |\n",
        "| \n"
      ]
    },
    {
      "cell_type": "markdown",
      "metadata": {
        "id": "B53zASrG4NcH",
        "colab_type": "text"
      },
      "source": [
        "## Building the CNN Model\n"
      ]
    },
    {
      "cell_type": "code",
      "metadata": {
        "id": "ibEZvX4SlOaQ",
        "colab_type": "code",
        "outputId": "770e06f2-61f1-42dd-ac2b-b3cf07e73a16",
        "colab": {
          "base_uri": "https://localhost:8080/",
          "height": 34
        }
      },
      "source": [
        "#Define the CNN model\n",
        "\n",
        "class MonkeySpeciesCNN(nn.Module):\n",
        "    def __init__(self):\n",
        "        super(MonkeySpeciesCNN, self).__init__()\n",
        "        #Input is 128x128x3 tensor\n",
        "        self.conv1 = nn.Conv2d(3, 16,4, padding =1, stride =2)\n",
        "        #Batch Normalization on layer outputs\n",
        "        self.conv1_BN = nn.BatchNorm2d(16)\n",
        "        #Input is 64x64x16\n",
        "        \n",
        "        self.conv2 = nn.Conv2d(16, 32,3, padding =1)\n",
        "        self.conv2_BN = nn.BatchNorm2d(32)\n",
        "        #Input is 32x32x32 \n",
        "        self.conv3 = nn.Conv2d(32,64,3,  padding = 1)\n",
        "        self.conv3_BN = nn.BatchNorm2d(64)\n",
        "        #Output is 16x16x64\n",
        "        \n",
        "        #max pooling Layer\n",
        "        self.pool = nn.MaxPool2d(2,2)\n",
        "        #linear layer(4*4*512)\n",
        "        self.fc1 = nn.Linear(4096, 100)\n",
        "        self.fc2 = nn.Linear(100, 1000)\n",
        "        self.fc3 = nn.Linear(1000, 10)\n",
        "        self.dropout =  nn.Dropout(0.25)\n",
        "    \n",
        "    def forward(self,x):\n",
        "        x = self.pool(F.relu(self.conv1_BN(self.conv1(x))))\n",
        "        x = self.pool(F.relu(self.conv2_BN(self.conv2(x))))\n",
        "        x = self.pool(F.relu(self.conv3_BN(self.conv3(x))))\n",
        "        \n",
        "        x = x.view(-1,8*64*8)\n",
        "        x = self.dropout(x)\n",
        "        x = F.relu(self.fc1(x))\n",
        "        x = self.dropout(x)\n",
        "        x = F.relu(self.fc2(x))\n",
        "        x = self.dropout(x)\n",
        "        x = F.log_softmax(self.fc3(x),dim=1)\n",
        "        return x\n",
        "\n",
        "classes = ['monkey1', 'monkey2', 'monkey3', 'monkey4', 'monkey5', 'monkey6', 'monkey7',\n",
        "          'monkey8', 'monkey9','monkey10']\n",
        "\n",
        "print(\"The Monkey Species CNN class was successfully defined\")\n",
        "    "
      ],
      "execution_count": 9,
      "outputs": [
        {
          "output_type": "stream",
          "text": [
            "The Monkey Species CNN class was successfully defined\n"
          ],
          "name": "stdout"
        }
      ]
    },
    {
      "cell_type": "markdown",
      "metadata": {
        "id": "JwtX9QSjor9Y",
        "colab_type": "text"
      },
      "source": [
        "## Trial 5: LR = 0.0003"
      ]
    },
    {
      "cell_type": "code",
      "metadata": {
        "id": "gR1qhltzoSx_",
        "colab_type": "code",
        "outputId": "3ad16444-d142-4a26-f0a2-d4af6626e3cc",
        "colab": {
          "base_uri": "https://localhost:8080/",
          "height": 238
        }
      },
      "source": [
        "#Define the model\n",
        "#The following notation was used: \n",
        "#    MonkeyClassifier1: model for Trial 1(LR = 0.01)\n",
        "\n",
        "MonkeyClassifier5 = MonkeySpeciesCNN()\n",
        "#Print the model\n",
        "print(MonkeyClassifier5)\n"
      ],
      "execution_count": 10,
      "outputs": [
        {
          "output_type": "stream",
          "text": [
            "MonkeySpeciesCNN(\n",
            "  (conv1): Conv2d(3, 16, kernel_size=(4, 4), stride=(2, 2), padding=(1, 1))\n",
            "  (conv1_BN): BatchNorm2d(16, eps=1e-05, momentum=0.1, affine=True, track_running_stats=True)\n",
            "  (conv2): Conv2d(16, 32, kernel_size=(3, 3), stride=(1, 1), padding=(1, 1))\n",
            "  (conv2_BN): BatchNorm2d(32, eps=1e-05, momentum=0.1, affine=True, track_running_stats=True)\n",
            "  (conv3): Conv2d(32, 64, kernel_size=(3, 3), stride=(1, 1), padding=(1, 1))\n",
            "  (conv3_BN): BatchNorm2d(64, eps=1e-05, momentum=0.1, affine=True, track_running_stats=True)\n",
            "  (pool): MaxPool2d(kernel_size=2, stride=2, padding=0, dilation=1, ceil_mode=False)\n",
            "  (fc1): Linear(in_features=4096, out_features=100, bias=True)\n",
            "  (fc2): Linear(in_features=100, out_features=1000, bias=True)\n",
            "  (fc3): Linear(in_features=1000, out_features=10, bias=True)\n",
            "  (dropout): Dropout(p=0.25)\n",
            ")\n"
          ],
          "name": "stdout"
        }
      ]
    },
    {
      "cell_type": "code",
      "metadata": {
        "id": "xq_yHJcurzRM",
        "colab_type": "code",
        "outputId": "a299ebcb-f96d-4897-a5d0-aa3ae664715f",
        "colab": {
          "base_uri": "https://localhost:8080/",
          "height": 238
        }
      },
      "source": [
        "#Define the Criterion, Optimizer, and move the model to the GPU\n",
        "\n",
        "device = torch.device(\"cuda\" if torch.cuda.is_available() else \"cpu\")\n",
        "criterion = nn.CrossEntropyLoss()\n",
        "optimizer5 = optim.Adam(MonkeyClassifier5.parameters(), lr=0.0003)\n",
        "MonkeyClassifier5.to(device)\n",
        "\n"
      ],
      "execution_count": 11,
      "outputs": [
        {
          "output_type": "execute_result",
          "data": {
            "text/plain": [
              "MonkeySpeciesCNN(\n",
              "  (conv1): Conv2d(3, 16, kernel_size=(4, 4), stride=(2, 2), padding=(1, 1))\n",
              "  (conv1_BN): BatchNorm2d(16, eps=1e-05, momentum=0.1, affine=True, track_running_stats=True)\n",
              "  (conv2): Conv2d(16, 32, kernel_size=(3, 3), stride=(1, 1), padding=(1, 1))\n",
              "  (conv2_BN): BatchNorm2d(32, eps=1e-05, momentum=0.1, affine=True, track_running_stats=True)\n",
              "  (conv3): Conv2d(32, 64, kernel_size=(3, 3), stride=(1, 1), padding=(1, 1))\n",
              "  (conv3_BN): BatchNorm2d(64, eps=1e-05, momentum=0.1, affine=True, track_running_stats=True)\n",
              "  (pool): MaxPool2d(kernel_size=2, stride=2, padding=0, dilation=1, ceil_mode=False)\n",
              "  (fc1): Linear(in_features=4096, out_features=100, bias=True)\n",
              "  (fc2): Linear(in_features=100, out_features=1000, bias=True)\n",
              "  (fc3): Linear(in_features=1000, out_features=10, bias=True)\n",
              "  (dropout): Dropout(p=0.25)\n",
              ")"
            ]
          },
          "metadata": {
            "tags": []
          },
          "execution_count": 11
        }
      ]
    },
    {
      "cell_type": "code",
      "metadata": {
        "id": "rJmsdQVdIpj5",
        "colab_type": "code",
        "outputId": "8e45c43d-55a3-401a-c0fa-bba018245a4d",
        "colab": {
          "base_uri": "https://localhost:8080/",
          "height": 1000
        }
      },
      "source": [
        "#Train the model\n",
        "\n",
        "n_epochs = 45\n",
        "\n",
        "trainLossList5 = []\n",
        "validLossList5 = []\n",
        "\n",
        "for epoch in range(n_epochs):\n",
        "    train_loss = 0.0\n",
        "    valid_loss = 0.0\n",
        "    #Train the model on the training data\n",
        "    MonkeyClassifier5.train()\n",
        "    for inputs, labels in train_dataloader:\n",
        "        inputs, labels = inputs.to(device), labels.to(device)\n",
        "        optimizer5.zero_grad()\n",
        "        logps = MonkeyClassifier5(inputs)\n",
        "        loss = criterion(logps, labels)\n",
        "        loss.backward()\n",
        "        optimizer5.step()\n",
        "        train_loss += loss.item()*inputs.size(0)\n",
        "        \n",
        "    train_loss = train_loss/len(train_dataloader.dataset)\n",
        "    \n",
        "    #Validate the model on the validation data\n",
        "    MonkeyClassifier5.eval()\n",
        "    for vinputs, vlabels in valid_dataloader:\n",
        "        vinputs, vlabels = vinputs.to(device), vlabels.to(device)\n",
        "        output = MonkeyClassifier5(vinputs)\n",
        "        vloss = criterion(output,vlabels)\n",
        "        valid_loss += vloss.item()*vinputs.size(0)\n",
        "    valid_loss = valid_loss/len(valid_dataloader.dataset)\n",
        "    \n",
        "    if epoch != 0:\n",
        "        trainLossList5.append(train_loss)\n",
        "        validLossList5.append(valid_loss)\n",
        "        \n",
        "    \n",
        "    \n",
        "    print('Epoch: {} \\tTraining Loss: {:.6f} \\tValidation Loss: {:.6f}'.format(epoch,train_loss, valid_loss))\n",
        "    \n",
        "#Save the network weights\n",
        "torch.save(MonkeyClassifier5.state_dict(), 'monkeyModelWeightsTrial5.pth')\n",
        "\n",
        "\n",
        "\n",
        "fig = plt.figure()\n",
        "ax = fig.add_subplot(111)\n",
        "plt.plot(np.arange(len(trainLossList5)), trainLossList5, 'b')\n",
        "plt.plot(np.arange(len(validLossList5)), validLossList5, 'g')\n",
        "plt.ylabel('Training and Validation Loss')\n",
        "plt.xlabel('Epoch Number')\n",
        "plt.title('Training and Validation Loss over 45 Epochs for Trial 5: LR=0.0003')\n",
        "plt.show()\n",
        "\n"
      ],
      "execution_count": 12,
      "outputs": [
        {
          "output_type": "stream",
          "text": [
            "Epoch: 0 \tTraining Loss: 1.712295 \tValidation Loss: 2.300966\n",
            "Epoch: 1 \tTraining Loss: 1.655037 \tValidation Loss: 2.292962\n",
            "Epoch: 2 \tTraining Loss: 1.567093 \tValidation Loss: 2.262725\n",
            "Epoch: 3 \tTraining Loss: 1.479291 \tValidation Loss: 2.178980\n",
            "Epoch: 4 \tTraining Loss: 1.389610 \tValidation Loss: 1.988826\n",
            "Epoch: 5 \tTraining Loss: 1.294533 \tValidation Loss: 1.756897\n",
            "Epoch: 6 \tTraining Loss: 1.223239 \tValidation Loss: 1.618518\n",
            "Epoch: 7 \tTraining Loss: 1.152490 \tValidation Loss: 1.525982\n",
            "Epoch: 8 \tTraining Loss: 1.103458 \tValidation Loss: 1.465069\n",
            "Epoch: 9 \tTraining Loss: 1.037244 \tValidation Loss: 1.409920\n",
            "Epoch: 10 \tTraining Loss: 1.017383 \tValidation Loss: 1.381528\n",
            "Epoch: 11 \tTraining Loss: 0.994894 \tValidation Loss: 1.353882\n",
            "Epoch: 12 \tTraining Loss: 0.959624 \tValidation Loss: 1.342323\n",
            "Epoch: 13 \tTraining Loss: 0.929755 \tValidation Loss: 1.279999\n",
            "Epoch: 14 \tTraining Loss: 0.899934 \tValidation Loss: 1.290719\n",
            "Epoch: 15 \tTraining Loss: 0.871150 \tValidation Loss: 1.267558\n",
            "Epoch: 16 \tTraining Loss: 0.837833 \tValidation Loss: 1.235813\n",
            "Epoch: 17 \tTraining Loss: 0.830939 \tValidation Loss: 1.189289\n",
            "Epoch: 18 \tTraining Loss: 0.776491 \tValidation Loss: 1.176605\n",
            "Epoch: 19 \tTraining Loss: 0.770252 \tValidation Loss: 1.151330\n",
            "Epoch: 20 \tTraining Loss: 0.735487 \tValidation Loss: 1.153504\n",
            "Epoch: 21 \tTraining Loss: 0.715660 \tValidation Loss: 1.075760\n",
            "Epoch: 22 \tTraining Loss: 0.729057 \tValidation Loss: 1.090909\n",
            "Epoch: 23 \tTraining Loss: 0.711815 \tValidation Loss: 1.077911\n",
            "Epoch: 24 \tTraining Loss: 0.652692 \tValidation Loss: 1.030921\n",
            "Epoch: 25 \tTraining Loss: 0.653581 \tValidation Loss: 1.075398\n",
            "Epoch: 26 \tTraining Loss: 0.601491 \tValidation Loss: 1.030662\n",
            "Epoch: 27 \tTraining Loss: 0.630558 \tValidation Loss: 1.027154\n",
            "Epoch: 28 \tTraining Loss: 0.566662 \tValidation Loss: 0.988807\n",
            "Epoch: 29 \tTraining Loss: 0.571613 \tValidation Loss: 1.014182\n",
            "Epoch: 30 \tTraining Loss: 0.567515 \tValidation Loss: 0.947737\n",
            "Epoch: 31 \tTraining Loss: 0.513480 \tValidation Loss: 1.027818\n",
            "Epoch: 32 \tTraining Loss: 0.489091 \tValidation Loss: 0.967558\n",
            "Epoch: 33 \tTraining Loss: 0.502885 \tValidation Loss: 0.941948\n",
            "Epoch: 34 \tTraining Loss: 0.489505 \tValidation Loss: 0.948537\n",
            "Epoch: 35 \tTraining Loss: 0.471279 \tValidation Loss: 0.913957\n",
            "Epoch: 36 \tTraining Loss: 0.461968 \tValidation Loss: 0.896790\n",
            "Epoch: 37 \tTraining Loss: 0.421971 \tValidation Loss: 0.954625\n",
            "Epoch: 38 \tTraining Loss: 0.449132 \tValidation Loss: 0.901800\n",
            "Epoch: 39 \tTraining Loss: 0.435837 \tValidation Loss: 0.872293\n",
            "Epoch: 40 \tTraining Loss: 0.402759 \tValidation Loss: 0.930919\n",
            "Epoch: 41 \tTraining Loss: 0.421338 \tValidation Loss: 0.879350\n",
            "Epoch: 42 \tTraining Loss: 0.369879 \tValidation Loss: 0.875109\n",
            "Epoch: 43 \tTraining Loss: 0.374298 \tValidation Loss: 0.890594\n",
            "Epoch: 44 \tTraining Loss: 0.373480 \tValidation Loss: 0.906163\n"
          ],
          "name": "stdout"
        },
        {
          "output_type": "display_data",
          "data": {
            "image/png": "[encoded data removed]",
            "text/plain": [
              "<Figure size 432x288 with 1 Axes>"
            ]
          },
          "metadata": {
            "tags": []
          }
        }
      ]
    },
    {
      "cell_type": "code",
      "metadata": {
        "id": "6tdRFqGdECLi",
        "colab_type": "code",
        "colab": {}
      },
      "source": [
        "files.download('monkeyModelWeightsTrial5.pth')"
      ],
      "execution_count": 0,
      "outputs": []
    },
    {
      "cell_type": "code",
      "metadata": {
        "id": "5ZcKsUJy0J16",
        "colab_type": "code",
        "outputId": "f0d3b2ec-ff59-4dce-d5d2-1e97f393888b",
        "colab": {
          "base_uri": "https://localhost:8080/",
          "height": 255
        }
      },
      "source": [
        "# Predict classes for Test Dataset 1\n",
        "\n",
        "test_loss = 0.0\n",
        "class_correct = list(0. for i in range(10))\n",
        "class_total = list(0. for i in range(10))\n",
        "\n",
        "\n",
        "MonkeyClassifier5.eval()\n",
        "\n",
        "for data, target in test_dataloader:\n",
        "    data, target = data.cuda(), target.cuda()\n",
        "    output = MonkeyClassifier5(data)\n",
        "    loss = criterion(output, target)\n",
        "\n",
        "    test_loss += loss.item()*data.size(0)\n",
        "    _, pred = torch.max(output,1)\n",
        "    correct_tensor = pred.eq(target.data.view_as(pred))\n",
        "    \n",
        "    correct = np.squeeze(correct_tensor.numpy()) if not train_on_gpu else np.squeeze(correct_tensor.cpu().numpy())\n",
        "    for i in range(1,batch_size): \n",
        "        label = target.data[i-1]\n",
        "        class_correct[label] += correct[i].item()\n",
        "        class_total[label] +=1\n",
        "    \n",
        "test_loss = test_loss/len(test_dataloader.dataset)\n",
        "print('Test Loss: {:.6f}\\n'.format(test_loss))\n",
        "\n",
        "for i in range(0,10):\n",
        "    if class_total[i]>0:\n",
        "        print('Test Accuracy of %5s: %2d%% (%2d/%2d)' %( classes[i], 100*class_correct[i]/class_total[i], np.sum(class_correct[i]), np.sum(class_total[i])))\n",
        "    else:\n",
        "        print('Test Accuracy of %5s: N/A (no training examples)' % (classes[i]))\n",
        "\n",
        "print('\\nTest Accuracy (Overall): %2d%% (%2d/%2d)' % (100. * np.sum(class_correct) / np.sum(class_total), np.sum(class_correct), np.sum(class_total)))\n"
      ],
      "execution_count": 14,
      "outputs": [
        {
          "output_type": "stream",
          "text": [
            "Test Loss: 0.263784\n",
            "\n",
            "Test Accuracy of monkey1: 55% (11/20)\n",
            "Test Accuracy of monkey2: 77% (17/22)\n",
            "Test Accuracy of monkey3: 70% (21/30)\n",
            "Test Accuracy of monkey4: 67% (21/31)\n",
            "Test Accuracy of monkey5: 71% (28/39)\n",
            "Test Accuracy of monkey6: 62% (15/24)\n",
            "Test Accuracy of monkey7: 78% (18/23)\n",
            "Test Accuracy of monkey8: 53% (15/28)\n",
            "Test Accuracy of monkey9: 53% (15/28)\n",
            "Test Accuracy of monkey10: 81% (22/27)\n",
            "\n",
            "Test Accuracy (Overall): 67% (183/272)\n"
          ],
          "name": "stdout"
        }
      ]
    },
    {
      "cell_type": "markdown",
      "metadata": {
        "id": "xafTqatjrfTc",
        "colab_type": "text"
      },
      "source": [
        "## Trial 6: LR = 0.0005"
      ]
    },
    {
      "cell_type": "code",
      "metadata": {
        "id": "SEKkIN6Vrj1F",
        "colab_type": "code",
        "outputId": "b5ea500c-4f83-4aec-e5a9-aaa56c9065b9",
        "colab": {
          "base_uri": "https://localhost:8080/",
          "height": 238
        }
      },
      "source": [
        "#Define the model\n",
        "\n",
        "MonkeyClassifier6 = MonkeySpeciesCNN()\n",
        "#Print the model\n",
        "print(MonkeyClassifier6)\n"
      ],
      "execution_count": 15,
      "outputs": [
        {
          "output_type": "stream",
          "text": [
            "MonkeySpeciesCNN(\n",
            "  (conv1): Conv2d(3, 16, kernel_size=(4, 4), stride=(2, 2), padding=(1, 1))\n",
            "  (conv1_BN): BatchNorm2d(16, eps=1e-05, momentum=0.1, affine=True, track_running_stats=True)\n",
            "  (conv2): Conv2d(16, 32, kernel_size=(3, 3), stride=(1, 1), padding=(1, 1))\n",
            "  (conv2_BN): BatchNorm2d(32, eps=1e-05, momentum=0.1, affine=True, track_running_stats=True)\n",
            "  (conv3): Conv2d(32, 64, kernel_size=(3, 3), stride=(1, 1), padding=(1, 1))\n",
            "  (conv3_BN): BatchNorm2d(64, eps=1e-05, momentum=0.1, affine=True, track_running_stats=True)\n",
            "  (pool): MaxPool2d(kernel_size=2, stride=2, padding=0, dilation=1, ceil_mode=False)\n",
            "  (fc1): Linear(in_features=4096, out_features=100, bias=True)\n",
            "  (fc2): Linear(in_features=100, out_features=1000, bias=True)\n",
            "  (fc3): Linear(in_features=1000, out_features=10, bias=True)\n",
            "  (dropout): Dropout(p=0.25)\n",
            ")\n"
          ],
          "name": "stdout"
        }
      ]
    },
    {
      "cell_type": "code",
      "metadata": {
        "id": "-BFZ3FHorrmd",
        "colab_type": "code",
        "outputId": "5f087bd8-5dbf-413e-b1ed-62caa5198df8",
        "colab": {
          "base_uri": "https://localhost:8080/",
          "height": 238
        }
      },
      "source": [
        "#Define the Criterion, Optimizer, and move the model to the GPU\n",
        "\n",
        "device = torch.device(\"cuda\" if torch.cuda.is_available() else \"cpu\")\n",
        "criterion = nn.CrossEntropyLoss()\n",
        "optimizer6 = optim.Adam(MonkeyClassifier6.parameters(), lr=0.0005)\n",
        "MonkeyClassifier6.to(device)"
      ],
      "execution_count": 16,
      "outputs": [
        {
          "output_type": "execute_result",
          "data": {
            "text/plain": [
              "MonkeySpeciesCNN(\n",
              "  (conv1): Conv2d(3, 16, kernel_size=(4, 4), stride=(2, 2), padding=(1, 1))\n",
              "  (conv1_BN): BatchNorm2d(16, eps=1e-05, momentum=0.1, affine=True, track_running_stats=True)\n",
              "  (conv2): Conv2d(16, 32, kernel_size=(3, 3), stride=(1, 1), padding=(1, 1))\n",
              "  (conv2_BN): BatchNorm2d(32, eps=1e-05, momentum=0.1, affine=True, track_running_stats=True)\n",
              "  (conv3): Conv2d(32, 64, kernel_size=(3, 3), stride=(1, 1), padding=(1, 1))\n",
              "  (conv3_BN): BatchNorm2d(64, eps=1e-05, momentum=0.1, affine=True, track_running_stats=True)\n",
              "  (pool): MaxPool2d(kernel_size=2, stride=2, padding=0, dilation=1, ceil_mode=False)\n",
              "  (fc1): Linear(in_features=4096, out_features=100, bias=True)\n",
              "  (fc2): Linear(in_features=100, out_features=1000, bias=True)\n",
              "  (fc3): Linear(in_features=1000, out_features=10, bias=True)\n",
              "  (dropout): Dropout(p=0.25)\n",
              ")"
            ]
          },
          "metadata": {
            "tags": []
          },
          "execution_count": 16
        }
      ]
    },
    {
      "cell_type": "code",
      "metadata": {
        "id": "WLdj9wmVryZc",
        "colab_type": "code",
        "outputId": "9dcafef6-aa82-4971-96d9-ffbadf12fcab",
        "colab": {
          "base_uri": "https://localhost:8080/",
          "height": 1000
        }
      },
      "source": [
        "#Train the model\n",
        "\n",
        "n_epochs = 45\n",
        "\n",
        "trainLossList6 = []\n",
        "validLossList6 = []\n",
        "\n",
        "for epoch in range(n_epochs):\n",
        "    train_loss = 0.0\n",
        "    valid_loss = 0.0\n",
        "    #Train the model on the training data\n",
        "    MonkeyClassifier6.train()\n",
        "    for inputs, labels in train_dataloader:\n",
        "        inputs, labels = inputs.to(device), labels.to(device)\n",
        "        optimizer6.zero_grad()\n",
        "        logps = MonkeyClassifier6(inputs)\n",
        "        loss = criterion(logps, labels)\n",
        "        loss.backward()\n",
        "        optimizer6.step()\n",
        "        train_loss += loss.item()*inputs.size(0)\n",
        "        \n",
        "    train_loss = train_loss/len(train_dataloader.dataset)\n",
        "    \n",
        "    #Validate the model on the validation data\n",
        "    MonkeyClassifier6.eval()\n",
        "    for vinputs, vlabels in valid_dataloader:\n",
        "        vinputs, vlabels = vinputs.to(device), vlabels.to(device)\n",
        "        output = MonkeyClassifier6(vinputs)\n",
        "        vloss = criterion(output,vlabels)\n",
        "        valid_loss += vloss.item()*vinputs.size(0)\n",
        "    valid_loss = valid_loss/len(valid_dataloader.dataset)\n",
        "    \n",
        "    if epoch != 0:\n",
        "        trainLossList6.append(train_loss)\n",
        "        validLossList6.append(valid_loss)\n",
        "        \n",
        "    \n",
        "    \n",
        "    print('Epoch: {} \\tTraining Loss: {:.6f} \\tValidation Loss: {:.6f}'.format(epoch,train_loss, valid_loss))\n",
        "    \n",
        "#Save the network weights\n",
        "torch.save(MonkeyClassifier6.state_dict(), 'monkeyModelWeightsTrial6.pth')\n",
        "\n",
        "\n",
        "\n",
        "fig = plt.figure()\n",
        "ax = fig.add_subplot(111)\n",
        "plt.plot(np.arange(len(trainLossList6)), trainLossList6, 'b')\n",
        "plt.plot(np.arange(len(validLossList6)), validLossList6, 'g')\n",
        "plt.ylabel('Training and Validation Loss')\n",
        "plt.xlabel('Epoch Number')\n",
        "plt.title('Training and Validation Loss over 45 Epochs for Trial 6: LR=0.0005')\n",
        "plt.show()\n"
      ],
      "execution_count": 17,
      "outputs": [
        {
          "output_type": "stream",
          "text": [
            "Epoch: 0 \tTraining Loss: 1.689893 \tValidation Loss: 2.298448\n",
            "Epoch: 1 \tTraining Loss: 1.571888 \tValidation Loss: 2.298983\n",
            "Epoch: 2 \tTraining Loss: 1.461370 \tValidation Loss: 2.272518\n",
            "Epoch: 3 \tTraining Loss: 1.352092 \tValidation Loss: 2.192166\n",
            "Epoch: 4 \tTraining Loss: 1.297152 \tValidation Loss: 2.070153\n",
            "Epoch: 5 \tTraining Loss: 1.220925 \tValidation Loss: 1.878967\n",
            "Epoch: 6 \tTraining Loss: 1.151147 \tValidation Loss: 1.778421\n",
            "Epoch: 7 \tTraining Loss: 1.123181 \tValidation Loss: 1.528442\n",
            "Epoch: 8 \tTraining Loss: 1.050469 \tValidation Loss: 1.506106\n",
            "Epoch: 9 \tTraining Loss: 1.032715 \tValidation Loss: 1.399041\n",
            "Epoch: 10 \tTraining Loss: 0.960096 \tValidation Loss: 1.361715\n",
            "Epoch: 11 \tTraining Loss: 0.908358 \tValidation Loss: 1.377319\n",
            "Epoch: 12 \tTraining Loss: 0.927789 \tValidation Loss: 1.300205\n",
            "Epoch: 13 \tTraining Loss: 0.849085 \tValidation Loss: 1.261262\n",
            "Epoch: 14 \tTraining Loss: 0.824981 \tValidation Loss: 1.202808\n",
            "Epoch: 15 \tTraining Loss: 0.802110 \tValidation Loss: 1.242491\n",
            "Epoch: 16 \tTraining Loss: 0.797579 \tValidation Loss: 1.178359\n",
            "Epoch: 17 \tTraining Loss: 0.728946 \tValidation Loss: 1.095979\n",
            "Epoch: 18 \tTraining Loss: 0.712546 \tValidation Loss: 1.141018\n",
            "Epoch: 19 \tTraining Loss: 0.672349 \tValidation Loss: 1.106310\n",
            "Epoch: 20 \tTraining Loss: 0.608426 \tValidation Loss: 1.032399\n",
            "Epoch: 21 \tTraining Loss: 0.618238 \tValidation Loss: 1.132824\n",
            "Epoch: 22 \tTraining Loss: 0.635172 \tValidation Loss: 1.080542\n",
            "Epoch: 23 \tTraining Loss: 0.581662 \tValidation Loss: 0.998663\n",
            "Epoch: 24 \tTraining Loss: 0.580214 \tValidation Loss: 1.075531\n",
            "Epoch: 25 \tTraining Loss: 0.524714 \tValidation Loss: 0.956802\n",
            "Epoch: 26 \tTraining Loss: 0.519587 \tValidation Loss: 0.981180\n",
            "Epoch: 27 \tTraining Loss: 0.511398 \tValidation Loss: 1.002185\n",
            "Epoch: 28 \tTraining Loss: 0.507331 \tValidation Loss: 0.947536\n",
            "Epoch: 29 \tTraining Loss: 0.496035 \tValidation Loss: 1.012570\n",
            "Epoch: 30 \tTraining Loss: 0.445551 \tValidation Loss: 0.959247\n",
            "Epoch: 31 \tTraining Loss: 0.403070 \tValidation Loss: 0.948695\n",
            "Epoch: 32 \tTraining Loss: 0.423337 \tValidation Loss: 0.929108\n",
            "Epoch: 33 \tTraining Loss: 0.403727 \tValidation Loss: 0.992611\n",
            "Epoch: 34 \tTraining Loss: 0.386281 \tValidation Loss: 0.944407\n",
            "Epoch: 35 \tTraining Loss: 0.385986 \tValidation Loss: 0.993350\n",
            "Epoch: 36 \tTraining Loss: 0.365087 \tValidation Loss: 0.946868\n",
            "Epoch: 37 \tTraining Loss: 0.358635 \tValidation Loss: 0.975735\n",
            "Epoch: 38 \tTraining Loss: 0.361171 \tValidation Loss: 0.947215\n",
            "Epoch: 39 \tTraining Loss: 0.312715 \tValidation Loss: 1.021095\n",
            "Epoch: 40 \tTraining Loss: 0.306150 \tValidation Loss: 0.968572\n",
            "Epoch: 41 \tTraining Loss: 0.290948 \tValidation Loss: 0.974711\n",
            "Epoch: 42 \tTraining Loss: 0.282710 \tValidation Loss: 0.981627\n",
            "Epoch: 43 \tTraining Loss: 0.262420 \tValidation Loss: 1.033474\n",
            "Epoch: 44 \tTraining Loss: 0.287020 \tValidation Loss: 1.137931\n"
          ],
          "name": "stdout"
        },
        {
          "output_type": "display_data",
          "data": {
            "image/png": "[encoded data removed]",
            "text/plain": [
              "<Figure size 432x288 with 1 Axes>"
            ]
          },
          "metadata": {
            "tags": []
          }
        }
      ]
    },
    {
      "cell_type": "code",
      "metadata": {
        "id": "ZHcsUyRgr2JG",
        "colab_type": "code",
        "colab": {}
      },
      "source": [
        "files.download('monkeyModelWeightsTrial6.pth')"
      ],
      "execution_count": 0,
      "outputs": []
    },
    {
      "cell_type": "code",
      "metadata": {
        "id": "qu9Wgvg3sSEG",
        "colab_type": "code",
        "outputId": "ba2e1358-e27c-4a74-aca4-0a7442856f19",
        "colab": {
          "base_uri": "https://localhost:8080/",
          "height": 255
        }
      },
      "source": [
        "# Predict classes for Test Dataset \n",
        "\n",
        "test_loss = 0.0\n",
        "class_correct = list(0. for i in range(10))\n",
        "class_total = list(0. for i in range(10))\n",
        "\n",
        "\n",
        "MonkeyClassifier6.eval()\n",
        "\n",
        "for data, target in test_dataloader:\n",
        "    data, target = data.cuda(), target.cuda()\n",
        "    output = MonkeyClassifier6(data)\n",
        "    loss = criterion(output, target)\n",
        "\n",
        "    test_loss += loss.item()*data.size(0)\n",
        "    _, pred = torch.max(output,1)\n",
        "    correct_tensor = pred.eq(target.data.view_as(pred))\n",
        "    \n",
        "    correct = np.squeeze(correct_tensor.numpy()) if not train_on_gpu else np.squeeze(correct_tensor.cpu().numpy())\n",
        "    for i in range(1,batch_size): \n",
        "        label = target.data[i-1]\n",
        "        class_correct[label] += correct[i].item()\n",
        "        class_total[label] +=1\n",
        "    \n",
        "test_loss = test_loss/len(test_dataloader.dataset)\n",
        "print('Test Loss: {:.6f}\\n'.format(test_loss))\n",
        "\n",
        "for i in range(0,10):\n",
        "    if class_total[i]>0:\n",
        "        print('Test Accuracy of %5s: %2d%% (%2d/%2d)' %( classes[i], 100*class_correct[i]/class_total[i], np.sum(class_correct[i]), np.sum(class_total[i])))\n",
        "    else:\n",
        "        print('Test Accuracy of %5s: N/A (no training examples)' % (classes[i]))\n",
        "\n",
        "print('\\nTest Accuracy (Overall): %2d%% (%2d/%2d)' % (100. * np.sum(class_correct) / np.sum(class_total), np.sum(class_correct), np.sum(class_total)))"
      ],
      "execution_count": 19,
      "outputs": [
        {
          "output_type": "stream",
          "text": [
            "Test Loss: 0.273771\n",
            "\n",
            "Test Accuracy of monkey1: 70% (14/20)\n",
            "Test Accuracy of monkey2: 63% (14/22)\n",
            "Test Accuracy of monkey3: 70% (21/30)\n",
            "Test Accuracy of monkey4: 64% (20/31)\n",
            "Test Accuracy of monkey5: 56% (22/39)\n",
            "Test Accuracy of monkey6: 72% (18/25)\n",
            "Test Accuracy of monkey7: 73% (17/23)\n",
            "Test Accuracy of monkey8: 59% (16/27)\n",
            "Test Accuracy of monkey9: 75% (21/28)\n",
            "Test Accuracy of monkey10: 66% (18/27)\n",
            "\n",
            "Test Accuracy (Overall): 66% (181/272)\n"
          ],
          "name": "stdout"
        }
      ]
    },
    {
      "cell_type": "markdown",
      "metadata": {
        "id": "SOgGJJ-0sfyg",
        "colab_type": "text"
      },
      "source": [
        "## Trial 7: LR = 0.0008"
      ]
    },
    {
      "cell_type": "code",
      "metadata": {
        "id": "c6v3CsPisl5G",
        "colab_type": "code",
        "outputId": "7e9f9083-c479-4644-a958-5e486363fbf4",
        "colab": {
          "base_uri": "https://localhost:8080/",
          "height": 238
        }
      },
      "source": [
        "#Define the model\n",
        "\n",
        "MonkeyClassifier7 = MonkeySpeciesCNN()\n",
        "#Print the model\n",
        "print(MonkeyClassifier7)\n"
      ],
      "execution_count": 20,
      "outputs": [
        {
          "output_type": "stream",
          "text": [
            "MonkeySpeciesCNN(\n",
            "  (conv1): Conv2d(3, 16, kernel_size=(4, 4), stride=(2, 2), padding=(1, 1))\n",
            "  (conv1_BN): BatchNorm2d(16, eps=1e-05, momentum=0.1, affine=True, track_running_stats=True)\n",
            "  (conv2): Conv2d(16, 32, kernel_size=(3, 3), stride=(1, 1), padding=(1, 1))\n",
            "  (conv2_BN): BatchNorm2d(32, eps=1e-05, momentum=0.1, affine=True, track_running_stats=True)\n",
            "  (conv3): Conv2d(32, 64, kernel_size=(3, 3), stride=(1, 1), padding=(1, 1))\n",
            "  (conv3_BN): BatchNorm2d(64, eps=1e-05, momentum=0.1, affine=True, track_running_stats=True)\n",
            "  (pool): MaxPool2d(kernel_size=2, stride=2, padding=0, dilation=1, ceil_mode=False)\n",
            "  (fc1): Linear(in_features=4096, out_features=100, bias=True)\n",
            "  (fc2): Linear(in_features=100, out_features=1000, bias=True)\n",
            "  (fc3): Linear(in_features=1000, out_features=10, bias=True)\n",
            "  (dropout): Dropout(p=0.25)\n",
            ")\n"
          ],
          "name": "stdout"
        }
      ]
    },
    {
      "cell_type": "code",
      "metadata": {
        "id": "O7aki1lCsquO",
        "colab_type": "code",
        "outputId": "c81c35a1-a782-4521-8d71-84bd6aa11dfe",
        "colab": {
          "base_uri": "https://localhost:8080/",
          "height": 238
        }
      },
      "source": [
        "#Define the Criterion, Optimizer, and move the model to the GPU\n",
        "\n",
        "device = torch.device(\"cuda\" if torch.cuda.is_available() else \"cpu\")\n",
        "criterion = nn.CrossEntropyLoss()\n",
        "optimizer7 = optim.Adam(MonkeyClassifier7.parameters(), lr=0.0008)\n",
        "MonkeyClassifier7.to(device)"
      ],
      "execution_count": 21,
      "outputs": [
        {
          "output_type": "execute_result",
          "data": {
            "text/plain": [
              "MonkeySpeciesCNN(\n",
              "  (conv1): Conv2d(3, 16, kernel_size=(4, 4), stride=(2, 2), padding=(1, 1))\n",
              "  (conv1_BN): BatchNorm2d(16, eps=1e-05, momentum=0.1, affine=True, track_running_stats=True)\n",
              "  (conv2): Conv2d(16, 32, kernel_size=(3, 3), stride=(1, 1), padding=(1, 1))\n",
              "  (conv2_BN): BatchNorm2d(32, eps=1e-05, momentum=0.1, affine=True, track_running_stats=True)\n",
              "  (conv3): Conv2d(32, 64, kernel_size=(3, 3), stride=(1, 1), padding=(1, 1))\n",
              "  (conv3_BN): BatchNorm2d(64, eps=1e-05, momentum=0.1, affine=True, track_running_stats=True)\n",
              "  (pool): MaxPool2d(kernel_size=2, stride=2, padding=0, dilation=1, ceil_mode=False)\n",
              "  (fc1): Linear(in_features=4096, out_features=100, bias=True)\n",
              "  (fc2): Linear(in_features=100, out_features=1000, bias=True)\n",
              "  (fc3): Linear(in_features=1000, out_features=10, bias=True)\n",
              "  (dropout): Dropout(p=0.25)\n",
              ")"
            ]
          },
          "metadata": {
            "tags": []
          },
          "execution_count": 21
        }
      ]
    },
    {
      "cell_type": "code",
      "metadata": {
        "id": "Ulywiy-FsxI2",
        "colab_type": "code",
        "outputId": "0083b4c4-cd96-4d23-db87-e6ff488d9780",
        "colab": {
          "base_uri": "https://localhost:8080/",
          "height": 1000
        }
      },
      "source": [
        "#Train the model\n",
        "\n",
        "n_epochs = 45\n",
        "\n",
        "trainLossList7 = []\n",
        "validLossList7 = []\n",
        "\n",
        "for epoch in range(n_epochs):\n",
        "    train_loss = 0.0\n",
        "    valid_loss = 0.0\n",
        "    #Train the model on the training data\n",
        "    MonkeyClassifier7.train()\n",
        "    for inputs, labels in train_dataloader:\n",
        "        inputs, labels = inputs.to(device), labels.to(device)\n",
        "        optimizer7.zero_grad()\n",
        "        logps = MonkeyClassifier7(inputs)\n",
        "        loss = criterion(logps, labels)\n",
        "        loss.backward()\n",
        "        optimizer7.step()\n",
        "        train_loss += loss.item()*inputs.size(0)\n",
        "        \n",
        "    train_loss = train_loss/len(train_dataloader.dataset)\n",
        "    \n",
        "    #Validate the model on the validation data\n",
        "    MonkeyClassifier7.eval()\n",
        "    for vinputs, vlabels in valid_dataloader:\n",
        "        vinputs, vlabels = vinputs.to(device), vlabels.to(device)\n",
        "        output = MonkeyClassifier7(vinputs)\n",
        "        vloss = criterion(output,vlabels)\n",
        "        valid_loss += vloss.item()*vinputs.size(0)\n",
        "    valid_loss = valid_loss/len(valid_dataloader.dataset)\n",
        "    \n",
        "    if epoch != 0:\n",
        "        trainLossList7.append(train_loss)\n",
        "        validLossList7.append(valid_loss)\n",
        "        \n",
        "    \n",
        "    \n",
        "    print('Epoch: {} \\tTraining Loss: {:.6f} \\tValidation Loss: {:.6f}'.format(epoch,train_loss, valid_loss))\n",
        "    \n",
        "#Save the network weights\n",
        "torch.save(MonkeyClassifier7.state_dict(), 'monkeyModelWeightsTrial7.pth')\n",
        "\n",
        "\n",
        "\n",
        "fig = plt.figure()\n",
        "ax = fig.add_subplot(111)\n",
        "plt.plot(np.arange(len(trainLossList7)), trainLossList7, 'b')\n",
        "plt.plot(np.arange(len(validLossList7)), validLossList7, 'g')\n",
        "plt.ylabel('Training and Validation Loss')\n",
        "plt.xlabel('Epoch Number')\n",
        "plt.title('Training and Validation Loss over 45 Epochs for Trial 7: LR=0.0008')\n",
        "plt.show()\n"
      ],
      "execution_count": 22,
      "outputs": [
        {
          "output_type": "stream",
          "text": [
            "Epoch: 0 \tTraining Loss: 1.705111 \tValidation Loss: 2.295528\n",
            "Epoch: 1 \tTraining Loss: 1.567116 \tValidation Loss: 2.269095\n",
            "Epoch: 2 \tTraining Loss: 1.424968 \tValidation Loss: 2.111760\n",
            "Epoch: 3 \tTraining Loss: 1.310006 \tValidation Loss: 1.921545\n",
            "Epoch: 4 \tTraining Loss: 1.214292 \tValidation Loss: 1.840062\n",
            "Epoch: 5 \tTraining Loss: 1.151197 \tValidation Loss: 1.577468\n",
            "Epoch: 6 \tTraining Loss: 1.086055 \tValidation Loss: 1.633173\n",
            "Epoch: 7 \tTraining Loss: 1.074697 \tValidation Loss: 1.433238\n",
            "Epoch: 8 \tTraining Loss: 1.018696 \tValidation Loss: 1.424572\n",
            "Epoch: 9 \tTraining Loss: 0.999062 \tValidation Loss: 1.358332\n",
            "Epoch: 10 \tTraining Loss: 0.932504 \tValidation Loss: 1.434513\n",
            "Epoch: 11 \tTraining Loss: 0.925292 \tValidation Loss: 1.306277\n",
            "Epoch: 12 \tTraining Loss: 0.869155 \tValidation Loss: 1.293933\n",
            "Epoch: 13 \tTraining Loss: 0.798476 \tValidation Loss: 1.277844\n",
            "Epoch: 14 \tTraining Loss: 0.804129 \tValidation Loss: 1.204815\n",
            "Epoch: 15 \tTraining Loss: 0.747332 \tValidation Loss: 1.178079\n",
            "Epoch: 16 \tTraining Loss: 0.725801 \tValidation Loss: 1.112770\n",
            "Epoch: 17 \tTraining Loss: 0.689146 \tValidation Loss: 1.120100\n",
            "Epoch: 18 \tTraining Loss: 0.664199 \tValidation Loss: 1.035838\n",
            "Epoch: 19 \tTraining Loss: 0.619755 \tValidation Loss: 1.091965\n",
            "Epoch: 20 \tTraining Loss: 0.608677 \tValidation Loss: 1.041617\n",
            "Epoch: 21 \tTraining Loss: 0.621340 \tValidation Loss: 1.131016\n",
            "Epoch: 22 \tTraining Loss: 0.613523 \tValidation Loss: 1.041869\n",
            "Epoch: 23 \tTraining Loss: 0.567576 \tValidation Loss: 1.008449\n",
            "Epoch: 24 \tTraining Loss: 0.530819 \tValidation Loss: 1.010047\n",
            "Epoch: 25 \tTraining Loss: 0.496939 \tValidation Loss: 1.002410\n",
            "Epoch: 26 \tTraining Loss: 0.478778 \tValidation Loss: 0.960781\n",
            "Epoch: 27 \tTraining Loss: 0.473924 \tValidation Loss: 0.945244\n",
            "Epoch: 28 \tTraining Loss: 0.480595 \tValidation Loss: 1.025854\n",
            "Epoch: 29 \tTraining Loss: 0.450537 \tValidation Loss: 1.011688\n",
            "Epoch: 30 \tTraining Loss: 0.402153 \tValidation Loss: 0.965728\n",
            "Epoch: 31 \tTraining Loss: 0.402465 \tValidation Loss: 0.964180\n",
            "Epoch: 32 \tTraining Loss: 0.383366 \tValidation Loss: 0.967585\n",
            "Epoch: 33 \tTraining Loss: 0.345119 \tValidation Loss: 1.038576\n",
            "Epoch: 34 \tTraining Loss: 0.371120 \tValidation Loss: 0.983170\n",
            "Epoch: 35 \tTraining Loss: 0.349644 \tValidation Loss: 0.982502\n",
            "Epoch: 36 \tTraining Loss: 0.332685 \tValidation Loss: 0.988395\n",
            "Epoch: 37 \tTraining Loss: 0.351315 \tValidation Loss: 1.045092\n",
            "Epoch: 38 \tTraining Loss: 0.352806 \tValidation Loss: 0.876396\n",
            "Epoch: 39 \tTraining Loss: 0.328414 \tValidation Loss: 1.030233\n",
            "Epoch: 40 \tTraining Loss: 0.302761 \tValidation Loss: 1.049548\n",
            "Epoch: 41 \tTraining Loss: 0.311081 \tValidation Loss: 1.125612\n",
            "Epoch: 42 \tTraining Loss: 0.274290 \tValidation Loss: 0.961747\n",
            "Epoch: 43 \tTraining Loss: 0.262159 \tValidation Loss: 0.965039\n",
            "Epoch: 44 \tTraining Loss: 0.235947 \tValidation Loss: 0.977414\n"
          ],
          "name": "stdout"
        },
        {
          "output_type": "display_data",
          "data": {
            "image/png": "[encoded data removed]",
            "text/plain": [
              "<Figure size 432x288 with 1 Axes>"
            ]
          },
          "metadata": {
            "tags": []
          }
        }
      ]
    },
    {
      "cell_type": "code",
      "metadata": {
        "id": "ZqxhcqqqtHP_",
        "colab_type": "code",
        "colab": {}
      },
      "source": [
        "files.download('monkeyModelWeightsTrial7.pth')"
      ],
      "execution_count": 0,
      "outputs": []
    },
    {
      "cell_type": "code",
      "metadata": {
        "id": "NamZBblbtNIA",
        "colab_type": "code",
        "colab": {
          "base_uri": "https://localhost:8080/",
          "height": 238
        },
        "outputId": "f0dc0a5a-2a66-4e60-cce2-43f529211d56"
      },
      "source": [
        "# Predict classes for Test Dataset \n",
        "\n",
        "test_loss = 0.0\n",
        "class_correct = list(0. for i in range(10))\n",
        "class_total = list(0. for i in range(10))\n",
        "\n",
        "\n",
        "MonkeyClassifier7.eval()\n",
        "\n",
        "for data, target in test_dataloader:\n",
        "    data, target = data.cuda(), target.cuda()\n",
        "    output = MonkeyClassifier7(data)\n",
        "    loss = criterion(output, target)\n",
        "\n",
        "    test_loss += loss.item()*data.size(0)\n",
        "    _, pred = torch.max(output,1)\n",
        "    correct_tensor = pred.eq(target.data.view_as(pred))\n",
        "    \n",
        "    correct = np.squeeze(correct_tensor.numpy()) if not train_on_gpu else np.squeeze(correct_tensor.cpu().numpy())\n",
        "    for i in range(1,batch_size): \n",
        "        label = target.data[i-1]\n",
        "        class_correct[label] += correct[i].item()\n",
        "        class_total[label] +=1\n",
        "    \n",
        "test_loss = test_loss/len(test_dataloader.dataset)\n",
        "print('Test Loss: {:.6f}\\n'.format(test_loss))\n",
        "\n",
        "for i in range(0,9):\n",
        "    if class_total[i]>0:\n",
        "        print('Test Accuracy of %5s: %2d%% (%2d/%2d)' %( classes[i], 100*class_correct[i]/class_total[i], np.sum(class_correct[i]), np.sum(class_total[i])))\n",
        "    else:\n",
        "        print('Test Accuracy of %5s: N/A (no training examples)' % (classes[i]))\n",
        "\n",
        "print('\\nTest Accuracy (Overall): %2d%% (%2d/%2d)' % (100. * np.sum(class_correct) / np.sum(class_total), np.sum(class_correct), np.sum(class_total)))"
      ],
      "execution_count": 24,
      "outputs": [
        {
          "output_type": "stream",
          "text": [
            "Test Loss: 0.271933\n",
            "\n",
            "Test Accuracy of monkey1: 60% (12/20)\n",
            "Test Accuracy of monkey2: 59% (13/22)\n",
            "Test Accuracy of monkey3: 80% (24/30)\n",
            "Test Accuracy of monkey4: 74% (23/31)\n",
            "Test Accuracy of monkey5: 61% (24/39)\n",
            "Test Accuracy of monkey6: 84% (21/25)\n",
            "Test Accuracy of monkey7: 56% (13/23)\n",
            "Test Accuracy of monkey8: 65% (19/29)\n",
            "Test Accuracy of monkey9: 76% (20/26)\n",
            "\n",
            "Test Accuracy (Overall): 68% (187/272)\n"
          ],
          "name": "stdout"
        }
      ]
    },
    {
      "cell_type": "markdown",
      "metadata": {
        "id": "cIWPnRO7IsQo",
        "colab_type": "text"
      },
      "source": [
        "## Comparing the differrent models"
      ]
    },
    {
      "cell_type": "code",
      "metadata": {
        "id": "gNtJqrnYWaW5",
        "colab_type": "code",
        "colab": {
          "base_uri": "https://localhost:8080/",
          "height": 318
        },
        "outputId": "1ebca2b9-d27d-4efd-c3e9-9b27d73e65df"
      },
      "source": [
        "import seaborn as sns\n",
        "import pandas as pd\n",
        "sns.set(style=\"darkgrid\")\n",
        "#trainingLoss_df = pd.DataFrame(\n",
        "#                    { 'Model R1': trainingLossList1,\n",
        "#                      'Model R2': trainingLossList2,\n",
        "#                      'Model R3': trainingLossList3,\n",
        "#                      'Model R4': trainingLossList4\n",
        "#                      'Model R5': trainingLossList5\n",
        "#                    })\n",
        "\n",
        "trainingLoss_df = pd.DataFrame(list(zip(trainLossList5, trainLossList6, trainLossList7)),\n",
        "                              columns = ['Model 5','Model 6','Model 7'])\n",
        "palette = sns.color_palette(\"mako_r\", 3)\n",
        "ax = sns.lineplot(data=trainingLoss_df, palette=palette).set_title('Training Loss for Models 5-7')\n",
        "plt.xlabel('Epoch')\n",
        "plt.ylabel('Training Loss')\n",
        "\n"
      ],
      "execution_count": 25,
      "outputs": [
        {
          "output_type": "execute_result",
          "data": {
            "text/plain": [
              "Text(0, 0.5, 'Training Loss')"
            ]
          },
          "metadata": {
            "tags": []
          },
          "execution_count": 25
        },
        {
          "output_type": "display_data",
          "data": {
            "image/png": "[encoded data removed]",
            "text/plain": [
              "<Figure size 432x288 with 1 Axes>"
            ]
          },
          "metadata": {
            "tags": []
          }
        }
      ]
    },
    {
      "cell_type": "code",
      "metadata": {
        "id": "vEh4nkKlYznc",
        "colab_type": "code",
        "colab": {
          "base_uri": "https://localhost:8080/",
          "height": 318
        },
        "outputId": "c3ee85cc-7b97-4dc3-bc3e-4f1e59a2cda3"
      },
      "source": [
        "validLoss_df = pd.DataFrame(list(zip(validLossList5, validLossList6, validLossList7)),\n",
        "                              columns = ['Model 5','Model 6','Model 7'])\n",
        "palette = sns.color_palette(\"mako_r\", 3)\n",
        "ax = sns.lineplot(data=validLoss_df, palette=palette).set_title('Validation Loss for Models 5-7')\n",
        "plt.xlabel('Epoch')\n",
        "plt.ylabel('Validation Loss')\n"
      ],
      "execution_count": 26,
      "outputs": [
        {
          "output_type": "execute_result",
          "data": {
            "text/plain": [
              "Text(0, 0.5, 'Validation Loss')"
            ]
          },
          "metadata": {
            "tags": []
          },
          "execution_count": 26
        },
        {
          "output_type": "display_data",
          "data": {
            "image/png": "[encoded data removed]",
            "text/plain": [
              "<Figure size 432x288 with 1 Axes>"
            ]
          },
          "metadata": {
            "tags": []
          }
        }
      ]
    },
    {
      "cell_type": "markdown",
      "metadata": {
        "id": "Tv2cQQh_RVEV",
        "colab_type": "text"
      },
      "source": [
        "## Optimizing the Model with LR= 0.0008\n",
        "\n",
        "* The above test accuracy and training and validation loss results indicate that LR=0.0008 is the optimal learning rate for this CNN architecture.\n",
        "* The validation loss increasing starting from around epoch 30 could indicate overfitting by the model, creating a misleadingly higher test accuracy\n",
        "* To test this and optimize the model further, the model was recreated and trained for fewer epochs with training stopping when the validation loss increases significantly."
      ]
    },
    {
      "cell_type": "code",
      "metadata": {
        "id": "kic930NzSM8D",
        "colab_type": "code",
        "colab": {
          "base_uri": "https://localhost:8080/",
          "height": 238
        },
        "outputId": "99379cf4-b9fd-4ce6-ad27-98f0e7d9c71b"
      },
      "source": [
        "#Define the Model\n",
        "\n",
        "MonkeyClassifierOptimal = MonkeySpeciesCNN()\n",
        "#Print the model\n",
        "print(MonkeyClassifierOptimal)\n"
      ],
      "execution_count": 66,
      "outputs": [
        {
          "output_type": "stream",
          "text": [
            "MonkeySpeciesCNN(\n",
            "  (conv1): Conv2d(3, 16, kernel_size=(4, 4), stride=(2, 2), padding=(1, 1))\n",
            "  (conv1_BN): BatchNorm2d(16, eps=1e-05, momentum=0.1, affine=True, track_running_stats=True)\n",
            "  (conv2): Conv2d(16, 32, kernel_size=(3, 3), stride=(1, 1), padding=(1, 1))\n",
            "  (conv2_BN): BatchNorm2d(32, eps=1e-05, momentum=0.1, affine=True, track_running_stats=True)\n",
            "  (conv3): Conv2d(32, 64, kernel_size=(3, 3), stride=(1, 1), padding=(1, 1))\n",
            "  (conv3_BN): BatchNorm2d(64, eps=1e-05, momentum=0.1, affine=True, track_running_stats=True)\n",
            "  (pool): MaxPool2d(kernel_size=2, stride=2, padding=0, dilation=1, ceil_mode=False)\n",
            "  (fc1): Linear(in_features=4096, out_features=100, bias=True)\n",
            "  (fc2): Linear(in_features=100, out_features=1000, bias=True)\n",
            "  (fc3): Linear(in_features=1000, out_features=10, bias=True)\n",
            "  (dropout): Dropout(p=0.25)\n",
            ")\n"
          ],
          "name": "stdout"
        }
      ]
    },
    {
      "cell_type": "code",
      "metadata": {
        "id": "6HrMB8MuSZbv",
        "colab_type": "code",
        "colab": {
          "base_uri": "https://localhost:8080/",
          "height": 238
        },
        "outputId": "1e89b290-49fd-4032-f664-2ea53d5e1e67"
      },
      "source": [
        "#Define the Criterion, Optimizer, and move the model to the GPU\n",
        "\n",
        "device = torch.device(\"cuda\" if torch.cuda.is_available() else \"cpu\")\n",
        "criterion = nn.CrossEntropyLoss()\n",
        "optimizerOptimal = optim.Adam(MonkeyClassifierOptimal.parameters(), lr=0.0008)\n",
        "MonkeyClassifierOptimal.to(device)"
      ],
      "execution_count": 67,
      "outputs": [
        {
          "output_type": "execute_result",
          "data": {
            "text/plain": [
              "MonkeySpeciesCNN(\n",
              "  (conv1): Conv2d(3, 16, kernel_size=(4, 4), stride=(2, 2), padding=(1, 1))\n",
              "  (conv1_BN): BatchNorm2d(16, eps=1e-05, momentum=0.1, affine=True, track_running_stats=True)\n",
              "  (conv2): Conv2d(16, 32, kernel_size=(3, 3), stride=(1, 1), padding=(1, 1))\n",
              "  (conv2_BN): BatchNorm2d(32, eps=1e-05, momentum=0.1, affine=True, track_running_stats=True)\n",
              "  (conv3): Conv2d(32, 64, kernel_size=(3, 3), stride=(1, 1), padding=(1, 1))\n",
              "  (conv3_BN): BatchNorm2d(64, eps=1e-05, momentum=0.1, affine=True, track_running_stats=True)\n",
              "  (pool): MaxPool2d(kernel_size=2, stride=2, padding=0, dilation=1, ceil_mode=False)\n",
              "  (fc1): Linear(in_features=4096, out_features=100, bias=True)\n",
              "  (fc2): Linear(in_features=100, out_features=1000, bias=True)\n",
              "  (fc3): Linear(in_features=1000, out_features=10, bias=True)\n",
              "  (dropout): Dropout(p=0.25)\n",
              ")"
            ]
          },
          "metadata": {
            "tags": []
          },
          "execution_count": 67
        }
      ]
    },
    {
      "cell_type": "code",
      "metadata": {
        "id": "7HKTj8vaSk-J",
        "colab_type": "code",
        "colab": {
          "base_uri": "https://localhost:8080/",
          "height": 879
        },
        "outputId": "92a20f35-2348-47ca-d558-7806b6780f28"
      },
      "source": [
        "#Train the model\n",
        "\n",
        "n_epochs = 34\n",
        "\n",
        "trainLossListOptimal = []\n",
        "validLossListOptimal = []\n",
        "\n",
        "for epoch in range(n_epochs):\n",
        "    train_loss = 0.0\n",
        "    valid_loss = 0.0\n",
        "    #Train the model on the training data\n",
        "    MonkeyClassifierOptimal.train()\n",
        "    for inputs, labels in train_dataloader:\n",
        "        inputs, labels = inputs.to(device), labels.to(device)\n",
        "        optimizerOptimal.zero_grad()\n",
        "        logps = MonkeyClassifierOptimal(inputs)\n",
        "        loss = criterion(logps, labels)\n",
        "        loss.backward()\n",
        "        optimizerOptimal.step()\n",
        "        train_loss += loss.item()*inputs.size(0)\n",
        "        \n",
        "    train_loss = train_loss/len(train_dataloader.dataset)\n",
        "    \n",
        "    #Validate the model on the validation data\n",
        "    MonkeyClassifierOptimal.eval()\n",
        "    for vinputs, vlabels in valid_dataloader:\n",
        "        vinputs, vlabels = vinputs.to(device), vlabels.to(device)\n",
        "        output = MonkeyClassifierOptimal(vinputs)\n",
        "        vloss = criterion(output,vlabels)\n",
        "        valid_loss += vloss.item()*vinputs.size(0)\n",
        "    valid_loss = valid_loss/len(valid_dataloader.dataset)\n",
        "    \n",
        "    if epoch != 0:\n",
        "        trainLossListOptimal.append(train_loss)\n",
        "        validLossListOptimal.append(valid_loss)\n",
        "        \n",
        "    \n",
        "    \n",
        "    print('Epoch: {} \\tTraining Loss: {:.6f} \\tValidation Loss: {:.6f}'.format(epoch,train_loss, valid_loss))\n",
        "    \n",
        "#Save the network weights\n",
        "torch.save(MonkeyClassifierOptimal.state_dict(), 'monkeyModelWeightsOptimal.pth')\n",
        "\n",
        "\n",
        "\n",
        "fig = plt.figure()\n",
        "ax = fig.add_subplot(111)\n",
        "plt.plot(np.arange(len(trainLossListOptimal)), trainLossListOptimal, 'b')\n",
        "plt.plot(np.arange(len(validLossListOptimal)), validLossListOptimal, 'g')\n",
        "plt.ylabel('Training and Validation Loss')\n",
        "plt.xlabel('Epoch Number')\n",
        "plt.title('Training and Validation Loss over 30 Epochs for Optimal Model with LR=0.0008')\n",
        "plt.show()"
      ],
      "execution_count": 68,
      "outputs": [
        {
          "output_type": "stream",
          "text": [
            "Epoch: 0 \tTraining Loss: 1.689770 \tValidation Loss: 2.291682\n",
            "Epoch: 1 \tTraining Loss: 1.541126 \tValidation Loss: 2.248794\n",
            "Epoch: 2 \tTraining Loss: 1.407558 \tValidation Loss: 2.226705\n",
            "Epoch: 3 \tTraining Loss: 1.277200 \tValidation Loss: 2.063341\n",
            "Epoch: 4 \tTraining Loss: 1.158217 \tValidation Loss: 1.729941\n",
            "Epoch: 5 \tTraining Loss: 1.094143 \tValidation Loss: 1.464405\n",
            "Epoch: 6 \tTraining Loss: 1.040513 \tValidation Loss: 1.392923\n",
            "Epoch: 7 \tTraining Loss: 0.986075 \tValidation Loss: 1.385984\n",
            "Epoch: 8 \tTraining Loss: 0.977874 \tValidation Loss: 1.286297\n",
            "Epoch: 9 \tTraining Loss: 0.889687 \tValidation Loss: 1.299846\n",
            "Epoch: 10 \tTraining Loss: 0.890271 \tValidation Loss: 1.336085\n",
            "Epoch: 11 \tTraining Loss: 0.819690 \tValidation Loss: 1.243385\n",
            "Epoch: 12 \tTraining Loss: 0.788228 \tValidation Loss: 1.165908\n",
            "Epoch: 13 \tTraining Loss: 0.730189 \tValidation Loss: 1.125226\n",
            "Epoch: 14 \tTraining Loss: 0.704718 \tValidation Loss: 1.215056\n",
            "Epoch: 15 \tTraining Loss: 0.676541 \tValidation Loss: 1.106210\n",
            "Epoch: 16 \tTraining Loss: 0.661846 \tValidation Loss: 1.022252\n",
            "Epoch: 17 \tTraining Loss: 0.624126 \tValidation Loss: 1.023251\n",
            "Epoch: 18 \tTraining Loss: 0.578631 \tValidation Loss: 1.014065\n",
            "Epoch: 19 \tTraining Loss: 0.571151 \tValidation Loss: 0.988647\n",
            "Epoch: 20 \tTraining Loss: 0.534639 \tValidation Loss: 0.952511\n",
            "Epoch: 21 \tTraining Loss: 0.536307 \tValidation Loss: 0.961206\n",
            "Epoch: 22 \tTraining Loss: 0.485108 \tValidation Loss: 0.939498\n",
            "Epoch: 23 \tTraining Loss: 0.491933 \tValidation Loss: 1.053272\n",
            "Epoch: 24 \tTraining Loss: 0.500577 \tValidation Loss: 0.908787\n",
            "Epoch: 25 \tTraining Loss: 0.453313 \tValidation Loss: 0.977040\n",
            "Epoch: 26 \tTraining Loss: 0.422941 \tValidation Loss: 0.970175\n",
            "Epoch: 27 \tTraining Loss: 0.413318 \tValidation Loss: 0.948685\n",
            "Epoch: 28 \tTraining Loss: 0.393070 \tValidation Loss: 0.978573\n",
            "Epoch: 29 \tTraining Loss: 0.444415 \tValidation Loss: 0.991937\n",
            "Epoch: 30 \tTraining Loss: 0.408656 \tValidation Loss: 0.992581\n",
            "Epoch: 31 \tTraining Loss: 0.389862 \tValidation Loss: 1.029979\n",
            "Epoch: 32 \tTraining Loss: 0.331912 \tValidation Loss: 1.186054\n",
            "Epoch: 33 \tTraining Loss: 0.333700 \tValidation Loss: 1.041439\n"
          ],
          "name": "stdout"
        },
        {
          "output_type": "display_data",
          "data": {
            "image/png": "[encoded data removed]",
            "text/plain": [
              "<Figure size 432x288 with 1 Axes>"
            ]
          },
          "metadata": {
            "tags": []
          }
        }
      ]
    },
    {
      "cell_type": "code",
      "metadata": {
        "id": "2Jb0fTjyTUf6",
        "colab_type": "code",
        "colab": {}
      },
      "source": [
        "files.download('monkeyModelWeightsOptimal.pth')"
      ],
      "execution_count": 0,
      "outputs": []
    },
    {
      "cell_type": "code",
      "metadata": {
        "id": "2Qklefx4Ta3D",
        "colab_type": "code",
        "colab": {
          "base_uri": "https://localhost:8080/",
          "height": 255
        },
        "outputId": "bc69365f-91dc-4bfe-d74b-5db3103a9373"
      },
      "source": [
        "# Predict classes for Test Dataset \n",
        "\n",
        "test_loss = 0.0\n",
        "class_correct = list(0. for i in range(10))\n",
        "class_total = list(0. for i in range(10))\n",
        "\n",
        "\n",
        "MonkeyClassifierOptimal.eval()\n",
        "\n",
        "for data, target in test_dataloader:\n",
        "    data, target = data.cuda(), target.cuda()\n",
        "    output = MonkeyClassifierOptimal(data)\n",
        "    loss = criterion(output, target)\n",
        "\n",
        "    test_loss += loss.item()*data.size(0)\n",
        "    _, pred = torch.max(output,1)\n",
        "    correct_tensor = pred.eq(target.data.view_as(pred))\n",
        "    \n",
        "    correct = np.squeeze(correct_tensor.numpy()) if not train_on_gpu else np.squeeze(correct_tensor.cpu().numpy())\n",
        "    for i in range(1,batch_size): \n",
        "        label = target.data[i-1]\n",
        "        class_correct[label] += correct[i].item()\n",
        "        class_total[label] +=1\n",
        "    \n",
        "test_loss = test_loss/len(test_dataloader.dataset)\n",
        "print('Test Loss: {:.6f}\\n'.format(test_loss))\n",
        "\n",
        "for i in range(0,10):\n",
        "    if class_total[i]>0:\n",
        "        print('Test Accuracy of %5s: %2d%% (%2d/%2d)' %( classes[i], 100*class_correct[i]/class_total[i], np.sum(class_correct[i]), np.sum(class_total[i])))\n",
        "    else:\n",
        "        print('Test Accuracy of %5s: N/A (no training examples)' % (classes[i]))\n",
        "\n",
        "print('\\nTest Accuracy (Overall): %2d%% (%2d/%2d)' % (100. * np.sum(class_correct) / np.sum(class_total), np.sum(class_correct), np.sum(class_total)))"
      ],
      "execution_count": 69,
      "outputs": [
        {
          "output_type": "stream",
          "text": [
            "Test Loss: 0.247123\n",
            "\n",
            "Test Accuracy of monkey1: 75% (15/20)\n",
            "Test Accuracy of monkey2: 81% (18/22)\n",
            "Test Accuracy of monkey3: 83% (25/30)\n",
            "Test Accuracy of monkey4: 64% (20/31)\n",
            "Test Accuracy of monkey5: 66% (26/39)\n",
            "Test Accuracy of monkey6: 87% (21/24)\n",
            "Test Accuracy of monkey7: 73% (17/23)\n",
            "Test Accuracy of monkey8: 62% (18/29)\n",
            "Test Accuracy of monkey9: 81% (22/27)\n",
            "Test Accuracy of monkey10: 55% (15/27)\n",
            "\n",
            "Test Accuracy (Overall): 72% (197/272)\n"
          ],
          "name": "stdout"
        }
      ]
    }
  ]
}
