{
  "nbformat": 4,
  "nbformat_minor": 0,
  "metadata": {
    "colab": {
      "name": "Project_Transfer Learning_ResNet.ipynb",
      "version": "0.3.2",
      "provenance": [],
      "collapsed_sections": []
    },
    "kernelspec": {
      "name": "python3",
      "display_name": "Python 3"
    },
    "accelerator": "GPU"
  },
  "cells": [
    {
      "cell_type": "markdown",
      "metadata": {
        "id": "9DMrbEKITQmh",
        "colab_type": "text"
      },
      "source": [
        "# Project Transfer Learning with ResNet for a Fine-grain Classification Task \n",
        "\n",
        "## Introduction\n",
        "\n",
        "* This project applies Transfer Learning to the classification task to study fine grain classfication problems. Fine grain classifcation refers to the detailed classification problem rather than identifying a general class type. \n",
        "\n",
        "## Data\n",
        "* This project uses data publically available through Kaggle. The data involves 1300-1400 images of 10 different monkey species. Each image varies in the size. The original data can be found at the following source. \n",
        "    * Source: https://www.kaggle.com/slothkong/10-monkey-species\n",
        "\n",
        "* The ten monkey species are listed below. \n",
        "\n",
        "| Species Name | Common Name |\n",
        "                  | ------  | ------ |\n",
        "  | Alouatta Palliata |         Mantled Howler |\n",
        "| Erythrocebus Patas\t|  Patas Monkey |\n",
        "| Cacajao Calvus | Bald Uakari |\n",
        "| Macaca Fuscata | Japanese Macaque |\n",
        "| Cebuella Pygmea | Pygmy Marmoset |\n",
        "| Cebus Capucinus | White Headed Capuchin |\n",
        "| Mico Argentatus | Silvery Marmoset |\n",
        "| Saimiri Sciureus | Common Squirrel Monkey |\n",
        "| Aotus Nigriceps\t| Black Headed Night Monkey |\n",
        "| Trachypithecus Johnii | Nilgiri Langur |\n",
        "\n",
        "* All of the classes have 131-152 images for training and 26-30 for Validation. More information on the dataset can be found at the Kaggle pace for the dataset.\n",
        "\n",
        "\n",
        "\n",
        "## Design\n",
        "* To experiment and identify the effect of nerual network architecture on learning and image classification, multiple models each with the same learning rate and a different transfered model architecture.\n",
        "    * The different model architectures analyzed fall into two distinct classes: ResNet and VGG\n",
        "    * ResNet models analyzed\n",
        "        * Model R1: ResNet-18\n",
        "        * Model R2: ResNet-34\n",
        "        * Model R3: ResNet-50\n",
        "        * Model R4: ResNet-101\n",
        "        * Model R5: ResNet-152\n",
        "    * VGG models analyzed\n",
        "        * Model V1: VGG-13\n",
        "        * Model V2: VGG-16\n",
        "        * Model V3: VGG-19\n",
        "        * Model V4: VGG-13 with Batch Normalization\n",
        "        * Model V5: VGG-16  with Batch Normalization\n",
        "        * Model V6: VGG-19  with Batch Normalization\n",
        "    * This notebook contains the ResNet derived models\n",
        "    \n",
        "* Further information on the dataset and the approach taken in this project can be found in the report pdf located in the same repository. "
      ]
    },
    {
      "cell_type": "markdown",
      "metadata": {
        "id": "AKJz9xLx90Aq",
        "colab_type": "text"
      },
      "source": [
        "## Installing the required packages"
      ]
    },
    {
      "cell_type": "code",
      "metadata": {
        "id": "6shy_0je7eO8",
        "colab_type": "code",
        "outputId": "33e3383f-e11a-46c0-e5aa-badbd31fe708",
        "colab": {
          "base_uri": "https://localhost:8080/",
          "height": 51
        }
      },
      "source": [
        "#Import required packages\n",
        "import torch \n",
        "import numpy as np\n",
        "from torchvision import transforms, utils, datasets, models\n",
        "import PIL.Image\n",
        "import zipfile\n",
        "import io\n",
        "from google.colab import files\n",
        "from torch import nn \n",
        "from torch import optim \n",
        "import torch.nn.functional as F\n",
        "from matplotlib import pyplot as plt\n",
        "from torch.utils.data.sampler import SubsetRandomSampler\n",
        "import seaborn as sns\n",
        "import pandas as pd\n",
        "\n",
        "print(\"All libraries have been imported successfully\")\n",
        "\n",
        "train_on_gpu = torch.cuda.is_available()\n",
        "\n",
        "if not train_on_gpu:\n",
        "    print(\"Training on CPU\")\n",
        "else:\n",
        "    print(\"Cuda is available. Training on GPU\")"
      ],
      "execution_count": 0,
      "outputs": [
        {
          "output_type": "stream",
          "text": [
            "All libraries have been imported successfully\n",
            "Cuda is available. Training on GPU\n"
          ],
          "name": "stdout"
        }
      ]
    },
    {
      "cell_type": "code",
      "metadata": {
        "id": "p-mNvi-QODxZ",
        "colab_type": "code",
        "outputId": "1a6a01b2-909c-411a-a49e-4e4f90fd3c3f",
        "colab": {
          "resources": {
            "http://localhost:8080/nbextensions/google.colab/files.js": {
              "data": "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",
              "ok": true,
              "headers": [
                [
                  "content-type",
                  "application/javascript"
                ]
              ],
              "status": 200,
              "status_text": ""
            }
          },
          "base_uri": "https://localhost:8080/",
          "height": 74
        }
      },
      "source": [
        "\n",
        "#Load image files through a zip file upload. \n",
        "#   Since the Kaggle dataset includes a prime number of images(1097), a random image index was removed\n",
        "#   to allow for consistent batch sizes. There were 1096 total images with an individual batch size of 137.\n",
        "\n",
        "uploaded = files.upload()\n"
      ],
      "execution_count": 0,
      "outputs": [
        {
          "output_type": "display_data",
          "data": {
            "text/html": [
              "\n",
              "     <input type=\"file\" id=\"files-dc2d5d41-e75e-4a4c-9800-507a8cd2991a\" name=\"files[]\" multiple disabled />\n",
              "     <output id=\"result-dc2d5d41-e75e-4a4c-9800-507a8cd2991a\">\n",
              "      Upload widget is only available when the cell has been executed in the\n",
              "      current browser session. Please rerun this cell to enable.\n",
              "      </output>\n",
              "      <script src=\"/nbextensions/google.colab/files.js\"></script> "
            ],
            "text/plain": [
              "<IPython.core.display.HTML object>"
            ]
          },
          "metadata": {
            "tags": []
          }
        },
        {
          "output_type": "stream",
          "text": [
            "Saving train2.zip to train2.zip\n"
          ],
          "name": "stdout"
        }
      ]
    },
    {
      "cell_type": "code",
      "metadata": {
        "id": "Uw7NqvN1HKk8",
        "colab_type": "code",
        "colab": {}
      },
      "source": [
        "#Unzip files\n",
        "zf = zipfile.ZipFile(io.BytesIO(uploaded['train2.zip']), \"r\")\n",
        "zf.extractall()"
      ],
      "execution_count": 0,
      "outputs": []
    },
    {
      "cell_type": "code",
      "metadata": {
        "id": "u7rcrWg7_4Yb",
        "colab_type": "code",
        "outputId": "178031b5-dc6c-47b4-d02a-8f88aa95dc35",
        "colab": {
          "resources": {
            "http://localhost:8080/nbextensions/google.colab/files.js": {
              "data": "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",
              "ok": true,
              "headers": [
                [
                  "content-type",
                  "application/javascript"
                ]
              ],
              "status": 200,
              "status_text": ""
            }
          },
          "base_uri": "https://localhost:8080/",
          "height": 74
        }
      },
      "source": [
        "#Load the validation zip\n",
        "# This collection is identical to the validation dataset provided from the Kaggle dataset page. \n",
        "\n",
        "validloaded = files.upload()"
      ],
      "execution_count": 0,
      "outputs": [
        {
          "output_type": "display_data",
          "data": {
            "text/html": [
              "\n",
              "     <input type=\"file\" id=\"files-e934a5c5-3092-4d3b-8112-49ec3bc8473a\" name=\"files[]\" multiple disabled />\n",
              "     <output id=\"result-e934a5c5-3092-4d3b-8112-49ec3bc8473a\">\n",
              "      Upload widget is only available when the cell has been executed in the\n",
              "      current browser session. Please rerun this cell to enable.\n",
              "      </output>\n",
              "      <script src=\"/nbextensions/google.colab/files.js\"></script> "
            ],
            "text/plain": [
              "<IPython.core.display.HTML object>"
            ]
          },
          "metadata": {
            "tags": []
          }
        },
        {
          "output_type": "stream",
          "text": [
            "Saving valid.zip to valid.zip\n"
          ],
          "name": "stdout"
        }
      ]
    },
    {
      "cell_type": "code",
      "metadata": {
        "id": "pYvgKH14_7pY",
        "colab_type": "code",
        "colab": {}
      },
      "source": [
        "#Unzip the validation zip\n",
        "\n",
        "zf2 = zipfile.ZipFile(io.BytesIO(validloaded['valid.zip']), \"r\")\n",
        "zf2.extractall()"
      ],
      "execution_count": 0,
      "outputs": []
    },
    {
      "cell_type": "markdown",
      "metadata": {
        "id": "EfHegzSB_maW",
        "colab_type": "text"
      },
      "source": [
        "## Building the Datasets"
      ]
    },
    {
      "cell_type": "code",
      "metadata": {
        "id": "2wf6zGeyvhaV",
        "colab_type": "code",
        "outputId": "471e2cb8-2cd8-4021-f247-a04ed140cb16",
        "colab": {
          "base_uri": "https://localhost:8080/",
          "height": 34
        }
      },
      "source": [
        "# Create the Test and Train Dataset\n",
        "#     * This cell splits the uploaded training folder into a training and test dataset\n",
        "\n",
        "#Using the subsetRandomSampler, isolate the test dataset as a random subset of the training data totalling 25% of the training data \n",
        "num_workers = 0\n",
        "batch_size = 137\n",
        "data_dir = 'train'\n",
        "# 25% split of the training data= test data\n",
        "test_size = 0.25\n",
        "#Define the transformations for the training and test dataset. \n",
        "#  This transformation does not include any rotation or attribute skewing and therefore can also be applied to the test dataset\n",
        "data_train_transforms = transforms.Compose([transforms.Resize((256,256)), transforms.ToTensor(), transforms.Normalize([0.5,0.5,0.5], [0.5,0.5,0.5])])\n",
        "\n",
        "#Import the training dataset\n",
        "traintest_data = datasets.ImageFolder(data_dir, transform = data_train_transforms)\n",
        "\n",
        "#Randomly identify the image indices for the training and test datasets\n",
        "count_train = len(traintest_data)\n",
        "train_indices = list(range(count_train))\n",
        "np.random.shuffle(train_indices)\n",
        "traintestsplit = int(np.floor(test_size * count_train))\n",
        "traindata_idx, testdata_idx = train_indices[traintestsplit:], train_indices[:traintestsplit]\n",
        "\n",
        "train_sampler = SubsetRandomSampler(traindata_idx)\n",
        "test_sampler = SubsetRandomSampler(testdata_idx)\n",
        "\n",
        "#Create the training and test dataloaders\n",
        "train_dataloader = torch.utils.data.DataLoader(traintest_data, batch_size=batch_size, sampler = train_sampler, num_workers=num_workers)\n",
        "test_dataloader = torch.utils.data.DataLoader(traintest_data, batch_size=batch_size, sampler = test_sampler, num_workers = num_workers)\n",
        "print(\"Train and test dataloaders were created\")\n"
      ],
      "execution_count": 0,
      "outputs": [
        {
          "output_type": "stream",
          "text": [
            "Train and test dataloaders were created\n"
          ],
          "name": "stdout"
        }
      ]
    },
    {
      "cell_type": "code",
      "metadata": {
        "id": "UWPkSCrVqWnp",
        "colab_type": "code",
        "outputId": "c8f79b51-b564-4096-807f-6b094ae90657",
        "colab": {
          "base_uri": "https://localhost:8080/",
          "height": 34
        }
      },
      "source": [
        "# Create the Validation dataset\n",
        "\n",
        "#Define the transforms for the dataset\n",
        "data_valid_transforms = transforms.Compose([transforms.Resize((256,256)), transforms.ToTensor(), transforms.Normalize([0.5,0.5,0.5], [0.5,0.5,0.5])])\n",
        "\n",
        "#Import the validation dataset\n",
        "valid_dir = 'valid'\n",
        "valid_data = datasets.ImageFolder(valid_dir, transform=data_valid_transforms)\n",
        "\n",
        "#Create the validation dataloader\n",
        "valid_dataloader = torch.utils.data.DataLoader(valid_data, batch_size=32, shuffle=True)\n",
        "\n",
        "print(\"The validation datasets were defined\")"
      ],
      "execution_count": 0,
      "outputs": [
        {
          "output_type": "stream",
          "text": [
            "The validation datasets were defined\n"
          ],
          "name": "stdout"
        }
      ]
    },
    {
      "cell_type": "markdown",
      "metadata": {
        "id": "teuKKjnuAFNQ",
        "colab_type": "text"
      },
      "source": [
        "## Model R1: ResNet-18"
      ]
    },
    {
      "cell_type": "code",
      "metadata": {
        "id": "rJY_HsqJPHKX",
        "colab_type": "code",
        "outputId": "2d018aec-dec3-47e7-a6e9-3970ebdeb624",
        "colab": {
          "base_uri": "https://localhost:8080/",
          "height": 1000
        }
      },
      "source": [
        "#Define the pretrained ResNet18 model\n",
        "modelR1 = models.resnet18(pretrained=True)\n",
        "\n",
        "for param in modelR1.parameters():\n",
        "    param.requires_grad=False\n",
        "\n",
        "#Define the classifier\n",
        "class Classifier(nn.Module):\n",
        "    def __init__(self):\n",
        "        super().__init__()\n",
        "        self.fc1 = nn.Linear(512,102)\n",
        "        #The output must be 10 to match the 10 monkey species classes\n",
        "        self.fc2 = nn.Linear(102,10)\n",
        "        \n",
        "    def forward(self, x):\n",
        "        x = x.view(x.shape[0],-1)\n",
        "        x = F.relu(self.fc1(x))\n",
        "        x = F.log_softmax(self.fc2(x), dim = 1)\n",
        "        return x\n",
        "\n",
        "#Instantiate the classifier and add it to the model\n",
        "classifierR1 = Classifier()\n",
        "modelR1.fc=classifierR1\n",
        "\n",
        "print(\"Model R1's new classifier has been added\")\n",
        "\n",
        "#Define the criterion and optimizer\n",
        "device = torch.device(\"cuda\" if torch.cuda.is_available() else \"cpu\")\n",
        "criterion = nn.NLLLoss()\n",
        "optimizer = optim.SGD(modelR1.fc.parameters(), lr = 0.01)\n",
        "\n",
        "#Move the model to the GPU. \n",
        "modelR1.to(device)\n",
        "\n",
        "# Train the model with the pretrained weights\n",
        "epochs = 40\n",
        "\n",
        "trainLossListR1 = []\n",
        "validLossListR1 = []\n",
        "\n",
        "for epoch in range(epochs):\n",
        "    \n",
        "    train_loss = 0.0\n",
        "    valid_loss = 0.0\n",
        "    \n",
        "    modelR1.train()\n",
        "    for inputs, labels in train_dataloader:\n",
        "        inputs, labels = inputs.to(device),labels.to(device)\n",
        "        optimizer.zero_grad()\n",
        "        logps = modelR1.forward(inputs)\n",
        "        loss = criterion(logps, labels)\n",
        "        loss.backward()\n",
        "        optimizer.step()\n",
        "        train_loss +=loss.item()*inputs.size(0)\n",
        "    train_loss = train_loss/len(train_dataloader.dataset)\n",
        "    \n",
        "    modelR1.eval()\n",
        "    for inputs, labels in valid_dataloader:\n",
        "        inputs, labels = inputs.to(device), labels.to(device)\n",
        "        output = modelR1(inputs)\n",
        "        loss = criterion(output, labels)\n",
        "        valid_loss += loss.item()*inputs.size(0)\n",
        "    valid_loss = valid_loss/len(valid_dataloader.dataset)\n",
        "    \n",
        "    trainLossListR1.append(train_loss)\n",
        "    validLossListR1.append(valid_loss)\n",
        "    \n",
        "    print('Epoch: {} \\tTraining Loss: {:.6f} \\tValidation Loss: {:.6f}'.format(epoch,train_loss, valid_loss))\n",
        "    \n",
        "    \n",
        "#Plot the train and validation losses\n",
        "fig = plt.figure()\n",
        "ax = fig.add_subplot(111)\n",
        "plt.plot(np.arange(len(trainLossListR1)), trainLossListR1)\n",
        "plt.plot(np.arange(len(validLossListR1)), validLossListR1)\n",
        "plt.ylabel('Training and Validation Loss')\n",
        "plt.xlabel('Epoch Number')\n",
        "plt.title('Model R1: ResNet-18 Training and Validation Loss')\n",
        "plt.show()"
      ],
      "execution_count": 0,
      "outputs": [
        {
          "output_type": "stream",
          "text": [
            "Downloading: \"https://download.pytorch.org/models/resnet18-5c106cde.pth\" to /root/.cache/torch/checkpoints/resnet18-5c106cde.pth\n",
            "100%|██████████| 46827520/46827520 [00:00<00:00, 153970322.42it/s]\n"
          ],
          "name": "stderr"
        },
        {
          "output_type": "stream",
          "text": [
            "Model R1's new classifier has been added\n",
            "Epoch: 0 \tTraining Loss: 1.723604 \tValidation Loss: 2.262041\n",
            "Epoch: 1 \tTraining Loss: 1.677946 \tValidation Loss: 2.208843\n",
            "Epoch: 2 \tTraining Loss: 1.637338 \tValidation Loss: 2.159001\n",
            "Epoch: 3 \tTraining Loss: 1.597619 \tValidation Loss: 2.109491\n",
            "Epoch: 4 \tTraining Loss: 1.559213 \tValidation Loss: 2.060545\n",
            "Epoch: 5 \tTraining Loss: 1.518127 \tValidation Loss: 2.009161\n",
            "Epoch: 6 \tTraining Loss: 1.477063 \tValidation Loss: 1.955660\n",
            "Epoch: 7 \tTraining Loss: 1.433934 \tValidation Loss: 1.900578\n",
            "Epoch: 8 \tTraining Loss: 1.391384 \tValidation Loss: 1.842103\n",
            "Epoch: 9 \tTraining Loss: 1.343070 \tValidation Loss: 1.782066\n",
            "Epoch: 10 \tTraining Loss: 1.298381 \tValidation Loss: 1.721171\n",
            "Epoch: 11 \tTraining Loss: 1.248634 \tValidation Loss: 1.658795\n",
            "Epoch: 12 \tTraining Loss: 1.200468 \tValidation Loss: 1.594617\n",
            "Epoch: 13 \tTraining Loss: 1.146007 \tValidation Loss: 1.528938\n",
            "Epoch: 14 \tTraining Loss: 1.096000 \tValidation Loss: 1.462793\n",
            "Epoch: 15 \tTraining Loss: 1.048175 \tValidation Loss: 1.396758\n",
            "Epoch: 16 \tTraining Loss: 0.995135 \tValidation Loss: 1.332089\n",
            "Epoch: 17 \tTraining Loss: 0.946711 \tValidation Loss: 1.269158\n",
            "Epoch: 18 \tTraining Loss: 0.901989 \tValidation Loss: 1.209219\n",
            "Epoch: 19 \tTraining Loss: 0.854396 \tValidation Loss: 1.150706\n",
            "Epoch: 20 \tTraining Loss: 0.805401 \tValidation Loss: 1.093353\n",
            "Epoch: 21 \tTraining Loss: 0.765138 \tValidation Loss: 1.038297\n",
            "Epoch: 22 \tTraining Loss: 0.721628 \tValidation Loss: 0.986273\n",
            "Epoch: 23 \tTraining Loss: 0.687249 \tValidation Loss: 0.937187\n",
            "Epoch: 24 \tTraining Loss: 0.647042 \tValidation Loss: 0.890110\n",
            "Epoch: 25 \tTraining Loss: 0.612208 \tValidation Loss: 0.845391\n",
            "Epoch: 26 \tTraining Loss: 0.577236 \tValidation Loss: 0.805379\n",
            "Epoch: 27 \tTraining Loss: 0.543851 \tValidation Loss: 0.767869\n",
            "Epoch: 28 \tTraining Loss: 0.521338 \tValidation Loss: 0.730833\n",
            "Epoch: 29 \tTraining Loss: 0.490702 \tValidation Loss: 0.697699\n",
            "Epoch: 30 \tTraining Loss: 0.472705 \tValidation Loss: 0.665433\n",
            "Epoch: 31 \tTraining Loss: 0.444068 \tValidation Loss: 0.637319\n",
            "Epoch: 32 \tTraining Loss: 0.424389 \tValidation Loss: 0.609820\n",
            "Epoch: 33 \tTraining Loss: 0.403646 \tValidation Loss: 0.585154\n",
            "Epoch: 34 \tTraining Loss: 0.388152 \tValidation Loss: 0.562212\n",
            "Epoch: 35 \tTraining Loss: 0.368424 \tValidation Loss: 0.539449\n",
            "Epoch: 36 \tTraining Loss: 0.352203 \tValidation Loss: 0.519887\n",
            "Epoch: 37 \tTraining Loss: 0.337393 \tValidation Loss: 0.501036\n",
            "Epoch: 38 \tTraining Loss: 0.322867 \tValidation Loss: 0.482659\n",
            "Epoch: 39 \tTraining Loss: 0.314427 \tValidation Loss: 0.465144\n"
          ],
          "name": "stdout"
        },
        {
          "output_type": "display_data",
          "data": {
            "image/png": "[encoded data removed]",
            "text/plain": [
              "<Figure size 432x288 with 1 Axes>"
            ]
          },
          "metadata": {
            "tags": []
          }
        }
      ]
    },
    {
      "cell_type": "code",
      "metadata": {
        "id": "7YMFr5DmU-Mk",
        "colab_type": "code",
        "outputId": "3aeb0781-167f-4be2-9e4e-de779e2ad867",
        "colab": {
          "base_uri": "https://localhost:8080/",
          "height": 255
        }
      },
      "source": [
        "#Test Model R1 on the test dataset\n",
        "\n",
        "test_loss = 0.0\n",
        "class_correct = list(0. for i in range(10))\n",
        "class_total = list(0. for i in range(10))\n",
        "\n",
        "\n",
        "classes = ['monkey1', 'monkey2', 'monkey3', 'monkey4', 'monkey5', 'monkey6', 'monkey7',\n",
        "          'monkey8', 'monkey9', 'monkey10']\n",
        "modelR1.eval()\n",
        "for tdata, ttarget in test_dataloader:\n",
        "    tdata,ttarget = tdata.cuda(), ttarget.cuda()\n",
        "    \n",
        "    output = modelR1(tdata)\n",
        "    loss = criterion(output, ttarget)\n",
        "    test_loss += loss.item()*tdata.size(0)\n",
        "    _, pred = torch.max(output,1)\n",
        "    \n",
        "    correct_tensor = pred.eq(ttarget.data.view_as(pred))  \n",
        "    correct = np.squeeze(correct_tensor.numpy()) if not train_on_gpu else np.squeeze(correct_tensor.cpu().numpy())\n",
        "    \n",
        "    for i in range(1,batch_size):\n",
        "        label = ttarget.data[i-1]\n",
        "        class_correct[label] += correct[i].item()\n",
        "        class_total[label] += 1\n",
        "\n",
        "\n",
        "test_loss = test_loss/len(test_dataloader.dataset)\n",
        "print('Test Loss: {:.6f}\\n'.format(test_loss))\n",
        "\n",
        "for i in range(0,10):\n",
        "    if class_total[i]>0:\n",
        "        print('Test Accuracy of %5s: %2d%% (%2d/%2d) ' %( classes[i], 100*class_correct[i]/class_total[i], np.sum(class_correct[i]), np.sum(class_total[i])))\n",
        "    else:\n",
        "        print('Test Accuracy of %5s: N/A (no training examples)' % (classes[i]))\n",
        "\n",
        "print('\\nTest Accuracy (Overall): %2d%% (%2d/%2d)' % (100. * np.sum(class_correct)/ np.sum(class_total), np.sum(class_correct), np.sum(class_total)))\n",
        "\n",
        "\n",
        "    \n"
      ],
      "execution_count": 0,
      "outputs": [
        {
          "output_type": "stream",
          "text": [
            "Test Loss: 0.113025\n",
            "\n",
            "Test Accuracy of monkey1: 96% (24/25) \n",
            "Test Accuracy of monkey2: 95% (22/23) \n",
            "Test Accuracy of monkey3: 96% (31/32) \n",
            "Test Accuracy of monkey4: 100% (24/24) \n",
            "Test Accuracy of monkey5: 100% (30/30) \n",
            "Test Accuracy of monkey6: 93% (27/29) \n",
            "Test Accuracy of monkey7: 93% (28/30) \n",
            "Test Accuracy of monkey8: 95% (23/24) \n",
            "Test Accuracy of monkey9: 96% (25/26) \n",
            "Test Accuracy of monkey10: 93% (27/29) \n",
            "\n",
            "Test Accuracy (Overall): 95% (261/272)\n"
          ],
          "name": "stdout"
        }
      ]
    },
    {
      "cell_type": "markdown",
      "metadata": {
        "id": "Ekwf7OfUBiDz",
        "colab_type": "text"
      },
      "source": [
        "## Model R2: ResNet-34\n"
      ]
    },
    {
      "cell_type": "code",
      "metadata": {
        "id": "_8zl0nnnB0xk",
        "colab_type": "code",
        "outputId": "cc944e3f-d943-4c46-ad65-56fcffde3865",
        "colab": {
          "base_uri": "https://localhost:8080/",
          "height": 1000
        }
      },
      "source": [
        "#Define the pretrained ResNet34 model\n",
        "modelR2 = models.resnet34(pretrained=True)\n",
        "\n",
        "for param in modelR2.parameters():\n",
        "    param.requires_grad=False\n",
        "\n",
        "#Define the classifier\n",
        "class Classifier(nn.Module):\n",
        "    def __init__(self):\n",
        "        super().__init__()\n",
        "        #The input number of nodes may require changing to match new model\n",
        "        self.fc1 = nn.Linear(512,102)\n",
        "        #The output must be 10 to match the 10 monkey species classes\n",
        "        self.fc2 = nn.Linear(102,10)\n",
        "        \n",
        "    def forward(self, x):\n",
        "        x = x.view(x.shape[0],-1)\n",
        "        x = F.relu(self.fc1(x))\n",
        "        x = F.log_softmax(self.fc2(x), dim = 1)\n",
        "        return x\n",
        "\n",
        "#Instantiate the classifier and add it to the model\n",
        "classifierR2 = Classifier()\n",
        "modelR2.fc=classifierR2\n",
        "\n",
        "print(\"The models new classifier has been added\")\n",
        "\n",
        "#Define the criterion and optimizer\n",
        "device = torch.device(\"cuda\" if torch.cuda.is_available() else \"cpu\")\n",
        "criterion = nn.NLLLoss()\n",
        "optimizer = optim.SGD(modelR2.fc.parameters(), lr = 0.01)\n",
        "\n",
        "#Move the model to the GPU. \n",
        "modelR2.to(device)\n",
        "\n",
        "# Train the model with the pretrained weights\n",
        "epochs = 40\n",
        "\n",
        "trainLossListR2 = []\n",
        "validLossListR2 = []\n",
        "\n",
        "for epoch in range(epochs):\n",
        "    \n",
        "    train_loss = 0.0\n",
        "    valid_loss = 0.0\n",
        "    \n",
        "    modelR2.train()\n",
        "    for inputs, labels in train_dataloader:\n",
        "        inputs, labels = inputs.to(device),labels.to(device)\n",
        "        optimizer.zero_grad()\n",
        "        logps = modelR2.forward(inputs)\n",
        "        loss = criterion(logps, labels)\n",
        "        loss.backward()\n",
        "        optimizer.step()\n",
        "        train_loss +=loss.item()*inputs.size(0)\n",
        "    train_loss = train_loss/len(train_dataloader.dataset)\n",
        "    \n",
        "    modelR2.eval()\n",
        "    for inputs, labels in valid_dataloader:\n",
        "        inputs, labels = inputs.to(device), labels.to(device)\n",
        "        output = modelR2(inputs)\n",
        "        loss = criterion(output, labels)\n",
        "        valid_loss += loss.item()*inputs.size(0)\n",
        "    valid_loss = valid_loss/len(valid_dataloader.dataset)\n",
        "    \n",
        "    trainLossListR2.append(train_loss)\n",
        "    validLossListR2.append(valid_loss)\n",
        "    \n",
        "    \n",
        "    \n",
        "    print('Epoch: {} \\tTraining Loss: {:.6f} \\tValidation Loss: {:.6f}'.format(epoch,train_loss, valid_loss))\n",
        "    \n",
        "    \n",
        "#Plot the train and validation losses\n",
        "fig = plt.figure()\n",
        "ax = fig.add_subplot(111)\n",
        "plt.plot(np.arange(len(trainLossListR2)), trainLossListR2)\n",
        "plt.plot(np.arange(len(validLossListR2)), validLossListR2)\n",
        "plt.ylabel('Training and validation Loss')\n",
        "plt.xlabel('Epoch Number')\n",
        "plt.title('Model R2: ResNet-34 Training and Validation Loss')\n",
        "plt.show()"
      ],
      "execution_count": 0,
      "outputs": [
        {
          "output_type": "stream",
          "text": [
            "Downloading: \"https://download.pytorch.org/models/resnet34-333f7ec4.pth\" to /root/.cache/torch/checkpoints/resnet34-333f7ec4.pth\n",
            "100%|██████████| 87306240/87306240 [00:01<00:00, 59743904.56it/s]\n"
          ],
          "name": "stderr"
        },
        {
          "output_type": "stream",
          "text": [
            "The models new classifier has been added\n",
            "Epoch: 0 \tTraining Loss: 1.728207 \tValidation Loss: 2.262356\n",
            "Epoch: 1 \tTraining Loss: 1.677109 \tValidation Loss: 2.198863\n",
            "Epoch: 2 \tTraining Loss: 1.629338 \tValidation Loss: 2.135342\n",
            "Epoch: 3 \tTraining Loss: 1.578068 \tValidation Loss: 2.069325\n",
            "Epoch: 4 \tTraining Loss: 1.525019 \tValidation Loss: 2.000717\n",
            "Epoch: 5 \tTraining Loss: 1.470472 \tValidation Loss: 1.927974\n",
            "Epoch: 6 \tTraining Loss: 1.412487 \tValidation Loss: 1.853322\n",
            "Epoch: 7 \tTraining Loss: 1.354004 \tValidation Loss: 1.775584\n",
            "Epoch: 8 \tTraining Loss: 1.292485 \tValidation Loss: 1.695991\n",
            "Epoch: 9 \tTraining Loss: 1.231304 \tValidation Loss: 1.616546\n",
            "Epoch: 10 \tTraining Loss: 1.165339 \tValidation Loss: 1.535350\n",
            "Epoch: 11 \tTraining Loss: 1.110777 \tValidation Loss: 1.454087\n",
            "Epoch: 12 \tTraining Loss: 1.047728 \tValidation Loss: 1.373625\n",
            "Epoch: 13 \tTraining Loss: 0.990027 \tValidation Loss: 1.297451\n",
            "Epoch: 14 \tTraining Loss: 0.929202 \tValidation Loss: 1.220930\n",
            "Epoch: 15 \tTraining Loss: 0.871063 \tValidation Loss: 1.148299\n",
            "Epoch: 16 \tTraining Loss: 0.817930 \tValidation Loss: 1.078123\n",
            "Epoch: 17 \tTraining Loss: 0.764275 \tValidation Loss: 1.013470\n",
            "Epoch: 18 \tTraining Loss: 0.718000 \tValidation Loss: 0.950120\n",
            "Epoch: 19 \tTraining Loss: 0.672389 \tValidation Loss: 0.894314\n",
            "Epoch: 20 \tTraining Loss: 0.621347 \tValidation Loss: 0.838961\n",
            "Epoch: 21 \tTraining Loss: 0.590820 \tValidation Loss: 0.789549\n",
            "Epoch: 22 \tTraining Loss: 0.548660 \tValidation Loss: 0.744142\n",
            "Epoch: 23 \tTraining Loss: 0.520015 \tValidation Loss: 0.700384\n",
            "Epoch: 24 \tTraining Loss: 0.484755 \tValidation Loss: 0.661852\n",
            "Epoch: 25 \tTraining Loss: 0.457991 \tValidation Loss: 0.625518\n",
            "Epoch: 26 \tTraining Loss: 0.439011 \tValidation Loss: 0.590344\n",
            "Epoch: 27 \tTraining Loss: 0.405925 \tValidation Loss: 0.558726\n",
            "Epoch: 28 \tTraining Loss: 0.386472 \tValidation Loss: 0.531124\n",
            "Epoch: 29 \tTraining Loss: 0.369375 \tValidation Loss: 0.505790\n",
            "Epoch: 30 \tTraining Loss: 0.344953 \tValidation Loss: 0.480958\n",
            "Epoch: 31 \tTraining Loss: 0.325880 \tValidation Loss: 0.458409\n",
            "Epoch: 32 \tTraining Loss: 0.311913 \tValidation Loss: 0.438674\n",
            "Epoch: 33 \tTraining Loss: 0.295621 \tValidation Loss: 0.419501\n",
            "Epoch: 34 \tTraining Loss: 0.288127 \tValidation Loss: 0.401008\n",
            "Epoch: 35 \tTraining Loss: 0.268143 \tValidation Loss: 0.384864\n",
            "Epoch: 36 \tTraining Loss: 0.261781 \tValidation Loss: 0.369895\n",
            "Epoch: 37 \tTraining Loss: 0.247069 \tValidation Loss: 0.354860\n",
            "Epoch: 38 \tTraining Loss: 0.240824 \tValidation Loss: 0.341805\n",
            "Epoch: 39 \tTraining Loss: 0.228702 \tValidation Loss: 0.329658\n"
          ],
          "name": "stdout"
        },
        {
          "output_type": "display_data",
          "data": {
            "image/png": "[encoded data removed]",
            "text/plain": [
              "<Figure size 432x288 with 1 Axes>"
            ]
          },
          "metadata": {
            "tags": []
          }
        }
      ]
    },
    {
      "cell_type": "code",
      "metadata": {
        "id": "iD3arl1WDqh9",
        "colab_type": "code",
        "outputId": "1bf8f9ba-ed0f-4e00-db19-f819fd448d14",
        "colab": {
          "base_uri": "https://localhost:8080/",
          "height": 238
        }
      },
      "source": [
        "#Test Model R2 on the test dataset\n",
        "\n",
        "test_loss = 0.0\n",
        "class_correct = list(0. for i in range(10))\n",
        "class_total = list(0. for i in range(10))\n",
        "\n",
        "\n",
        "classes = ['monkey1', 'monkey2', 'monkey3', 'monkey4', 'monkey5', 'monkey6', 'monkey7',\n",
        "          'monkey8', 'monkey9', 'monkey10']\n",
        "modelR2.eval()\n",
        "for tdata, ttarget in test_dataloader:\n",
        "    tdata,ttarget = tdata.cuda(), ttarget.cuda()\n",
        "    \n",
        "    output = modelR2(tdata)\n",
        "    loss = criterion(output, ttarget)\n",
        "    test_loss += loss.item()*tdata.size(0)\n",
        "    _, pred = torch.max(output,1)\n",
        "    \n",
        "    correct_tensor = pred.eq(ttarget.data.view_as(pred))  \n",
        "    correct = np.squeeze(correct_tensor.numpy()) if not train_on_gpu else np.squeeze(correct_tensor.cpu().numpy())\n",
        "    \n",
        "    for i in range(1,batch_size):\n",
        "        label = ttarget.data[i-1]\n",
        "        class_correct[label] += correct[i].item()\n",
        "        class_total[label] += 1\n",
        "\n",
        "\n",
        "test_loss = test_loss/len(test_dataloader.dataset)\n",
        "print('Test Loss: {:.6f}\\n'.format(test_loss))\n",
        "\n",
        "for i in range(0,9):\n",
        "    if class_total[i]>0:\n",
        "        print('Test Accuracy of %5s: %2d%% (%2d/%2d) ' %( classes[i], 100*class_correct[i]/class_total[i], np.sum(class_correct[i]), np.sum(class_total[i])))\n",
        "    else:\n",
        "        print('Test Accuracy of %5s: N/A (no training examples)' % (classes[i]))\n",
        "\n",
        "print('\\nTest Accuracy (Overall): %2d%% (%2d/%2d)' % (100. * np.sum(class_correct)/ np.sum(class_total), np.sum(class_correct), np.sum(class_total)))\n",
        "\n",
        "\n",
        "    \n"
      ],
      "execution_count": 0,
      "outputs": [
        {
          "output_type": "stream",
          "text": [
            "Test Loss: 0.082389\n",
            "\n",
            "Test Accuracy of monkey1: 96% (25/26) \n",
            "Test Accuracy of monkey2: 100% (23/23) \n",
            "Test Accuracy of monkey3: 100% (32/32) \n",
            "Test Accuracy of monkey4: 100% (25/25) \n",
            "Test Accuracy of monkey5: 100% (30/30) \n",
            "Test Accuracy of monkey6: 96% (28/29) \n",
            "Test Accuracy of monkey7: 100% (30/30) \n",
            "Test Accuracy of monkey8: 100% (24/24) \n",
            "Test Accuracy of monkey9: 100% (26/26) \n",
            "\n",
            "Test Accuracy (Overall): 98% (268/272)\n"
          ],
          "name": "stdout"
        }
      ]
    },
    {
      "cell_type": "markdown",
      "metadata": {
        "id": "vgZ3fTNUDhkG",
        "colab_type": "text"
      },
      "source": [
        "## Model R3: ResNet-50"
      ]
    },
    {
      "cell_type": "code",
      "metadata": {
        "id": "2OSICZD9DoqJ",
        "colab_type": "code",
        "outputId": "91c75252-4261-489d-d0f5-30337ee01b17",
        "colab": {
          "base_uri": "https://localhost:8080/",
          "height": 992
        }
      },
      "source": [
        "#Define the pretrained ResNet50 model\n",
        "modelR3 = models.resnet50(pretrained=True)\n",
        "\n",
        "for param in modelR3.parameters():\n",
        "    param.requires_grad=False\n",
        "\n",
        "#Define the classifier\n",
        "class Classifier(nn.Module):\n",
        "    def __init__(self):\n",
        "        super().__init__()\n",
        "        self.fc1 = nn.Linear(2048,102)\n",
        "        #The output must be 10 to match the 10 monkey species classes\n",
        "        self.fc2 = nn.Linear(102,10)\n",
        "        \n",
        "    def forward(self, x):\n",
        "        x = x.view(x.shape[0],-1)\n",
        "        x = F.relu(self.fc1(x))\n",
        "        x = F.log_softmax(self.fc2(x), dim = 1)\n",
        "        return x\n",
        "\n",
        "#Instantiate the classifier and add it to the model\n",
        "classifierR3 = Classifier()\n",
        "modelR3.fc=classifierR3\n",
        "\n",
        "print(\"The models new classifier has been added\")\n",
        "\n",
        "#Define the criterion and optimizer\n",
        "device = torch.device(\"cuda\" if torch.cuda.is_available() else \"cpu\")\n",
        "criterion = nn.NLLLoss()\n",
        "optimizer = optim.SGD(modelR3.fc.parameters(), lr = 0.01)\n",
        "\n",
        "#Move the model to the GPU. \n",
        "modelR3.to(device)\n",
        "\n",
        "# Train the model with the pretrained weights\n",
        "epochs = 40\n",
        "\n",
        "trainLossListR3 = []\n",
        "validLossListR3 = []\n",
        "\n",
        "for epoch in range(epochs):\n",
        "    \n",
        "    train_loss = 0.0\n",
        "    valid_loss = 0.0\n",
        "    \n",
        "    modelR3.train()\n",
        "    for inputs, labels in train_dataloader:\n",
        "        inputs, labels = inputs.to(device),labels.to(device)\n",
        "        optimizer.zero_grad()\n",
        "        logps = modelR3.forward(inputs)\n",
        "        loss = criterion(logps, labels)\n",
        "        loss.backward()\n",
        "        optimizer.step()\n",
        "        train_loss +=loss.item()*inputs.size(0)\n",
        "    train_loss = train_loss/len(train_dataloader.dataset)\n",
        "    \n",
        "    modelR3.eval()\n",
        "    for inputs, labels in valid_dataloader:\n",
        "        inputs, labels = inputs.to(device), labels.to(device)\n",
        "        output = modelR3(inputs)\n",
        "        loss = criterion(output, labels)\n",
        "        valid_loss += loss.item()*inputs.size(0)\n",
        "    valid_loss = valid_loss/len(valid_dataloader.dataset)\n",
        "    \n",
        "    trainLossListR3.append(train_loss)\n",
        "    validLossListR3.append(valid_loss)\n",
        "    \n",
        "    \n",
        "    \n",
        "    print('Epoch: {} \\tTraining Loss: {:.6f} \\tValidation Loss: {:.6f}'.format(epoch,train_loss, valid_loss))\n",
        "    \n",
        "    \n",
        "#Plot the train and validation losses\n",
        "fig = plt.figure()\n",
        "ax = fig.add_subplot(111)\n",
        "plt.plot(np.arange(len(trainLossListR3)), trainLossListR3)\n",
        "plt.plot(np.arange(len(validLossListR3)), validLossListR3)\n",
        "plt.ylabel('Training and validation Loss')\n",
        "plt.xlabel('Epoch Number')\n",
        "plt.title('Model R3: ResNet-50 Training and Validation Loss')\n",
        "plt.show()"
      ],
      "execution_count": 0,
      "outputs": [
        {
          "output_type": "stream",
          "text": [
            "The models new classifier has been added\n",
            "Epoch: 0 \tTraining Loss: 1.697113 \tValidation Loss: 2.217084\n",
            "Epoch: 1 \tTraining Loss: 1.653726 \tValidation Loss: 2.167215\n",
            "Epoch: 2 \tTraining Loss: 1.612178 \tValidation Loss: 2.113659\n",
            "Epoch: 3 \tTraining Loss: 1.570461 \tValidation Loss: 2.057479\n",
            "Epoch: 4 \tTraining Loss: 1.525432 \tValidation Loss: 1.996612\n",
            "Epoch: 5 \tTraining Loss: 1.474302 \tValidation Loss: 1.930951\n",
            "Epoch: 6 \tTraining Loss: 1.424487 \tValidation Loss: 1.865108\n",
            "Epoch: 7 \tTraining Loss: 1.375173 \tValidation Loss: 1.798883\n",
            "Epoch: 8 \tTraining Loss: 1.323567 \tValidation Loss: 1.730537\n",
            "Epoch: 9 \tTraining Loss: 1.270954 \tValidation Loss: 1.662558\n",
            "Epoch: 10 \tTraining Loss: 1.217457 \tValidation Loss: 1.591625\n",
            "Epoch: 11 \tTraining Loss: 1.162987 \tValidation Loss: 1.521662\n",
            "Epoch: 12 \tTraining Loss: 1.114578 \tValidation Loss: 1.452867\n",
            "Epoch: 13 \tTraining Loss: 1.062583 \tValidation Loss: 1.384711\n",
            "Epoch: 14 \tTraining Loss: 1.014234 \tValidation Loss: 1.317985\n",
            "Epoch: 15 \tTraining Loss: 0.959290 \tValidation Loss: 1.253216\n",
            "Epoch: 16 \tTraining Loss: 0.911543 \tValidation Loss: 1.189824\n",
            "Epoch: 17 \tTraining Loss: 0.862462 \tValidation Loss: 1.127813\n",
            "Epoch: 18 \tTraining Loss: 0.816033 \tValidation Loss: 1.068165\n",
            "Epoch: 19 \tTraining Loss: 0.782005 \tValidation Loss: 1.011691\n",
            "Epoch: 20 \tTraining Loss: 0.729204 \tValidation Loss: 0.959314\n",
            "Epoch: 21 \tTraining Loss: 0.693396 \tValidation Loss: 0.907601\n",
            "Epoch: 22 \tTraining Loss: 0.656674 \tValidation Loss: 0.858799\n",
            "Epoch: 23 \tTraining Loss: 0.618320 \tValidation Loss: 0.814799\n",
            "Epoch: 24 \tTraining Loss: 0.578816 \tValidation Loss: 0.769574\n",
            "Epoch: 25 \tTraining Loss: 0.556827 \tValidation Loss: 0.729973\n",
            "Epoch: 26 \tTraining Loss: 0.519973 \tValidation Loss: 0.692038\n",
            "Epoch: 27 \tTraining Loss: 0.497115 \tValidation Loss: 0.656568\n",
            "Epoch: 28 \tTraining Loss: 0.465969 \tValidation Loss: 0.622498\n",
            "Epoch: 29 \tTraining Loss: 0.447289 \tValidation Loss: 0.593047\n",
            "Epoch: 30 \tTraining Loss: 0.422885 \tValidation Loss: 0.564555\n",
            "Epoch: 31 \tTraining Loss: 0.402345 \tValidation Loss: 0.537098\n",
            "Epoch: 32 \tTraining Loss: 0.379110 \tValidation Loss: 0.511160\n",
            "Epoch: 33 \tTraining Loss: 0.365146 \tValidation Loss: 0.488551\n",
            "Epoch: 34 \tTraining Loss: 0.352541 \tValidation Loss: 0.467244\n",
            "Epoch: 35 \tTraining Loss: 0.328878 \tValidation Loss: 0.447314\n",
            "Epoch: 36 \tTraining Loss: 0.313405 \tValidation Loss: 0.428623\n",
            "Epoch: 37 \tTraining Loss: 0.305186 \tValidation Loss: 0.410156\n",
            "Epoch: 38 \tTraining Loss: 0.293023 \tValidation Loss: 0.394765\n",
            "Epoch: 39 \tTraining Loss: 0.279232 \tValidation Loss: 0.380222\n"
          ],
          "name": "stdout"
        },
        {
          "output_type": "display_data",
          "data": {
            "image/png": "[encoded data removed]",
            "text/plain": [
              "<Figure size 432x288 with 1 Axes>"
            ]
          },
          "metadata": {
            "tags": []
          }
        }
      ]
    },
    {
      "cell_type": "code",
      "metadata": {
        "id": "VK_uyUjEF5BW",
        "colab_type": "code",
        "outputId": "424106b8-993c-4d8c-af9d-a6f4e1dcc1e8",
        "colab": {
          "base_uri": "https://localhost:8080/",
          "height": 238
        }
      },
      "source": [
        "#Test Model R3 on the test dataset\n",
        "\n",
        "test_loss = 0.0\n",
        "class_correct = list(0. for i in range(10))\n",
        "class_total = list(0. for i in range(10))\n",
        "\n",
        "\n",
        "classes = ['monkey1', 'monkey2', 'monkey3', 'monkey4', 'monkey5', 'monkey6', 'monkey7',\n",
        "          'monkey8', 'monkey9', 'monkey10']\n",
        "modelR3.eval()\n",
        "for tdata, ttarget in test_dataloader:\n",
        "    tdata,ttarget = tdata.cuda(), ttarget.cuda()\n",
        "    \n",
        "    output = modelR3(tdata)\n",
        "    loss = criterion(output, ttarget)\n",
        "    test_loss += loss.item()*tdata.size(0)\n",
        "    _, pred = torch.max(output,1)\n",
        "    \n",
        "    correct_tensor = pred.eq(ttarget.data.view_as(pred))  \n",
        "    correct = np.squeeze(correct_tensor.numpy()) if not train_on_gpu else np.squeeze(correct_tensor.cpu().numpy())\n",
        "    \n",
        "    for i in range(1,batch_size):\n",
        "        label = ttarget.data[i-1]\n",
        "        class_correct[label] += correct[i].item()\n",
        "        class_total[label] += 1\n",
        "\n",
        "\n",
        "test_loss = test_loss/len(test_dataloader.dataset)\n",
        "print('Test Loss: {:.6f}\\n'.format(test_loss))\n",
        "\n",
        "for i in range(0,9):\n",
        "    if class_total[i]>0:\n",
        "        print('Test Accuracy of %5s: %2d%% (%2d/%2d) ' %( classes[i], 100*class_correct[i]/class_total[i], np.sum(class_correct[i]), np.sum(class_total[i])))\n",
        "    else:\n",
        "        print('Test Accuracy of %5s: N/A (no training examples)' % (classes[i]))\n",
        "\n",
        "print('\\nTest Accuracy (Overall): %2d%% (%2d/%2d)' % (100. * np.sum(class_correct)/ np.sum(class_total), np.sum(class_correct), np.sum(class_total)))"
      ],
      "execution_count": 0,
      "outputs": [
        {
          "output_type": "stream",
          "text": [
            "Test Loss: 0.096427\n",
            "\n",
            "Test Accuracy of monkey1: 100% (26/26) \n",
            "Test Accuracy of monkey2: 95% (22/23) \n",
            "Test Accuracy of monkey3: 100% (32/32) \n",
            "Test Accuracy of monkey4: 96% (24/25) \n",
            "Test Accuracy of monkey5: 100% (29/29) \n",
            "Test Accuracy of monkey6: 100% (29/29) \n",
            "Test Accuracy of monkey7: 96% (28/29) \n",
            "Test Accuracy of monkey8: 95% (23/24) \n",
            "Test Accuracy of monkey9: 96% (25/26) \n",
            "\n",
            "Test Accuracy (Overall): 98% (267/272)\n"
          ],
          "name": "stdout"
        }
      ]
    },
    {
      "cell_type": "markdown",
      "metadata": {
        "id": "wHnBi81DGIRK",
        "colab_type": "text"
      },
      "source": [
        "## Model R4: ResNet-101"
      ]
    },
    {
      "cell_type": "code",
      "metadata": {
        "id": "tZedlEx3IEaU",
        "colab_type": "code",
        "outputId": "35422369-2ed4-4690-fffe-f2aa593ea643",
        "colab": {
          "base_uri": "https://localhost:8080/",
          "height": 992
        }
      },
      "source": [
        "#Define the pretrained ResNet101 model\n",
        "modelR4 = models.resnet101(pretrained=True)\n",
        "\n",
        "for param in modelR4.parameters():\n",
        "    param.requires_grad=False\n",
        "\n",
        "#Define the classifier\n",
        "class Classifier(nn.Module):\n",
        "    def __init__(self):\n",
        "        super().__init__()\n",
        "        self.fc1 = nn.Linear(2048,102)\n",
        "        #The output must be 10 to match the 10 monkey species classes\n",
        "        self.fc2 = nn.Linear(102,10)\n",
        "        \n",
        "    def forward(self, x):\n",
        "        x = x.view(x.shape[0],-1)\n",
        "        x = F.relu(self.fc1(x))\n",
        "        x = F.log_softmax(self.fc2(x), dim = 1)\n",
        "        return x\n",
        "\n",
        "#Instantiate the classifier and add it to the model\n",
        "classifierR4 = Classifier()\n",
        "modelR4.fc=classifierR4\n",
        "\n",
        "print(\"The models new classifier has been added\")\n",
        "\n",
        "#Define the criterion and optimizer\n",
        "device = torch.device(\"cuda\" if torch.cuda.is_available() else \"cpu\")\n",
        "criterion = nn.NLLLoss()\n",
        "optimizer = optim.SGD(modelR4.fc.parameters(), lr = 0.01)\n",
        "\n",
        "#Move the model to the GPU. \n",
        "modelR4.to(device)\n",
        "\n",
        "# Train the model with the pretrained weights\n",
        "epochs = 40\n",
        "\n",
        "trainLossListR4 = []\n",
        "validLossListR4 = []\n",
        "\n",
        "for epoch in range(epochs):\n",
        "    \n",
        "    train_loss = 0.0\n",
        "    valid_loss = 0.0\n",
        "    \n",
        "    modelR4.train()\n",
        "    for inputs, labels in train_dataloader:\n",
        "        inputs, labels = inputs.to(device),labels.to(device)\n",
        "        optimizer.zero_grad()\n",
        "        logps = modelR4.forward(inputs)\n",
        "        loss = criterion(logps, labels)\n",
        "        loss.backward()\n",
        "        optimizer.step()\n",
        "        train_loss +=loss.item()*inputs.size(0)\n",
        "    train_loss = train_loss/len(train_dataloader.dataset)\n",
        "    \n",
        "    modelR4.eval()\n",
        "    for inputs, labels in valid_dataloader:\n",
        "        inputs, labels = inputs.to(device), labels.to(device)\n",
        "        output = modelR4(inputs)\n",
        "        loss = criterion(output, labels)\n",
        "        valid_loss += loss.item()*inputs.size(0)\n",
        "    valid_loss = valid_loss/len(valid_dataloader.dataset)\n",
        "    \n",
        "    trainLossListR4.append(train_loss)\n",
        "    validLossListR4.append(valid_loss)\n",
        "    \n",
        "    \n",
        "    \n",
        "    print('Epoch: {} \\tTraining Loss: {:.6f} \\tValidation Loss: {:.6f}'.format(epoch,train_loss, valid_loss))\n",
        "    \n",
        "    \n",
        "#Plot the train and validation losses\n",
        "fig = plt.figure()\n",
        "ax = fig.add_subplot(111)\n",
        "plt.plot(np.arange(len(trainLossListR4)), trainLossListR4)\n",
        "plt.plot(np.arange(len(validLossListR4)), validLossListR4)\n",
        "plt.ylabel('Training and validation Loss')\n",
        "plt.xlabel('Epoch Number')\n",
        "plt.title('Model R4: ResNet-101 Training and Validation Loss')\n",
        "plt.show()"
      ],
      "execution_count": 0,
      "outputs": [
        {
          "output_type": "stream",
          "text": [
            "The models new classifier has been added\n",
            "Epoch: 0 \tTraining Loss: 1.714690 \tValidation Loss: 2.233986\n",
            "Epoch: 1 \tTraining Loss: 1.663427 \tValidation Loss: 2.176848\n",
            "Epoch: 2 \tTraining Loss: 1.617935 \tValidation Loss: 2.120258\n",
            "Epoch: 3 \tTraining Loss: 1.572874 \tValidation Loss: 2.059474\n",
            "Epoch: 4 \tTraining Loss: 1.527419 \tValidation Loss: 1.995048\n",
            "Epoch: 5 \tTraining Loss: 1.472710 \tValidation Loss: 1.927287\n",
            "Epoch: 6 \tTraining Loss: 1.419947 \tValidation Loss: 1.857611\n",
            "Epoch: 7 \tTraining Loss: 1.366890 \tValidation Loss: 1.786230\n",
            "Epoch: 8 \tTraining Loss: 1.308764 \tValidation Loss: 1.713392\n",
            "Epoch: 9 \tTraining Loss: 1.254288 \tValidation Loss: 1.641241\n",
            "Epoch: 10 \tTraining Loss: 1.196548 \tValidation Loss: 1.567711\n",
            "Epoch: 11 \tTraining Loss: 1.143289 \tValidation Loss: 1.494974\n",
            "Epoch: 12 \tTraining Loss: 1.088532 \tValidation Loss: 1.424143\n",
            "Epoch: 13 \tTraining Loss: 1.027958 \tValidation Loss: 1.351971\n",
            "Epoch: 14 \tTraining Loss: 0.973440 \tValidation Loss: 1.282417\n",
            "Epoch: 15 \tTraining Loss: 0.927124 \tValidation Loss: 1.213811\n",
            "Epoch: 16 \tTraining Loss: 0.870662 \tValidation Loss: 1.147659\n",
            "Epoch: 17 \tTraining Loss: 0.822179 \tValidation Loss: 1.082870\n",
            "Epoch: 18 \tTraining Loss: 0.774726 \tValidation Loss: 1.021281\n",
            "Epoch: 19 \tTraining Loss: 0.730662 \tValidation Loss: 0.962404\n",
            "Epoch: 20 \tTraining Loss: 0.678839 \tValidation Loss: 0.906051\n",
            "Epoch: 21 \tTraining Loss: 0.640396 \tValidation Loss: 0.853685\n",
            "Epoch: 22 \tTraining Loss: 0.600201 \tValidation Loss: 0.804020\n",
            "Epoch: 23 \tTraining Loss: 0.563925 \tValidation Loss: 0.758518\n",
            "Epoch: 24 \tTraining Loss: 0.531051 \tValidation Loss: 0.715668\n",
            "Epoch: 25 \tTraining Loss: 0.501309 \tValidation Loss: 0.676525\n",
            "Epoch: 26 \tTraining Loss: 0.468755 \tValidation Loss: 0.637549\n",
            "Epoch: 27 \tTraining Loss: 0.444994 \tValidation Loss: 0.603319\n",
            "Epoch: 28 \tTraining Loss: 0.417145 \tValidation Loss: 0.573126\n",
            "Epoch: 29 \tTraining Loss: 0.390407 \tValidation Loss: 0.543875\n",
            "Epoch: 30 \tTraining Loss: 0.374878 \tValidation Loss: 0.516698\n",
            "Epoch: 31 \tTraining Loss: 0.350049 \tValidation Loss: 0.491603\n",
            "Epoch: 32 \tTraining Loss: 0.335610 \tValidation Loss: 0.468698\n",
            "Epoch: 33 \tTraining Loss: 0.313989 \tValidation Loss: 0.447145\n",
            "Epoch: 34 \tTraining Loss: 0.301156 \tValidation Loss: 0.425800\n",
            "Epoch: 35 \tTraining Loss: 0.286630 \tValidation Loss: 0.407255\n",
            "Epoch: 36 \tTraining Loss: 0.272793 \tValidation Loss: 0.390730\n",
            "Epoch: 37 \tTraining Loss: 0.258138 \tValidation Loss: 0.375255\n",
            "Epoch: 38 \tTraining Loss: 0.250332 \tValidation Loss: 0.359395\n",
            "Epoch: 39 \tTraining Loss: 0.239410 \tValidation Loss: 0.347466\n"
          ],
          "name": "stdout"
        },
        {
          "output_type": "display_data",
          "data": {
            "image/png": "[encoded data removed]",
            "text/plain": [
              "<Figure size 432x288 with 1 Axes>"
            ]
          },
          "metadata": {
            "tags": []
          }
        }
      ]
    },
    {
      "cell_type": "code",
      "metadata": {
        "id": "AUUadF96J1EQ",
        "colab_type": "code",
        "outputId": "3d6cbf78-e762-4ded-95de-3467d619c7b9",
        "colab": {
          "base_uri": "https://localhost:8080/",
          "height": 255
        }
      },
      "source": [
        "#Test Model R4 on the test dataset\n",
        "\n",
        "test_loss = 0.0\n",
        "class_correct = list(0. for i in range(10))\n",
        "class_total = list(0. for i in range(10))\n",
        "\n",
        "\n",
        "classes = ['monkey1', 'monkey2', 'monkey3', 'monkey4', 'monkey5', 'monkey6', 'monkey7',\n",
        "          'monkey8', 'monkey9', 'monkey10']\n",
        "modelR4.eval()\n",
        "for tdata, ttarget in test_dataloader:\n",
        "    tdata,ttarget = tdata.cuda(), ttarget.cuda()\n",
        "    \n",
        "    output = modelR4(tdata)\n",
        "    loss = criterion(output, ttarget)\n",
        "    test_loss += loss.item()*tdata.size(0)\n",
        "    _, pred = torch.max(output,1)\n",
        "    \n",
        "    correct_tensor = pred.eq(ttarget.data.view_as(pred))  \n",
        "    correct = np.squeeze(correct_tensor.numpy()) if not train_on_gpu else np.squeeze(correct_tensor.cpu().numpy())\n",
        "    \n",
        "    for i in range(1,batch_size):\n",
        "        label = ttarget.data[i-1]\n",
        "        class_correct[label] += correct[i].item()\n",
        "        class_total[label] += 1\n",
        "\n",
        "\n",
        "test_loss = test_loss/len(test_dataloader.dataset)\n",
        "print('Test Loss: {:.6f}\\n'.format(test_loss))\n",
        "\n",
        "for i in range(0,10):\n",
        "    if class_total[i]>0:\n",
        "        print('Test Accuracy of %5s: %2d%% (%2d/%2d) ' %( classes[i], 100*class_correct[i]/class_total[i], np.sum(class_correct[i]), np.sum(class_total[i])))\n",
        "    else:\n",
        "        print('Test Accuracy of %5s: N/A (no training examples)' % (classes[i]))\n",
        "\n",
        "print('\\nTest Accuracy (Overall): %2d%% (%2d/%2d)' % (100. * np.sum(class_correct)/ np.sum(class_total), np.sum(class_correct), np.sum(class_total)))"
      ],
      "execution_count": 0,
      "outputs": [
        {
          "output_type": "stream",
          "text": [
            "Test Loss: 0.080856\n",
            "\n",
            "Test Accuracy of monkey1: 96% (24/25) \n",
            "Test Accuracy of monkey2: 100% (23/23) \n",
            "Test Accuracy of monkey3: 96% (31/32) \n",
            "Test Accuracy of monkey4: 100% (25/25) \n",
            "Test Accuracy of monkey5: 100% (30/30) \n",
            "Test Accuracy of monkey6: 93% (27/29) \n",
            "Test Accuracy of monkey7: 96% (29/30) \n",
            "Test Accuracy of monkey8: 100% (23/23) \n",
            "Test Accuracy of monkey9: 100% (26/26) \n",
            "Test Accuracy of monkey10: 100% (29/29) \n",
            "\n",
            "Test Accuracy (Overall): 98% (267/272)\n"
          ],
          "name": "stdout"
        }
      ]
    },
    {
      "cell_type": "markdown",
      "metadata": {
        "id": "MaL5swaNKhvg",
        "colab_type": "text"
      },
      "source": [
        "## Model R5: ResNet-152\n"
      ]
    },
    {
      "cell_type": "code",
      "metadata": {
        "id": "YIV7GaJkKnvv",
        "colab_type": "code",
        "outputId": "49ae3301-4ac5-479c-a82e-de3522a13490",
        "colab": {
          "base_uri": "https://localhost:8080/",
          "height": 992
        }
      },
      "source": [
        "#Define the pretrained ResNet101 model\n",
        "modelR5 = models.resnet152(pretrained=True)\n",
        "\n",
        "for param in modelR5.parameters():\n",
        "    param.requires_grad=False\n",
        "\n",
        "#Define the classifier\n",
        "class Classifier(nn.Module):\n",
        "    def __init__(self):\n",
        "        super().__init__()\n",
        "        self.fc1 = nn.Linear(2048,102)\n",
        "        #The output must be 10 to match the 10 monkey species classes\n",
        "        self.fc2 = nn.Linear(102,10)\n",
        "        \n",
        "    def forward(self, x):\n",
        "        x = x.view(x.shape[0],-1)\n",
        "        x = F.relu(self.fc1(x))\n",
        "        x = F.log_softmax(self.fc2(x), dim = 1)\n",
        "        return x\n",
        "\n",
        "#Instantiate the classifier and add it to the model\n",
        "classifierR5 = Classifier()\n",
        "modelR5.fc=classifierR5\n",
        "\n",
        "print(\"The models new classifier has been added\")\n",
        "\n",
        "#Define the criterion and optimizer\n",
        "device = torch.device(\"cuda\" if torch.cuda.is_available() else \"cpu\")\n",
        "criterion = nn.NLLLoss()\n",
        "optimizer = optim.SGD(modelR5.fc.parameters(), lr = 0.01)\n",
        "\n",
        "#Move the model to the GPU. \n",
        "modelR5.to(device)\n",
        "\n",
        "# Train the model with the pretrained weights\n",
        "epochs = 40\n",
        "\n",
        "trainLossListR5 = []\n",
        "validLossListR5 = []\n",
        "\n",
        "for epoch in range(epochs):\n",
        "    \n",
        "    train_loss = 0.0\n",
        "    valid_loss = 0.0\n",
        "    \n",
        "    modelR5.train()\n",
        "    for inputs, labels in train_dataloader:\n",
        "        inputs, labels = inputs.to(device),labels.to(device)\n",
        "        optimizer.zero_grad()\n",
        "        logps = modelR5.forward(inputs)\n",
        "        loss = criterion(logps, labels)\n",
        "        loss.backward()\n",
        "        optimizer.step()\n",
        "        train_loss +=loss.item()*inputs.size(0)\n",
        "    train_loss = train_loss/len(train_dataloader.dataset)\n",
        "    \n",
        "    modelR5.eval()\n",
        "    for inputs, labels in valid_dataloader:\n",
        "        inputs, labels = inputs.to(device), labels.to(device)\n",
        "        output = modelR5(inputs)\n",
        "        loss = criterion(output, labels)\n",
        "        valid_loss += loss.item()*inputs.size(0)\n",
        "    valid_loss = valid_loss/len(valid_dataloader.dataset)\n",
        "    \n",
        "    trainLossListR5.append(train_loss)\n",
        "    validLossListR5.append(valid_loss)\n",
        "    \n",
        "    \n",
        "    \n",
        "    print('Epoch: {} \\tTraining Loss: {:.6f} \\tValidation Loss: {:.6f}'.format(epoch,train_loss, valid_loss))\n",
        "    \n",
        "    \n",
        "#Plot the train and validation losses\n",
        "fig = plt.figure()\n",
        "ax = fig.add_subplot(111)\n",
        "plt.plot(np.arange(len(trainLossListR5)), trainLossListR5)\n",
        "plt.plot(np.arange(len(validLossListR5)), validLossListR5)\n",
        "plt.ylabel('Training and validation Loss')\n",
        "plt.xlabel('Epoch Number')\n",
        "plt.title('Model R5: ResNet-152 Training and Validation Loss')\n",
        "plt.show()"
      ],
      "execution_count": 0,
      "outputs": [
        {
          "output_type": "stream",
          "text": [
            "The models new classifier has been added\n",
            "Epoch: 0 \tTraining Loss: 1.704292 \tValidation Loss: 2.240986\n",
            "Epoch: 1 \tTraining Loss: 1.655109 \tValidation Loss: 2.177282\n",
            "Epoch: 2 \tTraining Loss: 1.606847 \tValidation Loss: 2.114345\n",
            "Epoch: 3 \tTraining Loss: 1.557245 \tValidation Loss: 2.051345\n",
            "Epoch: 4 \tTraining Loss: 1.509263 \tValidation Loss: 1.986096\n",
            "Epoch: 5 \tTraining Loss: 1.455578 \tValidation Loss: 1.918620\n",
            "Epoch: 6 \tTraining Loss: 1.403724 \tValidation Loss: 1.849635\n",
            "Epoch: 7 \tTraining Loss: 1.348497 \tValidation Loss: 1.779195\n",
            "Epoch: 8 \tTraining Loss: 1.298033 \tValidation Loss: 1.707834\n",
            "Epoch: 9 \tTraining Loss: 1.241420 \tValidation Loss: 1.635807\n",
            "Epoch: 10 \tTraining Loss: 1.184357 \tValidation Loss: 1.561764\n",
            "Epoch: 11 \tTraining Loss: 1.128004 \tValidation Loss: 1.490293\n",
            "Epoch: 12 \tTraining Loss: 1.072513 \tValidation Loss: 1.415595\n",
            "Epoch: 13 \tTraining Loss: 1.015317 \tValidation Loss: 1.343643\n",
            "Epoch: 14 \tTraining Loss: 0.959825 \tValidation Loss: 1.270985\n",
            "Epoch: 15 \tTraining Loss: 0.902097 \tValidation Loss: 1.201423\n",
            "Epoch: 16 \tTraining Loss: 0.850865 \tValidation Loss: 1.135038\n",
            "Epoch: 17 \tTraining Loss: 0.803986 \tValidation Loss: 1.068452\n",
            "Epoch: 18 \tTraining Loss: 0.758058 \tValidation Loss: 1.007027\n",
            "Epoch: 19 \tTraining Loss: 0.707038 \tValidation Loss: 0.948125\n",
            "Epoch: 20 \tTraining Loss: 0.660848 \tValidation Loss: 0.892166\n",
            "Epoch: 21 \tTraining Loss: 0.618159 \tValidation Loss: 0.839654\n",
            "Epoch: 22 \tTraining Loss: 0.582907 \tValidation Loss: 0.790792\n",
            "Epoch: 23 \tTraining Loss: 0.550420 \tValidation Loss: 0.745627\n",
            "Epoch: 24 \tTraining Loss: 0.514752 \tValidation Loss: 0.702076\n",
            "Epoch: 25 \tTraining Loss: 0.482684 \tValidation Loss: 0.661069\n",
            "Epoch: 26 \tTraining Loss: 0.454878 \tValidation Loss: 0.623854\n",
            "Epoch: 27 \tTraining Loss: 0.431817 \tValidation Loss: 0.590778\n",
            "Epoch: 28 \tTraining Loss: 0.396538 \tValidation Loss: 0.558925\n",
            "Epoch: 29 \tTraining Loss: 0.384743 \tValidation Loss: 0.531469\n",
            "Epoch: 30 \tTraining Loss: 0.363090 \tValidation Loss: 0.504997\n",
            "Epoch: 31 \tTraining Loss: 0.341265 \tValidation Loss: 0.479424\n",
            "Epoch: 32 \tTraining Loss: 0.328053 \tValidation Loss: 0.456810\n",
            "Epoch: 33 \tTraining Loss: 0.307149 \tValidation Loss: 0.435672\n",
            "Epoch: 34 \tTraining Loss: 0.296865 \tValidation Loss: 0.415855\n",
            "Epoch: 35 \tTraining Loss: 0.277863 \tValidation Loss: 0.397711\n",
            "Epoch: 36 \tTraining Loss: 0.266197 \tValidation Loss: 0.382052\n",
            "Epoch: 37 \tTraining Loss: 0.255843 \tValidation Loss: 0.367006\n",
            "Epoch: 38 \tTraining Loss: 0.241990 \tValidation Loss: 0.350949\n",
            "Epoch: 39 \tTraining Loss: 0.236734 \tValidation Loss: 0.337824\n"
          ],
          "name": "stdout"
        },
        {
          "output_type": "display_data",
          "data": {
            "image/png": "[encoded data removed]",
            "text/plain": [
              "<Figure size 432x288 with 1 Axes>"
            ]
          },
          "metadata": {
            "tags": []
          }
        }
      ]
    },
    {
      "cell_type": "code",
      "metadata": {
        "id": "YA50e5fnNkqe",
        "colab_type": "code",
        "outputId": "a2328c78-d9f3-45c5-85fa-4df41148ad03",
        "colab": {
          "base_uri": "https://localhost:8080/",
          "height": 255
        }
      },
      "source": [
        "#Test Model R5 on the test dataset\n",
        "\n",
        "test_loss = 0.0\n",
        "class_correct = list(0. for i in range(10))\n",
        "class_total = list(0. for i in range(10))\n",
        "\n",
        "\n",
        "classes = ['monkey1', 'monkey2', 'monkey3', 'monkey4', 'monkey5', 'monkey6', 'monkey7',\n",
        "          'monkey8', 'monkey9', 'monkey10']\n",
        "modelR5.eval()\n",
        "for tdata, ttarget in test_dataloader:\n",
        "    tdata,ttarget = tdata.cuda(), ttarget.cuda()\n",
        "    \n",
        "    output = modelR5(tdata)\n",
        "    loss = criterion(output, ttarget)\n",
        "    test_loss += loss.item()*tdata.size(0)\n",
        "    _, pred = torch.max(output,1)\n",
        "    \n",
        "    correct_tensor = pred.eq(ttarget.data.view_as(pred))  \n",
        "    correct = np.squeeze(correct_tensor.numpy()) if not train_on_gpu else np.squeeze(correct_tensor.cpu().numpy())\n",
        "    \n",
        "    for i in range(1,batch_size):\n",
        "        label = ttarget.data[i-1]\n",
        "        class_correct[label] += correct[i].item()\n",
        "        class_total[label] += 1\n",
        "\n",
        "\n",
        "test_loss = test_loss/len(test_dataloader.dataset)\n",
        "print('Test Loss: {:.6f}\\n'.format(test_loss))\n",
        "\n",
        "for i in range(0,10):\n",
        "    if class_total[i]>0:\n",
        "        print('Test Accuracy of %5s: %2d%% (%2d/%2d) ' %( classes[i], 100*class_correct[i]/class_total[i], np.sum(class_correct[i]), np.sum(class_total[i])))\n",
        "    else:\n",
        "        print('Test Accuracy of %5s: N/A (no training examples)' % (classes[i]))\n",
        "\n",
        "print('\\nTest Accuracy (Overall): %2d%% (%2d/%2d)' % (100. * np.sum(class_correct)/ np.sum(class_total), np.sum(class_correct), np.sum(class_total)))"
      ],
      "execution_count": 0,
      "outputs": [
        {
          "output_type": "stream",
          "text": [
            "Test Loss: 0.081175\n",
            "\n",
            "Test Accuracy of monkey1: 100% (25/25) \n",
            "Test Accuracy of monkey2: 100% (23/23) \n",
            "Test Accuracy of monkey3: 100% (31/31) \n",
            "Test Accuracy of monkey4: 100% (25/25) \n",
            "Test Accuracy of monkey5: 96% (29/30) \n",
            "Test Accuracy of monkey6: 100% (29/29) \n",
            "Test Accuracy of monkey7: 100% (30/30) \n",
            "Test Accuracy of monkey8: 100% (24/24) \n",
            "Test Accuracy of monkey9: 100% (26/26) \n",
            "Test Accuracy of monkey10: 100% (29/29) \n",
            "\n",
            "Test Accuracy (Overall): 99% (271/272)\n"
          ],
          "name": "stdout"
        }
      ]
    },
    {
      "cell_type": "markdown",
      "metadata": {
        "id": "FDbjNvLaLLTp",
        "colab_type": "text"
      },
      "source": [
        "## Comparing Models R1-R5\n",
        "\n",
        "* Models R1-R5 accuracies are recreated in the below table\n",
        "\n",
        "| Model | Overall Test Accuracy | \n",
        "| ----| ----|\n",
        "|Model R1: ResNet-18 |   |\n",
        "|Model R2: ResNet-34 |   |\n",
        "|Model R3: ResNet-50 |   |\n",
        "|Model R4: ResNet-101 |   |\n",
        "|Model R5: ResNet-152|   |\n"
      ]
    },
    {
      "cell_type": "code",
      "metadata": {
        "id": "1emd9G62MeA6",
        "colab_type": "code",
        "outputId": "633fcc64-abc8-4e6b-ab3e-0fd3a103453a",
        "colab": {
          "base_uri": "https://localhost:8080/",
          "height": 318
        }
      },
      "source": [
        "# To better compare how the architecture of the different networks affects its learning potential for a fine-grain classification task,\n",
        "#       Figure 1: Plot of Training Loss\n",
        "#       Figure 2: Plot of Validation Loss\n",
        "\n",
        "\n",
        "sns.set(style=\"darkgrid\")\n",
        "\n",
        "trainingLoss_df = pd.DataFrame(list(zip(trainLossListR1, trainLossListR2, trainLossListR3, trainLossListR4, trainLossListR5)),\n",
        "                              columns = ['Model R1','Model R2','Model R3','Model R4', 'Model R5'])\n",
        "palette = sns.color_palette(\"mako_r\", 5)\n",
        "ax = sns.lineplot(data=trainingLoss_df, palette=palette).set_title('Training Loss for Models R1-5')\n",
        "plt.xlabel('Epoch')\n",
        "plt.ylabel('Training Loss')"
      ],
      "execution_count": 0,
      "outputs": [
        {
          "output_type": "execute_result",
          "data": {
            "text/plain": [
              "Text(0, 0.5, 'Training Loss')"
            ]
          },
          "metadata": {
            "tags": []
          },
          "execution_count": 28
        },
        {
          "output_type": "display_data",
          "data": {
            "image/png": "[encoded data removed]",
            "text/plain": [
              "<Figure size 432x288 with 1 Axes>"
            ]
          },
          "metadata": {
            "tags": []
          }
        }
      ]
    },
    {
      "cell_type": "code",
      "metadata": {
        "id": "HKfInX6nUJHb",
        "colab_type": "code",
        "outputId": "709701a3-894e-42b8-d649-0e7ef213e6a4",
        "colab": {
          "base_uri": "https://localhost:8080/",
          "height": 318
        }
      },
      "source": [
        "validLoss_df = pd.DataFrame(list(zip(validLossListR1, validLossListR2, validLossListR3, validLossListR4, validLossListR5)),\n",
        "                              columns = ['Model R1','Model R2','Model R3','Model R4', 'Model R5'])\n",
        "palette = sns.color_palette(\"mako_r\", 5)\n",
        "ax = sns.lineplot(data=trainingLoss_df, palette=palette).set_title('Validation Loss for Models R1-5')\n",
        "plt.xlabel('Epoch')\n",
        "plt.ylabel('Validation Loss')"
      ],
      "execution_count": 0,
      "outputs": [
        {
          "output_type": "execute_result",
          "data": {
            "text/plain": [
              "Text(0, 0.5, 'Validation Loss')"
            ]
          },
          "metadata": {
            "tags": []
          },
          "execution_count": 30
        },
        {
          "output_type": "display_data",
          "data": {
            "image/png": "[encoded data removed]",
            "text/plain": [
              "<Figure size 432x288 with 1 Axes>"
            ]
          },
          "metadata": {
            "tags": []
          }
        }
      ]
    }
  ]
}