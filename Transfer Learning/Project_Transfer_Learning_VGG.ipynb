{
  "nbformat": 4,
  "nbformat_minor": 0,
  "metadata": {
    "colab": {
      "name": "Project_Transfer Learning_VGG.ipynb",
      "version": "0.3.2",
      "provenance": [],
      "collapsed_sections": []
    },
    "kernelspec": {
      "name": "python3",
      "display_name": "Python 3"
    },
    "accelerator": "GPU"
  },
  "cells": [
    {
      "cell_type": "markdown",
      "metadata": {
        "id": "9DMrbEKITQmh",
        "colab_type": "text"
      },
      "source": [
        "# Project Transfer Learning with VGG for a Fine-grain Classification Task\n",
        "\n",
        "## Introduction\n",
        "\n",
        "* This project applies Transfer Learning to the classification task to study fine grain classfication problems. Fine grain classifcation refers to the detailed classification problem rather than identifying a general class type. \n",
        "\n",
        "## Data\n",
        "* This project uses data publically available through Kaggle. The data involves 1300-1400 images of 10 different monkey species. Each image varies in the size. The original data can be found at the following source. \n",
        "    * Source: https://www.kaggle.com/slothkong/10-monkey-species\n",
        "\n",
        "* The ten monkey species are listed below. \n",
        "\n",
        "| Species Name | Common Name |\n",
        "                  | ------  | ------ |\n",
        "  | Alouatta Palliata |         Mantled Howler |\n",
        "| Erythrocebus Patas\t|  Patas Monkey |\n",
        "| Cacajao Calvus | Bald Uakari |\n",
        "| Macaca Fuscata | Japanese Macaque |\n",
        "| Cebuella Pygmea | Pygmy Marmoset |\n",
        "| Cebus Capucinus | White Headed Capuchin |\n",
        "| Mico Argentatus | Silvery Marmoset |\n",
        "| Saimiri Sciureus | Common Squirrel Monkey |\n",
        "| Aotus Nigriceps\t| Black Headed Night Monkey |\n",
        "| Trachypithecus Johnii | Nilgiri Langur |\n",
        "\n",
        "* All of the classes have 131-152 images for training and 26-30 for Validation. More information on the dataset can be found at the Kaggle pace for the dataset.\n",
        "\n",
        "\n",
        "\n",
        "## Design\n",
        "* To experiment and identify the effect of nerual network architecture on learning and image classification, multiple models each with the same learning rate and a different transfered model architecture.\n",
        "    * The different model architectures analyzed fall into two distinct classes: ResNet and VGG\n",
        "    * ResNet models analyzed\n",
        "        * Model R1: ResNet-18\n",
        "        * Model R2: ResNet-34\n",
        "        * Model R3: ResNet-50\n",
        "        * Model R4: ResNet-101\n",
        "        * Model R5: ResNet-152\n",
        "    * VGG models analyzed\n",
        "        * Model V1: VGG-13\n",
        "        * Model V2: VGG-16\n",
        "        * Model V3: VGG-19\n",
        "        * Model V4: VGG-13 with Batch Normalization\n",
        "        * Model V5: VGG-16  with Batch Normalization\n",
        "        * Model V6: VGG-19  with Batch Normalization\n",
        "    * This notebook contains the VGG derived models\n",
        "    \n",
        "* Further information on the dataset and the approach taken in this project can be found in the report pdf located in the same repository. "
      ]
    },
    {
      "cell_type": "markdown",
      "metadata": {
        "id": "AKJz9xLx90Aq",
        "colab_type": "text"
      },
      "source": [
        "## Installing the required packages"
      ]
    },
    {
      "cell_type": "code",
      "metadata": {
        "id": "6shy_0je7eO8",
        "colab_type": "code",
        "outputId": "fb0d0bed-c7ad-42f0-b87a-6b317a6b0f54",
        "colab": {
          "base_uri": "https://localhost:8080/",
          "height": 34
        }
      },
      "source": [
        "#Import required packages\n",
        "import torch \n",
        "import numpy as np\n",
        "from torchvision import transforms, utils, datasets, models\n",
        "import PIL.Image\n",
        "import zipfile\n",
        "import io\n",
        "from google.colab import files\n",
        "from torch import nn \n",
        "from torch import optim \n",
        "import torch.nn.functional as F\n",
        "from matplotlib import pyplot as plt\n",
        "from torch.utils.data.sampler import SubsetRandomSampler\n",
        "import seaborn as sns\n",
        "import pandas as pd\n",
        "\n",
        "\n",
        "train_on_gpu = torch.cuda.is_available()\n",
        "\n",
        "if not train_on_gpu:\n",
        "    print(\"Training on CPU\")\n",
        "else:\n",
        "    print(\"Cuda is available. Training on GPU\")"
      ],
      "execution_count": 1,
      "outputs": [
        {
          "output_type": "stream",
          "text": [
            "Cuda is available. Training on GPU\n"
          ],
          "name": "stdout"
        }
      ]
    },
    {
      "cell_type": "code",
      "metadata": {
        "id": "p-mNvi-QODxZ",
        "colab_type": "code",
        "outputId": "50b7c6c5-e691-4215-f4b2-9d8a02210372",
        "colab": {
          "resources": {
            "http://localhost:8080/nbextensions/google.colab/files.js": {
              "data": "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",
              "ok": true,
              "headers": [
                [
                  "content-type",
                  "application/javascript"
                ]
              ],
              "status": 200,
              "status_text": ""
            }
          },
          "base_uri": "https://localhost:8080/",
          "height": 74
        }
      },
      "source": [
        "\n",
        "#Load image files through a zip file upload. \n",
        "#   Since the Kaggle dataset includes a prime number of images(1097), a random image index was removed\n",
        "#   to allow for consistent batch sizes. There were 1096 total images with an individual batch size of 137.\n",
        "\n",
        "uploaded = files.upload()\n"
      ],
      "execution_count": 2,
      "outputs": [
        {
          "output_type": "display_data",
          "data": {
            "text/html": [
              "\n",
              "     <input type=\"file\" id=\"files-b3882fb2-9a87-45b2-81a0-378d75e56577\" name=\"files[]\" multiple disabled />\n",
              "     <output id=\"result-b3882fb2-9a87-45b2-81a0-378d75e56577\">\n",
              "      Upload widget is only available when the cell has been executed in the\n",
              "      current browser session. Please rerun this cell to enable.\n",
              "      </output>\n",
              "      <script src=\"/nbextensions/google.colab/files.js\"></script> "
            ],
            "text/plain": [
              "<IPython.core.display.HTML object>"
            ]
          },
          "metadata": {
            "tags": []
          }
        },
        {
          "output_type": "stream",
          "text": [
            "Saving train2.zip to train2.zip\n"
          ],
          "name": "stdout"
        }
      ]
    },
    {
      "cell_type": "code",
      "metadata": {
        "id": "Uw7NqvN1HKk8",
        "colab_type": "code",
        "colab": {}
      },
      "source": [
        "#Unzip files\n",
        "zf = zipfile.ZipFile(io.BytesIO(uploaded['train2.zip']), \"r\")\n",
        "zf.extractall()"
      ],
      "execution_count": 0,
      "outputs": []
    },
    {
      "cell_type": "code",
      "metadata": {
        "id": "u7rcrWg7_4Yb",
        "colab_type": "code",
        "outputId": "dd3a2d17-9ac8-41fb-a79d-c21efa861810",
        "colab": {
          "resources": {
            "http://localhost:8080/nbextensions/google.colab/files.js": {
              "data": "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",
              "ok": true,
              "headers": [
                [
                  "content-type",
                  "application/javascript"
                ]
              ],
              "status": 200,
              "status_text": ""
            }
          },
          "base_uri": "https://localhost:8080/",
          "height": 74
        }
      },
      "source": [
        "#Load the validation zip\n",
        "# This collection is identical to the validation dataset provided from the Kaggle dataset page. \n",
        "\n",
        "validloaded = files.upload()"
      ],
      "execution_count": 4,
      "outputs": [
        {
          "output_type": "display_data",
          "data": {
            "text/html": [
              "\n",
              "     <input type=\"file\" id=\"files-ba4829a9-2367-43f6-ae81-79a5c0689477\" name=\"files[]\" multiple disabled />\n",
              "     <output id=\"result-ba4829a9-2367-43f6-ae81-79a5c0689477\">\n",
              "      Upload widget is only available when the cell has been executed in the\n",
              "      current browser session. Please rerun this cell to enable.\n",
              "      </output>\n",
              "      <script src=\"/nbextensions/google.colab/files.js\"></script> "
            ],
            "text/plain": [
              "<IPython.core.display.HTML object>"
            ]
          },
          "metadata": {
            "tags": []
          }
        },
        {
          "output_type": "stream",
          "text": [
            "Saving valid.zip to valid.zip\n"
          ],
          "name": "stdout"
        }
      ]
    },
    {
      "cell_type": "code",
      "metadata": {
        "id": "pYvgKH14_7pY",
        "colab_type": "code",
        "colab": {}
      },
      "source": [
        "#Unzip the validation zip\n",
        "\n",
        "zf2 = zipfile.ZipFile(io.BytesIO(validloaded['valid.zip']), \"r\")\n",
        "zf2.extractall()"
      ],
      "execution_count": 0,
      "outputs": []
    },
    {
      "cell_type": "markdown",
      "metadata": {
        "id": "EfHegzSB_maW",
        "colab_type": "text"
      },
      "source": [
        "## Building the Datasets"
      ]
    },
    {
      "cell_type": "code",
      "metadata": {
        "id": "2wf6zGeyvhaV",
        "colab_type": "code",
        "outputId": "87f11b1a-8c13-4e6d-c4b2-59eb06f8fe4e",
        "colab": {
          "base_uri": "https://localhost:8080/",
          "height": 34
        }
      },
      "source": [
        "# Create the Test and Train Dataset\n",
        "#     * This cell splits the uploaded training folder into a training and test dataset\n",
        "\n",
        "#Using the subsetRandomSampler, isolate the test dataset as a random subset of the training data totalling 25% of the training data \n",
        "num_workers = 0\n",
        "batch_size = 137\n",
        "data_dir = 'train'\n",
        "# 25% split of the training data= test data\n",
        "test_size = 0.25\n",
        "#Define the transformations for the training and test dataset. \n",
        "#  This transformation does not include any rotation or attribute skewing and therefore can also be applied to the test dataset\n",
        "data_train_transforms = transforms.Compose([transforms.Resize((224,224)), transforms.ToTensor(),transforms.Normalize([0.485, 0.456, 0.406],[0.229, 0.224, 0.225])])\n",
        "\n",
        "#Import the training dataset\n",
        "traintest_data = datasets.ImageFolder(data_dir, transform = data_train_transforms)\n",
        "\n",
        "#Randomly identify the image indices for the training and test datasets\n",
        "count_train = len(traintest_data)\n",
        "train_indices = list(range(count_train))\n",
        "np.random.shuffle(train_indices)\n",
        "traintestsplit = int(np.floor(test_size * count_train))\n",
        "traindata_idx, testdata_idx = train_indices[traintestsplit:], train_indices[:traintestsplit]\n",
        "\n",
        "train_sampler = SubsetRandomSampler(traindata_idx)\n",
        "test_sampler = SubsetRandomSampler(testdata_idx)\n",
        "\n",
        "#Create the training and test dataloaders\n",
        "train_dataloader = torch.utils.data.DataLoader(traintest_data, batch_size=batch_size, sampler = train_sampler, num_workers=num_workers)\n",
        "test_dataloader = torch.utils.data.DataLoader(traintest_data, batch_size = batch_size, sampler = test_sampler, num_workers = num_workers)\n",
        "print(\"Train and test dataloaders were created\")\n"
      ],
      "execution_count": 6,
      "outputs": [
        {
          "output_type": "stream",
          "text": [
            "Train and test dataloaders were created\n"
          ],
          "name": "stdout"
        }
      ]
    },
    {
      "cell_type": "code",
      "metadata": {
        "id": "UWPkSCrVqWnp",
        "colab_type": "code",
        "outputId": "c4fa115a-ffa0-46f4-e6af-cec057ef3610",
        "colab": {
          "base_uri": "https://localhost:8080/",
          "height": 34
        }
      },
      "source": [
        "# Create the Validation dataset\n",
        "\n",
        "#Define the transforms for the dataset\n",
        "data_valid_transforms = transforms.Compose([transforms.Resize((224,224)), transforms.ToTensor(), transforms.Normalize([0.485, 0.456, 0.406],[0.229, 0.224, 0.225])])\n",
        "\n",
        "#Import the validation dataset\n",
        "valid_dir = 'valid'\n",
        "valid_data = datasets.ImageFolder(valid_dir, transform=data_valid_transforms)\n",
        "\n",
        "#Create the validation dataloader\n",
        "valid_dataloader = torch.utils.data.DataLoader(valid_data, batch_size=32, shuffle=True)\n",
        "\n",
        "print(\"The validation datasets were defined\")"
      ],
      "execution_count": 7,
      "outputs": [
        {
          "output_type": "stream",
          "text": [
            "The validation datasets were defined\n"
          ],
          "name": "stdout"
        }
      ]
    },
    {
      "cell_type": "markdown",
      "metadata": {
        "id": "teuKKjnuAFNQ",
        "colab_type": "text"
      },
      "source": [
        "## Model V1: VGG-13"
      ]
    },
    {
      "cell_type": "code",
      "metadata": {
        "id": "rJY_HsqJPHKX",
        "colab_type": "code",
        "outputId": "703d2699-369d-4a12-994f-05823386bcc3",
        "colab": {
          "base_uri": "https://localhost:8080/",
          "height": 686
        }
      },
      "source": [
        "#Define the pretrained VGG-13 model\n",
        "modelV1 = models.vgg13(pretrained=True)\n",
        "\n",
        "#print(\"The num of model in features is \", model_features)\n",
        "\n",
        "for param in modelV1.parameters():\n",
        "    param.requires_grad=False\n",
        "\n",
        "#Define the classifier\n",
        "class Classifier(nn.Module):\n",
        "    def __init__(self):\n",
        "        super().__init__()\n",
        "        #VGG 13 input to classifier is 25088 features \n",
        "        self.fc1 = nn.Linear(25088,1000)\n",
        "        #The output must be 10 to match the 10 monkey species classes\n",
        "        self.fc2 = nn.Linear(1000,10)\n",
        "        \n",
        "    def forward(self, x):\n",
        "        x = x.view(x.shape[0],-1)\n",
        "        x = F.relu(self.fc1(x))\n",
        "        x = F.log_softmax(self.fc2(x), dim = 1)\n",
        "        return x\n",
        "\n",
        "#Instantiate the classifier and add it to the model\n",
        "classifierV1 = Classifier()\n",
        "modelV1.classifier=classifierV1\n",
        "\n",
        "print(\"The models new classifier has been added\")\n",
        "\n",
        "#Define the criterion and optimizer\n",
        "device = torch.device(\"cuda\" if torch.cuda.is_available() else \"cpu\")\n",
        "criterion = nn.NLLLoss()\n",
        "optimizer = optim.SGD(modelV1.classifier.parameters(), lr = 0.001)\n",
        "\n",
        "#Move the model to the GPU. \n",
        "modelV1.to(device)\n",
        "\n",
        "# Train the model with the pretrained weights\n",
        "epochs = 20\n",
        "\n",
        "trainLossListV1 = []\n",
        "validLossListV1 = []\n",
        "\n",
        "for epoch in range(epochs):\n",
        "    \n",
        "    train_loss = 0.0\n",
        "    valid_loss = 0.0\n",
        "    \n",
        "    modelV1.train()\n",
        "    for inputs, labels in train_dataloader:\n",
        "        inputs, labels = inputs.to(device),labels.to(device)\n",
        "        #print(\"The size of inputs is \", inputs.shape)\n",
        "        #print(\"The size of labels is \", labels.shape)\n",
        "        \n",
        "        optimizer.zero_grad()\n",
        "        \n",
        "        logps = modelV1.forward(inputs)\n",
        "        #print(\"The size of logps is \", logps.shape)\n",
        "        \n",
        "        loss = criterion(logps, labels)\n",
        "        #print(\"The size of loss is \", loss.shape)\n",
        "        \n",
        "        loss.backward()\n",
        "        optimizer.step()\n",
        "        train_loss +=loss.item()*inputs.size(0)\n",
        "    train_loss = train_loss/len(train_dataloader.dataset)\n",
        "    \n",
        "    modelV1.eval()\n",
        "    for inputs, labels in valid_dataloader:\n",
        "        inputs, labels = inputs.to(device), labels.to(device)\n",
        "        output = modelV1(inputs)\n",
        "        loss = criterion(output, labels)\n",
        "        valid_loss += loss.item()*inputs.size(0)\n",
        "    valid_loss = valid_loss/len(valid_dataloader.dataset)\n",
        "    \n",
        "    trainLossListV1.append(train_loss)\n",
        "    validLossListV1.append(valid_loss)\n",
        "    \n",
        "    \n",
        "    \n",
        "    print('Epoch: {} \\tTraining Loss: {:.6f} \\tValidation Loss: {:.6f}'.format(epoch,train_loss, valid_loss))\n",
        "    \n",
        "    \n",
        "#Plot the train and validation losses\n",
        "fig = plt.figure()\n",
        "ax = fig.add_subplot(111)\n",
        "plt.plot(np.arange(len(trainLossListV1)), trainLossListV1)\n",
        "plt.plot(np.arange(len(validLossListV1)), validLossListV1)\n",
        "plt.ylabel('Training and validation Loss')\n",
        "plt.xlabel('Epoch Number')\n",
        "plt.title('Model V1: VGG-13 Training and Validation Loss')\n",
        "plt.show()"
      ],
      "execution_count": 13,
      "outputs": [
        {
          "output_type": "stream",
          "text": [
            "Downloading: \"https://download.pytorch.org/models/vgg13-c768596a.pth\" to /root/.cache/torch/checkpoints/vgg13-c768596a.pth\n",
            "100%|██████████| 532194478/532194478 [00:16<00:00, 31739216.14it/s]\n"
          ],
          "name": "stderr"
        },
        {
          "output_type": "stream",
          "text": [
            "The models new classifier has been added\n",
            "Epoch: 0 \tTraining Loss: 1.660215 \tValidation Loss: 2.055503\n",
            "Epoch: 1 \tTraining Loss: 1.406123 \tValidation Loss: 1.804298\n",
            "Epoch: 2 \tTraining Loss: 1.194524 \tValidation Loss: 1.587782\n",
            "Epoch: 3 \tTraining Loss: 1.017014 \tValidation Loss: 1.401965\n",
            "Epoch: 4 \tTraining Loss: 0.867237 \tValidation Loss: 1.244133\n",
            "Epoch: 5 \tTraining Loss: 0.744083 \tValidation Loss: 1.112943\n",
            "Epoch: 6 \tTraining Loss: 0.644875 \tValidation Loss: 1.002847\n",
            "Epoch: 7 \tTraining Loss: 0.563585 \tValidation Loss: 0.911848\n",
            "Epoch: 8 \tTraining Loss: 0.497420 \tValidation Loss: 0.835859\n",
            "Epoch: 9 \tTraining Loss: 0.442940 \tValidation Loss: 0.771819\n",
            "Epoch: 10 \tTraining Loss: 0.397417 \tValidation Loss: 0.717547\n",
            "Epoch: 11 \tTraining Loss: 0.360081 \tValidation Loss: 0.671427\n",
            "Epoch: 12 \tTraining Loss: 0.327772 \tValidation Loss: 0.630907\n",
            "Epoch: 13 \tTraining Loss: 0.299858 \tValidation Loss: 0.595968\n",
            "Epoch: 14 \tTraining Loss: 0.275908 \tValidation Loss: 0.565640\n",
            "Epoch: 15 \tTraining Loss: 0.255200 \tValidation Loss: 0.538685\n",
            "Epoch: 16 \tTraining Loss: 0.236995 \tValidation Loss: 0.514972\n",
            "Epoch: 17 \tTraining Loss: 0.221032 \tValidation Loss: 0.493225\n",
            "Epoch: 18 \tTraining Loss: 0.206536 \tValidation Loss: 0.473876\n",
            "Epoch: 19 \tTraining Loss: 0.193670 \tValidation Loss: 0.456585\n"
          ],
          "name": "stdout"
        },
        {
          "output_type": "display_data",
          "data": {
            "image/png": "[encoded data removed]",
            "text/plain": [
              "<Figure size 432x288 with 1 Axes>"
            ]
          },
          "metadata": {
            "tags": []
          }
        }
      ]
    },
    {
      "cell_type": "code",
      "metadata": {
        "id": "7YMFr5DmU-Mk",
        "colab_type": "code",
        "outputId": "ce5c52e4-749e-447b-fa48-53906ec88943",
        "colab": {
          "base_uri": "https://localhost:8080/",
          "height": 255
        }
      },
      "source": [
        "#Test Model V1 on the test dataset\n",
        "\n",
        "test_loss = 0.0\n",
        "class_correct = list(0. for i in range(10))\n",
        "class_total = list(0. for i in range(10))\n",
        "\n",
        "\n",
        "classes = ['monkey1', 'monkey2', 'monkey3', 'monkey4', 'monkey5', 'monkey6', 'monkey7',\n",
        "          'monkey8', 'monkey9', 'monkey10']\n",
        "modelV1.eval()\n",
        "for tdata, ttarget in test_dataloader:\n",
        "    tdata,ttarget = tdata.cuda(), ttarget.cuda()\n",
        "    \n",
        "    output = modelV1(tdata)\n",
        "    loss = criterion(output, ttarget)\n",
        "    test_loss += loss.item()*tdata.size(0)\n",
        "    _, pred = torch.max(output,1)\n",
        "    \n",
        "    correct_tensor = pred.eq(ttarget.data.view_as(pred))  \n",
        "    correct = np.squeeze(correct_tensor.numpy()) if not train_on_gpu else np.squeeze(correct_tensor.cpu().numpy())\n",
        "    \n",
        "    for i in range(1,batch_size):\n",
        "        label = ttarget.data[i-1]\n",
        "        class_correct[label] += correct[i].item()\n",
        "        class_total[label] += 1\n",
        "\n",
        "\n",
        "test_loss = test_loss/len(test_dataloader.dataset)\n",
        "print('Test Loss: {:.6f}\\n'.format(test_loss))\n",
        "\n",
        "for i in range(0,10):\n",
        "    if class_total[i]>0:\n",
        "        print('Test Accuracy of %5s: %2d%% (%2d/%2d) ' %( classes[i], 100*class_correct[i]/class_total[i], np.sum(class_correct[i]), np.sum(class_total[i])))\n",
        "    else:\n",
        "        print('Test Accuracy of %5s: N/A (no training examples)' % (classes[i]))\n",
        "\n",
        "print('\\nTest Accuracy (Overall): %2d%% (%2d/%2d)' % (100. * np.sum(class_correct)/ np.sum(class_total), np.sum(class_correct), np.sum(class_total)))\n",
        "\n",
        "\n",
        "    \n"
      ],
      "execution_count": 14,
      "outputs": [
        {
          "output_type": "stream",
          "text": [
            "Test Loss: 0.121860\n",
            "\n",
            "Test Accuracy of monkey1: 100% (27/27) \n",
            "Test Accuracy of monkey2: 100% (28/28) \n",
            "Test Accuracy of monkey3: 95% (20/21) \n",
            "Test Accuracy of monkey4: 93% (29/31) \n",
            "Test Accuracy of monkey5: 91% (32/35) \n",
            "Test Accuracy of monkey6: 94% (18/19) \n",
            "Test Accuracy of monkey7: 100% (27/27) \n",
            "Test Accuracy of monkey8: 93% (27/29) \n",
            "Test Accuracy of monkey9: 100% (29/29) \n",
            "Test Accuracy of monkey10: 100% (26/26) \n",
            "\n",
            "Test Accuracy (Overall): 96% (263/272)\n"
          ],
          "name": "stdout"
        }
      ]
    },
    {
      "cell_type": "markdown",
      "metadata": {
        "id": "Ekwf7OfUBiDz",
        "colab_type": "text"
      },
      "source": [
        "## Model V2: VGG-16"
      ]
    },
    {
      "cell_type": "code",
      "metadata": {
        "id": "_8zl0nnnB0xk",
        "colab_type": "code",
        "outputId": "c5f02c17-e41a-4070-8727-1f2dfd8a6901",
        "colab": {
          "base_uri": "https://localhost:8080/",
          "height": 686
        }
      },
      "source": [
        "#Define the pretrained ResNet34 model\n",
        "modelV2 = models.vgg16(pretrained=True)\n",
        "\n",
        "#Freeze network parameters to make the VGG model a feature extractor\n",
        "for param in modelV2.parameters():\n",
        "    param.requires_grad=False\n",
        "\n",
        "#Define the classifier\n",
        "class Classifier(nn.Module):\n",
        "    def __init__(self):\n",
        "        super().__init__()\n",
        "        \n",
        "        self.fc1 = nn.Linear(25088,1000)\n",
        "        #The output must be 10 to match the 10 monkey species classes\n",
        "        self.fc2 = nn.Linear(1000,10)\n",
        "        \n",
        "    def forward(self, x):\n",
        "        x = x.view(x.shape[0],-1)\n",
        "        x = F.relu(self.fc1(x))\n",
        "        x = F.log_softmax(self.fc2(x), dim = 1)\n",
        "        return x\n",
        "\n",
        "#Instantiate the classifier and add it to the model\n",
        "classifierV2 = Classifier()\n",
        "modelV2.classifier=classifierV2\n",
        "\n",
        "print(\"The models new classifier has been added\")\n",
        "\n",
        "#Define the criterion and optimizer\n",
        "device = torch.device(\"cuda\" if torch.cuda.is_available() else \"cpu\")\n",
        "criterion = nn.NLLLoss()\n",
        "optimizer = optim.SGD(modelV2.classifier.parameters(), lr = 0.001)\n",
        "\n",
        "#Move the model to the GPU. \n",
        "modelV2.to(device)\n",
        "\n",
        "# Train the model with the pretrained weights\n",
        "epochs = 20\n",
        "\n",
        "trainLossListV2 = []\n",
        "validLossListV2 = []\n",
        "\n",
        "for epoch in range(epochs):\n",
        "    \n",
        "    train_loss = 0.0\n",
        "    valid_loss = 0.0\n",
        "    \n",
        "    modelV2.train()\n",
        "    for inputs, labels in train_dataloader:\n",
        "        inputs, labels = inputs.to(device),labels.to(device)\n",
        "        optimizer.zero_grad()\n",
        "        logps = modelV2.forward(inputs)\n",
        "        loss = criterion(logps, labels)\n",
        "        loss.backward()\n",
        "        optimizer.step()\n",
        "        train_loss +=loss.item()*inputs.size(0)\n",
        "    train_loss = train_loss/len(train_dataloader.dataset)\n",
        "    \n",
        "    modelV2.eval()\n",
        "    for vinputs, vlabels in valid_dataloader:\n",
        "        vinputs, vlabels = vinputs.to(device), vlabels.to(device)\n",
        "        voutput = modelV2(vinputs)\n",
        "        vloss = criterion(voutput, vlabels)\n",
        "        valid_loss += vloss.item()*vinputs.size(0)\n",
        "    valid_loss = valid_loss/len(valid_dataloader.dataset)\n",
        "    \n",
        "    trainLossListV2.append(train_loss)\n",
        "    validLossListV2.append(valid_loss)\n",
        "    \n",
        "    \n",
        "    \n",
        "    print('Epoch: {} \\tTraining Loss: {:.6f} \\tValidation Loss: {:.6f}'.format(epoch,train_loss, valid_loss))\n",
        "    \n",
        "    \n",
        "#Plot the train and validation losses\n",
        "fig = plt.figure()\n",
        "ax = fig.add_subplot(111)\n",
        "plt.plot(np.arange(len(trainLossListV2)), trainLossListV2)\n",
        "plt.plot(np.arange(len(validLossListV2)), validLossListV2)\n",
        "plt.ylabel('Training and validation Loss')\n",
        "plt.xlabel('Epoch Number')\n",
        "plt.title('Model V2: VGG-16 Training and Validation Loss')\n",
        "plt.show()"
      ],
      "execution_count": 15,
      "outputs": [
        {
          "output_type": "stream",
          "text": [
            "Downloading: \"https://download.pytorch.org/models/vgg16-397923af.pth\" to /root/.cache/torch/checkpoints/vgg16-397923af.pth\n",
            "100%|██████████| 553433881/553433881 [00:18<00:00, 29680456.03it/s]\n"
          ],
          "name": "stderr"
        },
        {
          "output_type": "stream",
          "text": [
            "The models new classifier has been added\n",
            "Epoch: 0 \tTraining Loss: 1.556246 \tValidation Loss: 1.860524\n",
            "Epoch: 1 \tTraining Loss: 1.227504 \tValidation Loss: 1.541173\n",
            "Epoch: 2 \tTraining Loss: 0.989310 \tValidation Loss: 1.299638\n",
            "Epoch: 3 \tTraining Loss: 0.811526 \tValidation Loss: 1.113492\n",
            "Epoch: 4 \tTraining Loss: 0.678724 \tValidation Loss: 0.968967\n",
            "Epoch: 5 \tTraining Loss: 0.575325 \tValidation Loss: 0.854589\n",
            "Epoch: 6 \tTraining Loss: 0.495766 \tValidation Loss: 0.764598\n",
            "Epoch: 7 \tTraining Loss: 0.432756 \tValidation Loss: 0.692963\n",
            "Epoch: 8 \tTraining Loss: 0.382554 \tValidation Loss: 0.633366\n",
            "Epoch: 9 \tTraining Loss: 0.341811 \tValidation Loss: 0.584516\n",
            "Epoch: 10 \tTraining Loss: 0.307951 \tValidation Loss: 0.543379\n",
            "Epoch: 11 \tTraining Loss: 0.279856 \tValidation Loss: 0.508561\n",
            "Epoch: 12 \tTraining Loss: 0.255973 \tValidation Loss: 0.478588\n",
            "Epoch: 13 \tTraining Loss: 0.235703 \tValidation Loss: 0.452682\n",
            "Epoch: 14 \tTraining Loss: 0.217921 \tValidation Loss: 0.430238\n",
            "Epoch: 15 \tTraining Loss: 0.202564 \tValidation Loss: 0.409984\n",
            "Epoch: 16 \tTraining Loss: 0.188943 \tValidation Loss: 0.392233\n",
            "Epoch: 17 \tTraining Loss: 0.177133 \tValidation Loss: 0.376361\n",
            "Epoch: 18 \tTraining Loss: 0.166408 \tValidation Loss: 0.362152\n",
            "Epoch: 19 \tTraining Loss: 0.156741 \tValidation Loss: 0.349274\n"
          ],
          "name": "stdout"
        },
        {
          "output_type": "display_data",
          "data": {
            "image/png": "[encoded data removed]",
            "text/plain": [
              "<Figure size 432x288 with 1 Axes>"
            ]
          },
          "metadata": {
            "tags": []
          }
        }
      ]
    },
    {
      "cell_type": "code",
      "metadata": {
        "id": "iD3arl1WDqh9",
        "colab_type": "code",
        "outputId": "b5317f56-475a-49fc-9af0-b6c80b48040e",
        "colab": {
          "base_uri": "https://localhost:8080/",
          "height": 238
        }
      },
      "source": [
        "#Test Model V2 on the test dataset\n",
        "\n",
        "test_loss = 0.0\n",
        "class_correct = list(0. for i in range(10))\n",
        "class_total = list(0. for i in range(10))\n",
        "\n",
        "\n",
        "classes = ['monkey1', 'monkey2', 'monkey3', 'monkey4', 'monkey5', 'monkey6', 'monkey7',\n",
        "          'monkey8', 'monkey9', 'monkey10']\n",
        "modelV2.eval()\n",
        "for tdata, ttarget in test_dataloader:\n",
        "    tdata,ttarget = tdata.cuda(), ttarget.cuda()\n",
        "    \n",
        "    output = modelV2(tdata)\n",
        "    loss = criterion(output, ttarget)\n",
        "    test_loss += loss.item()*tdata.size(0)\n",
        "    _, pred = torch.max(output,1)\n",
        "    \n",
        "    correct_tensor = pred.eq(ttarget.data.view_as(pred))  \n",
        "    correct = np.squeeze(correct_tensor.numpy()) if not train_on_gpu else np.squeeze(correct_tensor.cpu().numpy())\n",
        "    \n",
        "    for i in range(1,batch_size):\n",
        "        label = ttarget.data[i-1]\n",
        "        class_correct[label] += correct[i].item()\n",
        "        class_total[label] += 1\n",
        "\n",
        "\n",
        "test_loss = test_loss/len(test_dataloader.dataset)\n",
        "print('Test Loss: {:.6f}\\n'.format(test_loss))\n",
        "\n",
        "for i in range(0,9):\n",
        "    if class_total[i]>0:\n",
        "        print('Test Accuracy of %5s: %2d%% (%2d/%2d) ' %( classes[i], 100*class_correct[i]/class_total[i], np.sum(class_correct[i]), np.sum(class_total[i])))\n",
        "    else:\n",
        "        print('Test Accuracy of %5s: N/A (no training examples)' % (classes[i]))\n",
        "\n",
        "print('\\nTest Accuracy (Overall): %2d%% (%2d/%2d)' % (100. * np.sum(class_correct)/ np.sum(class_total), np.sum(class_correct), np.sum(class_total)))\n"
      ],
      "execution_count": 16,
      "outputs": [
        {
          "output_type": "stream",
          "text": [
            "Test Loss: 0.083947\n",
            "\n",
            "Test Accuracy of monkey1: 100% (27/27) \n",
            "Test Accuracy of monkey2: 96% (27/28) \n",
            "Test Accuracy of monkey3: 100% (21/21) \n",
            "Test Accuracy of monkey4: 100% (30/30) \n",
            "Test Accuracy of monkey5: 94% (32/34) \n",
            "Test Accuracy of monkey6: 100% (19/19) \n",
            "Test Accuracy of monkey7: 100% (29/29) \n",
            "Test Accuracy of monkey8: 96% (28/29) \n",
            "Test Accuracy of monkey9: 96% (28/29) \n",
            "\n",
            "Test Accuracy (Overall): 98% (267/272)\n"
          ],
          "name": "stdout"
        }
      ]
    },
    {
      "cell_type": "markdown",
      "metadata": {
        "id": "vgZ3fTNUDhkG",
        "colab_type": "text"
      },
      "source": [
        "## Model V3: VGG-19"
      ]
    },
    {
      "cell_type": "code",
      "metadata": {
        "id": "2OSICZD9DoqJ",
        "colab_type": "code",
        "outputId": "f6b02310-57ae-4efc-fdf5-0febce60b879",
        "colab": {
          "base_uri": "https://localhost:8080/",
          "height": 692
        }
      },
      "source": [
        "#Define the pretrained VGG-19 model\n",
        "modelV3 = models.vgg19(pretrained=True)\n",
        "\n",
        "for param in modelV3.parameters():\n",
        "    param.requires_grad=False\n",
        "\n",
        "#Define the classifier\n",
        "class Classifier(nn.Module):\n",
        "    def __init__(self):\n",
        "        super().__init__()\n",
        "        self.fc1 = nn.Linear(25088,1000)\n",
        "        #The output must be 10 to match the 10 monkey species classes\n",
        "        self.fc2 = nn.Linear(1000,10)\n",
        "        \n",
        "    def forward(self, x):\n",
        "        x = x.view(x.shape[0],-1)\n",
        "        x = F.relu(self.fc1(x))\n",
        "        x = F.log_softmax(self.fc2(x), dim = 1)\n",
        "        return x\n",
        "\n",
        "#Instantiate the classifier and add it to the model\n",
        "classifierV3 = Classifier()\n",
        "modelV3.classifier=classifierV3\n",
        "\n",
        "print(\"The models new classifier has been added\")\n",
        "\n",
        "#Define the criterion and optimizer\n",
        "device = torch.device(\"cuda\" if torch.cuda.is_available() else \"cpu\")\n",
        "criterion = nn.NLLLoss()\n",
        "optimizer = optim.SGD(modelV3.classifier.parameters(), lr = 0.001)\n",
        "\n",
        "#Move the model to the GPU. \n",
        "modelV3.to(device)\n",
        "\n",
        "# Train the model with the pretrained weights\n",
        "epochs = 20\n",
        "\n",
        "trainLossListV3 = []\n",
        "validLossListV3 = []\n",
        "\n",
        "for epoch in range(epochs):\n",
        "    \n",
        "    train_loss = 0.0\n",
        "    valid_loss = 0.0\n",
        "    \n",
        "    modelV3.train()\n",
        "    for inputs, labels in train_dataloader:\n",
        "        inputs, labels = inputs.to(device),labels.to(device)\n",
        "        optimizer.zero_grad()\n",
        "        logps = modelV3.forward(inputs)\n",
        "        loss = criterion(logps, labels)\n",
        "        loss.backward()\n",
        "        optimizer.step()\n",
        "        train_loss +=loss.item()*inputs.size(0)\n",
        "    train_loss = train_loss/len(train_dataloader.dataset)\n",
        "    \n",
        "    modelV3.eval()\n",
        "    for inputs, labels in valid_dataloader:\n",
        "        inputs, labels = inputs.to(device), labels.to(device)\n",
        "        output = modelV3(inputs)\n",
        "        loss = criterion(output, labels)\n",
        "        valid_loss += loss.item()*inputs.size(0)\n",
        "    valid_loss = valid_loss/len(valid_dataloader.dataset)\n",
        "    \n",
        "    trainLossListV3.append(train_loss)\n",
        "    validLossListV3.append(valid_loss)\n",
        "    \n",
        "    \n",
        "    \n",
        "    print('Epoch: {} \\tTraining Loss: {:.6f} \\tValidation Loss: {:.6f}'.format(epoch,train_loss, valid_loss))\n",
        "    \n",
        "    \n",
        "#Plot the train and validation losses\n",
        "fig = plt.figure()\n",
        "ax = fig.add_subplot(111)\n",
        "plt.plot(np.arange(len(trainLossListV3)), trainLossListV3)\n",
        "plt.plot(np.arange(len(validLossListV3)), validLossListV3)\n",
        "plt.ylabel('Training and validation Loss')\n",
        "plt.xlabel('Epoch Number')\n",
        "plt.title('Model V3: VGG-19 Training and Validation Loss')\n",
        "plt.show()"
      ],
      "execution_count": 18,
      "outputs": [
        {
          "output_type": "stream",
          "text": [
            "Downloading: \"https://download.pytorch.org/models/vgg19-dcbb9e9d.pth\" to /root/.cache/torch/checkpoints/vgg19-dcbb9e9d.pth\n",
            "100%|██████████| 574673361/574673361 [00:04<00:00, 141132645.67it/s]\n"
          ],
          "name": "stderr"
        },
        {
          "output_type": "stream",
          "text": [
            "The models new classifier has been added\n",
            "Epoch: 0 \tTraining Loss: 1.570088 \tValidation Loss: 1.859693\n",
            "Epoch: 1 \tTraining Loss: 1.203019 \tValidation Loss: 1.498970\n",
            "Epoch: 2 \tTraining Loss: 0.945855 \tValidation Loss: 1.233936\n",
            "Epoch: 3 \tTraining Loss: 0.760956 \tValidation Loss: 1.034472\n",
            "Epoch: 4 \tTraining Loss: 0.624736 \tValidation Loss: 0.885699\n",
            "Epoch: 5 \tTraining Loss: 0.525488 \tValidation Loss: 0.771539\n",
            "Epoch: 6 \tTraining Loss: 0.449706 \tValidation Loss: 0.683169\n",
            "Epoch: 7 \tTraining Loss: 0.390654 \tValidation Loss: 0.613861\n",
            "Epoch: 8 \tTraining Loss: 0.344590 \tValidation Loss: 0.558377\n",
            "Epoch: 9 \tTraining Loss: 0.307319 \tValidation Loss: 0.513065\n",
            "Epoch: 10 \tTraining Loss: 0.277321 \tValidation Loss: 0.475461\n",
            "Epoch: 11 \tTraining Loss: 0.252296 \tValidation Loss: 0.443851\n",
            "Epoch: 12 \tTraining Loss: 0.230813 \tValidation Loss: 0.416872\n",
            "Epoch: 13 \tTraining Loss: 0.212752 \tValidation Loss: 0.393416\n",
            "Epoch: 14 \tTraining Loss: 0.196923 \tValidation Loss: 0.373363\n",
            "Epoch: 15 \tTraining Loss: 0.183435 \tValidation Loss: 0.355758\n",
            "Epoch: 16 \tTraining Loss: 0.171388 \tValidation Loss: 0.340221\n",
            "Epoch: 17 \tTraining Loss: 0.160815 \tValidation Loss: 0.326367\n",
            "Epoch: 18 \tTraining Loss: 0.151530 \tValidation Loss: 0.314034\n",
            "Epoch: 19 \tTraining Loss: 0.142989 \tValidation Loss: 0.302815\n"
          ],
          "name": "stdout"
        },
        {
          "output_type": "display_data",
          "data": {
            "image/png": "[encoded data removed]",
            "text/plain": [
              "<Figure size 432x288 with 1 Axes>"
            ]
          },
          "metadata": {
            "tags": []
          }
        }
      ]
    },
    {
      "cell_type": "code",
      "metadata": {
        "id": "VK_uyUjEF5BW",
        "colab_type": "code",
        "outputId": "6318d647-e7a7-484c-d301-b85b77ea5ba9",
        "colab": {
          "base_uri": "https://localhost:8080/",
          "height": 255
        }
      },
      "source": [
        "#Test Model V3 on the test dataset\n",
        "\n",
        "test_loss = 0.0\n",
        "class_correct = list(0. for i in range(10))\n",
        "class_total = list(0. for i in range(10))\n",
        "\n",
        "\n",
        "classes = ['monkey1', 'monkey2', 'monkey3', 'monkey4', 'monkey5', 'monkey6', 'monkey7',\n",
        "          'monkey8', 'monkey9', 'monkey10']\n",
        "modelV3.eval()\n",
        "for tdata, ttarget in test_dataloader:\n",
        "    tdata,ttarget = tdata.cuda(), ttarget.cuda()\n",
        "    \n",
        "    output = modelV3(tdata)\n",
        "    loss = criterion(output, ttarget)\n",
        "    test_loss += loss.item()*tdata.size(0)\n",
        "    _, pred = torch.max(output,1)\n",
        "    \n",
        "    correct_tensor = pred.eq(ttarget.data.view_as(pred))  \n",
        "    correct = np.squeeze(correct_tensor.numpy()) if not train_on_gpu else np.squeeze(correct_tensor.cpu().numpy())\n",
        "    \n",
        "    for i in range(1,batch_size):\n",
        "        label = ttarget.data[i-1]\n",
        "        class_correct[label] += correct[i].item()\n",
        "        class_total[label] += 1\n",
        "\n",
        "\n",
        "test_loss = test_loss/len(test_dataloader.dataset)\n",
        "print('Test Loss: {:.6f}\\n'.format(test_loss))\n",
        "\n",
        "for i in range(0,10):\n",
        "    if class_total[i]>0:\n",
        "        print('Test Accuracy of %5s: %2d%% (%2d/%2d) ' %( classes[i], 100*class_correct[i]/class_total[i], np.sum(class_correct[i]), np.sum(class_total[i])))\n",
        "    else:\n",
        "        print('Test Accuracy of %5s: N/A (no training examples)' % (classes[i]))\n",
        "\n",
        "print('\\nTest Accuracy (Overall): %2d%% (%2d/%2d)' % (100. * np.sum(class_correct)/ np.sum(class_total), np.sum(class_correct), np.sum(class_total)))"
      ],
      "execution_count": 19,
      "outputs": [
        {
          "output_type": "stream",
          "text": [
            "Test Loss: 0.079644\n",
            "\n",
            "Test Accuracy of monkey1: 96% (25/26) \n",
            "Test Accuracy of monkey2: 96% (27/28) \n",
            "Test Accuracy of monkey3: 95% (20/21) \n",
            "Test Accuracy of monkey4: 100% (31/31) \n",
            "Test Accuracy of monkey5: 97% (34/35) \n",
            "Test Accuracy of monkey6: 89% (17/19) \n",
            "Test Accuracy of monkey7: 96% (28/29) \n",
            "Test Accuracy of monkey8: 100% (29/29) \n",
            "Test Accuracy of monkey9: 96% (27/28) \n",
            "Test Accuracy of monkey10: 96% (25/26) \n",
            "\n",
            "Test Accuracy (Overall): 96% (263/272)\n"
          ],
          "name": "stdout"
        }
      ]
    },
    {
      "cell_type": "markdown",
      "metadata": {
        "id": "wHnBi81DGIRK",
        "colab_type": "text"
      },
      "source": [
        "## Model V4: VGG-13 with Batch Normalization"
      ]
    },
    {
      "cell_type": "code",
      "metadata": {
        "id": "tZedlEx3IEaU",
        "colab_type": "code",
        "outputId": "205c163f-c718-42c7-dd71-080981ce687e",
        "colab": {
          "base_uri": "https://localhost:8080/",
          "height": 686
        }
      },
      "source": [
        "#Define the pretrained ResNet101 model\n",
        "modelV4 = models.vgg13_bn(pretrained=True)\n",
        "\n",
        "for param in modelV4.parameters():\n",
        "    param.requires_grad=False\n",
        "\n",
        "#Define the classifier\n",
        "class Classifier(nn.Module):\n",
        "    def __init__(self):\n",
        "        super().__init__()\n",
        "        self.fc1 = nn.Linear(25088,1000)\n",
        "        #The output must be 10 to match the 10 monkey species classes\n",
        "        self.fc2 = nn.Linear(1000,10)\n",
        "        \n",
        "    def forward(self, x):\n",
        "        x = x.view(x.shape[0],-1)\n",
        "        x = F.relu(self.fc1(x))\n",
        "        x = F.log_softmax(self.fc2(x), dim = 1)\n",
        "        return x\n",
        "\n",
        "#Instantiate the classifier and add it to the model\n",
        "classifierV4 = Classifier()\n",
        "modelV4.classifier=classifierV4\n",
        "\n",
        "print(\"The models new classifier has been added\")\n",
        "\n",
        "#Define the criterion and optimizer\n",
        "device = torch.device(\"cuda\" if torch.cuda.is_available() else \"cpu\")\n",
        "criterion = nn.NLLLoss()\n",
        "optimizer = optim.SGD(modelV4.classifier.parameters(), lr = 0.01)\n",
        "\n",
        "#Move the model to the GPU. \n",
        "modelV4.to(device)\n",
        "\n",
        "# Train the model with the pretrained weights\n",
        "epochs = 20\n",
        "\n",
        "trainLossListV4 = []\n",
        "validLossListV4 = []\n",
        "\n",
        "for epoch in range(epochs):\n",
        "    \n",
        "    train_loss = 0.0\n",
        "    valid_loss = 0.0\n",
        "    \n",
        "    modelV4.train()\n",
        "    for inputs, labels in train_dataloader:\n",
        "        inputs, labels = inputs.to(device),labels.to(device)\n",
        "        optimizer.zero_grad()\n",
        "        logps = modelV4.forward(inputs)\n",
        "        loss = criterion(logps, labels)\n",
        "        loss.backward()\n",
        "        optimizer.step()\n",
        "        train_loss +=loss.item()*inputs.size(0)\n",
        "    train_loss = train_loss/len(train_dataloader.dataset)\n",
        "    \n",
        "    modelV4.eval()\n",
        "    for inputs, labels in valid_dataloader:\n",
        "        inputs, labels = inputs.to(device), labels.to(device)\n",
        "        output = modelV4(inputs)\n",
        "        loss = criterion(output, labels)\n",
        "        valid_loss += loss.item()*inputs.size(0)\n",
        "    valid_loss = valid_loss/len(valid_dataloader.dataset)\n",
        "    \n",
        "    trainLossListV4.append(train_loss)\n",
        "    validLossListV4.append(valid_loss)\n",
        "    \n",
        "    \n",
        "    \n",
        "    print('Epoch: {} \\tTraining Loss: {:.6f} \\tValidation Loss: {:.6f}'.format(epoch,train_loss, valid_loss))\n",
        "    \n",
        "    \n",
        "#Plot the train and validation losses\n",
        "fig = plt.figure()\n",
        "ax = fig.add_subplot(111)\n",
        "plt.plot(np.arange(len(trainLossListV4)), trainLossListV4)\n",
        "plt.plot(np.arange(len(validLossListV4)), validLossListV4)\n",
        "plt.ylabel('Training and validation Loss')\n",
        "plt.xlabel('Epoch Number')\n",
        "plt.title('Model V4: VGG 13 with Batch Normalization Training and Validation Loss')\n",
        "plt.show()"
      ],
      "execution_count": 8,
      "outputs": [
        {
          "output_type": "stream",
          "text": [
            "Downloading: \"https://download.pytorch.org/models/vgg13_bn-abd245e5.pth\" to /root/.cache/torch/checkpoints/vgg13_bn-abd245e5.pth\n",
            "100%|██████████| 532246301/532246301 [00:16<00:00, 32068459.28it/s]\n"
          ],
          "name": "stderr"
        },
        {
          "output_type": "stream",
          "text": [
            "The models new classifier has been added\n",
            "Epoch: 0 \tTraining Loss: 1.684731 \tValidation Loss: 2.158709\n",
            "Epoch: 1 \tTraining Loss: 1.571324 \tValidation Loss: 2.029127\n",
            "Epoch: 2 \tTraining Loss: 1.448768 \tValidation Loss: 1.889507\n",
            "Epoch: 3 \tTraining Loss: 1.313438 \tValidation Loss: 1.738365\n",
            "Epoch: 4 \tTraining Loss: 1.176087 \tValidation Loss: 1.582851\n",
            "Epoch: 5 \tTraining Loss: 1.039661 \tValidation Loss: 1.430347\n",
            "Epoch: 6 \tTraining Loss: 0.908084 \tValidation Loss: 1.287730\n",
            "Epoch: 7 \tTraining Loss: 0.793952 \tValidation Loss: 1.159235\n",
            "Epoch: 8 \tTraining Loss: 0.692319 \tValidation Loss: 1.045746\n",
            "Epoch: 9 \tTraining Loss: 0.607980 \tValidation Loss: 0.948315\n",
            "Epoch: 10 \tTraining Loss: 0.534154 \tValidation Loss: 0.864537\n",
            "Epoch: 11 \tTraining Loss: 0.470078 \tValidation Loss: 0.792368\n",
            "Epoch: 12 \tTraining Loss: 0.416403 \tValidation Loss: 0.731213\n",
            "Epoch: 13 \tTraining Loss: 0.374707 \tValidation Loss: 0.678123\n",
            "Epoch: 14 \tTraining Loss: 0.337157 \tValidation Loss: 0.632925\n",
            "Epoch: 15 \tTraining Loss: 0.307534 \tValidation Loss: 0.594069\n",
            "Epoch: 16 \tTraining Loss: 0.277309 \tValidation Loss: 0.559140\n",
            "Epoch: 17 \tTraining Loss: 0.253250 \tValidation Loss: 0.528580\n",
            "Epoch: 18 \tTraining Loss: 0.230869 \tValidation Loss: 0.501168\n",
            "Epoch: 19 \tTraining Loss: 0.215235 \tValidation Loss: 0.477165\n"
          ],
          "name": "stdout"
        },
        {
          "output_type": "display_data",
          "data": {
            "image/png": "[encoded data removed]",
            "text/plain": [
              "<Figure size 432x288 with 1 Axes>"
            ]
          },
          "metadata": {
            "tags": []
          }
        }
      ]
    },
    {
      "cell_type": "code",
      "metadata": {
        "id": "AUUadF96J1EQ",
        "colab_type": "code",
        "outputId": "0273cd17-1a3c-46dc-f761-0775d03aac39",
        "colab": {
          "base_uri": "https://localhost:8080/",
          "height": 238
        }
      },
      "source": [
        "#Test Model V4 on the test dataset\n",
        "\n",
        "test_loss = 0.0\n",
        "class_correct = list(0. for i in range(10))\n",
        "class_total = list(0. for i in range(10))\n",
        "\n",
        "\n",
        "classes = ['monkey1', 'monkey2', 'monkey3', 'monkey4', 'monkey5', 'monkey6', 'monkey7',\n",
        "          'monkey8', 'monkey9', 'monkey10']\n",
        "modelV4.eval()\n",
        "for tdata, ttarget in test_dataloader:\n",
        "    tdata,ttarget = tdata.cuda(), ttarget.cuda()\n",
        "    \n",
        "    output = modelV4(tdata)\n",
        "    loss = criterion(output, ttarget)\n",
        "    test_loss += loss.item()*tdata.size(0)\n",
        "    _, pred = torch.max(output,1)\n",
        "    \n",
        "    correct_tensor = pred.eq(ttarget.data.view_as(pred))  \n",
        "    correct = np.squeeze(correct_tensor.numpy()) if not train_on_gpu else np.squeeze(correct_tensor.cpu().numpy())\n",
        "    \n",
        "    for i in range(1,batch_size):\n",
        "        label = ttarget.data[i-1]\n",
        "        class_correct[label] += correct[i].item()\n",
        "        class_total[label] += 1\n",
        "\n",
        "\n",
        "test_loss = test_loss/len(test_dataloader.dataset)\n",
        "print('Test Loss: {:.6f}\\n'.format(test_loss))\n",
        "\n",
        "for i in range(0,9):\n",
        "    if class_total[i]>0:\n",
        "        print('Test Accuracy of %5s: %2d%% (%2d/%2d) ' %( classes[i], 100*class_correct[i]/class_total[i], np.sum(class_correct[i]), np.sum(class_total[i])))\n",
        "    else:\n",
        "        print('Test Accuracy of %5s: N/A (no training examples)' % (classes[i]))\n",
        "\n",
        "print('\\nTest Accuracy (Overall): %2d%% (%2d/%2d)' % (100. * np.sum(class_correct)/ np.sum(class_total), np.sum(class_correct), np.sum(class_total)))"
      ],
      "execution_count": 9,
      "outputs": [
        {
          "output_type": "stream",
          "text": [
            "Test Loss: 0.122029\n",
            "\n",
            "Test Accuracy of monkey1: 88% (23/26) \n",
            "Test Accuracy of monkey2: 100% (28/28) \n",
            "Test Accuracy of monkey3: 90% (19/21) \n",
            "Test Accuracy of monkey4: 100% (30/30) \n",
            "Test Accuracy of monkey5: 97% (34/35) \n",
            "Test Accuracy of monkey6: 100% (19/19) \n",
            "Test Accuracy of monkey7: 100% (29/29) \n",
            "Test Accuracy of monkey8: 96% (28/29) \n",
            "Test Accuracy of monkey9: 96% (28/29) \n",
            "\n",
            "Test Accuracy (Overall): 96% (262/272)\n"
          ],
          "name": "stdout"
        }
      ]
    },
    {
      "cell_type": "markdown",
      "metadata": {
        "id": "MaL5swaNKhvg",
        "colab_type": "text"
      },
      "source": [
        "## Model V5: VGG-16 with Batch Normalization\n"
      ]
    },
    {
      "cell_type": "code",
      "metadata": {
        "id": "YIV7GaJkKnvv",
        "colab_type": "code",
        "outputId": "5708fbc2-b878-44ce-e778-dd9dfa84bf64",
        "colab": {
          "base_uri": "https://localhost:8080/",
          "height": 686
        }
      },
      "source": [
        "#Define the pretrained VGG model\n",
        "modelV5 = models.vgg16_bn(pretrained=True)\n",
        "\n",
        "for param in modelV5.parameters():\n",
        "    param.requires_grad=False\n",
        "\n",
        "#Define the classifier\n",
        "class Classifier(nn.Module):\n",
        "    def __init__(self):\n",
        "        super().__init__()\n",
        "        self.fc1 = nn.Linear(25088,1000)\n",
        "        #The output must be 10 to match the 10 monkey species classes\n",
        "        self.fc2 = nn.Linear(1000,10)\n",
        "        \n",
        "    def forward(self, x):\n",
        "        x = x.view(x.shape[0],-1)\n",
        "        x = F.relu(self.fc1(x))\n",
        "        x = F.log_softmax(self.fc2(x), dim = 1)\n",
        "        return x\n",
        "\n",
        "#Instantiate the classifier and add it to the model\n",
        "classifierV5 = Classifier()\n",
        "modelV5.classifier=classifierV5\n",
        "\n",
        "print(\"The models new classifier has been added\")\n",
        "\n",
        "#Define the criterion and optimizer\n",
        "device = torch.device(\"cuda\" if torch.cuda.is_available() else \"cpu\")\n",
        "criterion = nn.NLLLoss()\n",
        "optimizer = optim.SGD(modelV5.classifier.parameters(), lr = 0.01)\n",
        "\n",
        "#Move the model to the GPU. \n",
        "modelV5.to(device)\n",
        "\n",
        "# Train the model with the pretrained weights\n",
        "epochs = 20\n",
        "\n",
        "trainLossListV5 = []\n",
        "validLossListV5 = []\n",
        "\n",
        "for epoch in range(epochs):\n",
        "    \n",
        "    train_loss = 0.0\n",
        "    valid_loss = 0.0\n",
        "    \n",
        "    modelV5.train()\n",
        "    for inputs, labels in train_dataloader:\n",
        "        inputs, labels = inputs.to(device),labels.to(device)\n",
        "        optimizer.zero_grad()\n",
        "        logps = modelV5.forward(inputs)\n",
        "        loss = criterion(logps, labels)\n",
        "        loss.backward()\n",
        "        optimizer.step()\n",
        "        train_loss +=loss.item()*inputs.size(0)\n",
        "    train_loss = train_loss/len(train_dataloader.dataset)\n",
        "    \n",
        "    modelV5.eval()\n",
        "    for inputs, labels in valid_dataloader:\n",
        "        inputs, labels = inputs.to(device), labels.to(device)\n",
        "        output = modelV5(inputs)\n",
        "        loss = criterion(output, labels)\n",
        "        valid_loss += loss.item()*inputs.size(0)\n",
        "    valid_loss = valid_loss/len(valid_dataloader.dataset)\n",
        "    \n",
        "    trainLossListV5.append(train_loss)\n",
        "    validLossListV5.append(valid_loss)\n",
        "    \n",
        "    \n",
        "    \n",
        "    print('Epoch: {} \\tTraining Loss: {:.6f} \\tValidation Loss: {:.6f}'.format(epoch,train_loss, valid_loss))\n",
        "    \n",
        "    \n",
        "#Plot the train and validation losses\n",
        "fig = plt.figure()\n",
        "ax = fig.add_subplot(111)\n",
        "plt.plot(np.arange(len(trainLossListV5)), trainLossListV5)\n",
        "plt.plot(np.arange(len(validLossListV5)), validLossListV5)\n",
        "plt.ylabel('Training and validation Loss')\n",
        "plt.xlabel('Epoch Number')\n",
        "plt.title('Model V5: VGG-16 with Batch Normalization Training and Validation Loss')\n",
        "plt.show()"
      ],
      "execution_count": 10,
      "outputs": [
        {
          "output_type": "stream",
          "text": [
            "Downloading: \"https://download.pytorch.org/models/vgg16_bn-6c64b313.pth\" to /root/.cache/torch/checkpoints/vgg16_bn-6c64b313.pth\n",
            "100%|██████████| 553507836/553507836 [00:14<00:00, 39371300.12it/s]\n"
          ],
          "name": "stderr"
        },
        {
          "output_type": "stream",
          "text": [
            "The models new classifier has been added\n",
            "Epoch: 0 \tTraining Loss: 1.677776 \tValidation Loss: 2.108463\n",
            "Epoch: 1 \tTraining Loss: 1.528237 \tValidation Loss: 1.930772\n",
            "Epoch: 2 \tTraining Loss: 1.370989 \tValidation Loss: 1.746264\n",
            "Epoch: 3 \tTraining Loss: 1.204133 \tValidation Loss: 1.560007\n",
            "Epoch: 4 \tTraining Loss: 1.040315 \tValidation Loss: 1.382283\n",
            "Epoch: 5 \tTraining Loss: 0.890519 \tValidation Loss: 1.220322\n",
            "Epoch: 6 \tTraining Loss: 0.764186 \tValidation Loss: 1.081023\n",
            "Epoch: 7 \tTraining Loss: 0.659374 \tValidation Loss: 0.962478\n",
            "Epoch: 8 \tTraining Loss: 0.570629 \tValidation Loss: 0.862996\n",
            "Epoch: 9 \tTraining Loss: 0.497191 \tValidation Loss: 0.778791\n",
            "Epoch: 10 \tTraining Loss: 0.435271 \tValidation Loss: 0.706880\n",
            "Epoch: 11 \tTraining Loss: 0.384038 \tValidation Loss: 0.647392\n",
            "Epoch: 12 \tTraining Loss: 0.340044 \tValidation Loss: 0.597443\n",
            "Epoch: 13 \tTraining Loss: 0.305158 \tValidation Loss: 0.554020\n",
            "Epoch: 14 \tTraining Loss: 0.274403 \tValidation Loss: 0.517006\n",
            "Epoch: 15 \tTraining Loss: 0.251676 \tValidation Loss: 0.484487\n",
            "Epoch: 16 \tTraining Loss: 0.230628 \tValidation Loss: 0.456632\n",
            "Epoch: 17 \tTraining Loss: 0.209966 \tValidation Loss: 0.432507\n",
            "Epoch: 18 \tTraining Loss: 0.195134 \tValidation Loss: 0.411506\n",
            "Epoch: 19 \tTraining Loss: 0.178455 \tValidation Loss: 0.391488\n"
          ],
          "name": "stdout"
        },
        {
          "output_type": "display_data",
          "data": {
            "image/png": "[encoded data removed]",
            "text/plain": [
              "<Figure size 432x288 with 1 Axes>"
            ]
          },
          "metadata": {
            "tags": []
          }
        }
      ]
    },
    {
      "cell_type": "code",
      "metadata": {
        "id": "i82laULSbb9Y",
        "colab_type": "code",
        "outputId": "32c2b38e-b32c-4e9a-ae9e-cbf40c013bf5",
        "colab": {
          "base_uri": "https://localhost:8080/",
          "height": 238
        }
      },
      "source": [
        "#Test Model V5 on the test dataset\n",
        "\n",
        "test_loss = 0.0\n",
        "class_correct = list(0. for i in range(10))\n",
        "class_total = list(0. for i in range(10))\n",
        "\n",
        "\n",
        "classes = ['monkey1', 'monkey2', 'monkey3', 'monkey4', 'monkey5', 'monkey6', 'monkey7',\n",
        "          'monkey8', 'monkey9', 'monkey10']\n",
        "modelV5.eval()\n",
        "for tdata, ttarget in test_dataloader:\n",
        "    tdata,ttarget = tdata.cuda(), ttarget.cuda()\n",
        "    \n",
        "    output = modelV5(tdata)\n",
        "    loss = criterion(output, ttarget)\n",
        "    test_loss += loss.item()*tdata.size(0)\n",
        "    _, pred = torch.max(output,1)\n",
        "    \n",
        "    correct_tensor = pred.eq(ttarget.data.view_as(pred))  \n",
        "    correct = np.squeeze(correct_tensor.numpy()) if not train_on_gpu else np.squeeze(correct_tensor.cpu().numpy())\n",
        "    \n",
        "    for i in range(1,batch_size):\n",
        "        label = ttarget.data[i-1]\n",
        "        class_correct[label] += correct[i].item()\n",
        "        class_total[label] += 1\n",
        "\n",
        "\n",
        "test_loss = test_loss/len(test_dataloader.dataset)\n",
        "print('Test Loss: {:.6f}\\n'.format(test_loss))\n",
        "\n",
        "for i in range(0,9):\n",
        "    if class_total[i]>0:\n",
        "        print('Test Accuracy of %5s: %2d%% (%2d/%2d) ' %( classes[i], 100*class_correct[i]/class_total[i], np.sum(class_correct[i]), np.sum(class_total[i])))\n",
        "    else:\n",
        "        print('Test Accuracy of %5s: N/A (no training examples)' % (classes[i]))\n",
        "\n",
        "print('\\nTest Accuracy (Overall): %2d%% (%2d/%2d)' % (100. * np.sum(class_correct)/ np.sum(class_total), np.sum(class_correct), np.sum(class_total)))"
      ],
      "execution_count": 11,
      "outputs": [
        {
          "output_type": "stream",
          "text": [
            "Test Loss: 0.104184\n",
            "\n",
            "Test Accuracy of monkey1: 96% (26/27) \n",
            "Test Accuracy of monkey2: 100% (28/28) \n",
            "Test Accuracy of monkey3: 95% (19/20) \n",
            "Test Accuracy of monkey4: 100% (31/31) \n",
            "Test Accuracy of monkey5: 97% (34/35) \n",
            "Test Accuracy of monkey6: 94% (18/19) \n",
            "Test Accuracy of monkey7: 100% (28/28) \n",
            "Test Accuracy of monkey8: 93% (27/29) \n",
            "Test Accuracy of monkey9: 100% (29/29) \n",
            "\n",
            "Test Accuracy (Overall): 97% (264/272)\n"
          ],
          "name": "stdout"
        }
      ]
    },
    {
      "cell_type": "markdown",
      "metadata": {
        "id": "HC6QLIgpbvOE",
        "colab_type": "text"
      },
      "source": [
        "## Model V6: VGG-19 with Batch Normalization\n"
      ]
    },
    {
      "cell_type": "code",
      "metadata": {
        "id": "u1xOolBeb4Eo",
        "colab_type": "code",
        "outputId": "c0e80293-8f05-4342-ad10-16395a5761a0",
        "colab": {
          "base_uri": "https://localhost:8080/",
          "height": 686
        }
      },
      "source": [
        "#Define the pretrained VGG model\n",
        "modelV6 = models.vgg19_bn(pretrained=True)\n",
        "\n",
        "for param in modelV6.parameters():\n",
        "    param.requires_grad=False\n",
        "\n",
        "#Define the classifier\n",
        "class Classifier(nn.Module):\n",
        "    def __init__(self):\n",
        "        super().__init__()\n",
        "        self.fc1 = nn.Linear(25088,1000)\n",
        "        #The output must be 10 to match the 10 monkey species classes\n",
        "        self.fc2 = nn.Linear(1000,10)\n",
        "        \n",
        "    def forward(self, x):\n",
        "        x = x.view(x.shape[0],-1)\n",
        "        x = F.relu(self.fc1(x))\n",
        "        x = F.log_softmax(self.fc2(x), dim = 1)\n",
        "        return x\n",
        "\n",
        "#Instantiate the classifier and add it to the model\n",
        "classifierV6 = Classifier()\n",
        "modelV6.classifier=classifierV6\n",
        "\n",
        "print(\"The models new classifier has been added\")\n",
        "\n",
        "#Define the criterion and optimizer\n",
        "device = torch.device(\"cuda\" if torch.cuda.is_available() else \"cpu\")\n",
        "criterion = nn.NLLLoss()\n",
        "optimizer = optim.SGD(modelV6.classifier.parameters(), lr = 0.01)\n",
        "\n",
        "#Move the model to the GPU. \n",
        "modelV6.to(device)\n",
        "\n",
        "# Train the model with the pretrained weights\n",
        "epochs = 20\n",
        "\n",
        "trainLossListV6 = []\n",
        "validLossListV6 = []\n",
        "\n",
        "for epoch in range(epochs):\n",
        "    \n",
        "    train_loss = 0.0\n",
        "    valid_loss = 0.0\n",
        "    \n",
        "    modelV6.train()\n",
        "    for inputs, labels in train_dataloader:\n",
        "        inputs, labels = inputs.to(device),labels.to(device)\n",
        "        optimizer.zero_grad()\n",
        "        logps = modelV6.forward(inputs)\n",
        "        loss = criterion(logps, labels)\n",
        "        loss.backward()\n",
        "        optimizer.step()\n",
        "        train_loss +=loss.item()*inputs.size(0)\n",
        "    train_loss = train_loss/len(train_dataloader.dataset)\n",
        "    \n",
        "    modelV6.eval()\n",
        "    for inputs, labels in valid_dataloader:\n",
        "        inputs, labels = inputs.to(device), labels.to(device)\n",
        "        output = modelV6(inputs)\n",
        "        loss = criterion(output, labels)\n",
        "        valid_loss += loss.item()*inputs.size(0)\n",
        "    valid_loss = valid_loss/len(valid_dataloader.dataset)\n",
        "    \n",
        "    trainLossListV6.append(train_loss)\n",
        "    validLossListV6.append(valid_loss)\n",
        "    \n",
        "    \n",
        "    \n",
        "    print('Epoch: {} \\tTraining Loss: {:.6f} \\tValidation Loss: {:.6f}'.format(epoch,train_loss, valid_loss))\n",
        "    \n",
        "    \n",
        "#Plot the train and validation losses\n",
        "fig = plt.figure()\n",
        "ax = fig.add_subplot(111)\n",
        "plt.plot(np.arange(len(trainLossListV6)), trainLossListV6)\n",
        "plt.plot(np.arange(len(validLossListV6)), validLossListV6)\n",
        "plt.ylabel('Training and validation Loss')\n",
        "plt.xlabel('Epoch Number')\n",
        "plt.title('Model V6: VGG-19 with Batch Normalization Training and Validation Loss')\n",
        "plt.show()"
      ],
      "execution_count": 12,
      "outputs": [
        {
          "output_type": "stream",
          "text": [
            "Downloading: \"https://download.pytorch.org/models/vgg19_bn-c79401a0.pth\" to /root/.cache/torch/checkpoints/vgg19_bn-c79401a0.pth\n",
            "100%|██████████| 574769405/574769405 [00:24<00:00, 23118411.45it/s]\n"
          ],
          "name": "stderr"
        },
        {
          "output_type": "stream",
          "text": [
            "The models new classifier has been added\n",
            "Epoch: 0 \tTraining Loss: 1.668616 \tValidation Loss: 2.089136\n",
            "Epoch: 1 \tTraining Loss: 1.504548 \tValidation Loss: 1.890772\n",
            "Epoch: 2 \tTraining Loss: 1.330779 \tValidation Loss: 1.687498\n",
            "Epoch: 3 \tTraining Loss: 1.154808 \tValidation Loss: 1.490787\n",
            "Epoch: 4 \tTraining Loss: 0.983516 \tValidation Loss: 1.305728\n",
            "Epoch: 5 \tTraining Loss: 0.839516 \tValidation Loss: 1.143568\n",
            "Epoch: 6 \tTraining Loss: 0.711020 \tValidation Loss: 1.004703\n",
            "Epoch: 7 \tTraining Loss: 0.609397 \tValidation Loss: 0.890623\n",
            "Epoch: 8 \tTraining Loss: 0.524404 \tValidation Loss: 0.796251\n",
            "Epoch: 9 \tTraining Loss: 0.457067 \tValidation Loss: 0.716956\n",
            "Epoch: 10 \tTraining Loss: 0.399652 \tValidation Loss: 0.650054\n",
            "Epoch: 11 \tTraining Loss: 0.354077 \tValidation Loss: 0.593961\n",
            "Epoch: 12 \tTraining Loss: 0.316463 \tValidation Loss: 0.546142\n",
            "Epoch: 13 \tTraining Loss: 0.284790 \tValidation Loss: 0.507829\n",
            "Epoch: 14 \tTraining Loss: 0.255925 \tValidation Loss: 0.473799\n",
            "Epoch: 15 \tTraining Loss: 0.231225 \tValidation Loss: 0.442611\n",
            "Epoch: 16 \tTraining Loss: 0.211580 \tValidation Loss: 0.418199\n",
            "Epoch: 17 \tTraining Loss: 0.196352 \tValidation Loss: 0.397395\n",
            "Epoch: 18 \tTraining Loss: 0.179363 \tValidation Loss: 0.376366\n",
            "Epoch: 19 \tTraining Loss: 0.168938 \tValidation Loss: 0.359428\n"
          ],
          "name": "stdout"
        },
        {
          "output_type": "display_data",
          "data": {
            "image/png": "[encoded data removed]",
            "text/plain": [
              "<Figure size 432x288 with 1 Axes>"
            ]
          },
          "metadata": {
            "tags": []
          }
        }
      ]
    },
    {
      "cell_type": "code",
      "metadata": {
        "id": "oYjWKs6YgDQ2",
        "colab_type": "code",
        "outputId": "17c664c9-2ae6-4ebc-d21c-5b683470582c",
        "colab": {
          "base_uri": "https://localhost:8080/",
          "height": 238
        }
      },
      "source": [
        "#Test Model V5 on the test dataset\n",
        "\n",
        "test_loss = 0.0\n",
        "class_correct = list(0. for i in range(10))\n",
        "class_total = list(0. for i in range(10))\n",
        "\n",
        "\n",
        "classes = ['monkey1', 'monkey2', 'monkey3', 'monkey4', 'monkey5', 'monkey6', 'monkey7',\n",
        "          'monkey8', 'monkey9', 'monkey10']\n",
        "modelV6.eval()\n",
        "for tdata, ttarget in test_dataloader:\n",
        "    tdata,ttarget = tdata.cuda(), ttarget.cuda()\n",
        "    \n",
        "    output = modelV6(tdata)\n",
        "    loss = criterion(output, ttarget)\n",
        "    test_loss += loss.item()*tdata.size(0)\n",
        "    _, pred = torch.max(output,1)\n",
        "    \n",
        "    correct_tensor = pred.eq(ttarget.data.view_as(pred))  \n",
        "    correct = np.squeeze(correct_tensor.numpy()) if not train_on_gpu else np.squeeze(correct_tensor.cpu().numpy())\n",
        "    \n",
        "    for i in range(1,batch_size):\n",
        "        label = ttarget.data[i-1]\n",
        "        class_correct[label] += correct[i].item()\n",
        "        class_total[label] += 1\n",
        "\n",
        "\n",
        "test_loss = test_loss/len(test_dataloader.dataset)\n",
        "print('Test Loss: {:.6f}\\n'.format(test_loss))\n",
        "\n",
        "for i in range(0,9):\n",
        "    if class_total[i]>0:\n",
        "        print('Test Accuracy of %5s: %2d%% (%2d/%2d) ' %( classes[i], 100*class_correct[i]/class_total[i], np.sum(class_correct[i]), np.sum(class_total[i])))\n",
        "    else:\n",
        "        print('Test Accuracy of %5s: N/A (no training examples)' % (classes[i]))\n",
        "\n",
        "print('\\nTest Accuracy (Overall): %2d%% (%2d/%2d)' % (100. * np.sum(class_correct)/ np.sum(class_total), np.sum(class_correct), np.sum(class_total)))"
      ],
      "execution_count": 0,
      "outputs": [
        {
          "output_type": "stream",
          "text": [
            "Test Loss: 0.484424\n",
            "\n",
            "Test Accuracy of monkey1: 85% (18/21) \n",
            "Test Accuracy of monkey2: 95% (22/23) \n",
            "Test Accuracy of monkey3: 85% (24/28) \n",
            "Test Accuracy of monkey4: 72% (16/22) \n",
            "Test Accuracy of monkey5: 73% (22/30) \n",
            "Test Accuracy of monkey6: 83% (20/24) \n",
            "Test Accuracy of monkey7: 83% (25/30) \n",
            "Test Accuracy of monkey8: 62% (18/29) \n",
            "Test Accuracy of monkey9: 74% (26/35) \n",
            "\n",
            "Test Accuracy (Overall): 79% (217/272)\n"
          ],
          "name": "stdout"
        }
      ]
    },
    {
      "cell_type": "markdown",
      "metadata": {
        "id": "FDbjNvLaLLTp",
        "colab_type": "text"
      },
      "source": [
        "## Comparing Models R1-R5\n",
        "\n",
        "* Models R1-R5 accuracies are recreated in the below table\n",
        "\n",
        "| Model | Overall Test Accuracy | \n",
        "| ----| ----|\n",
        "|Model R1: ResNet-18 |   |\n",
        "|Model R2: ResNet-34 |   |\n",
        "|Model R3: ResNet-50 |   |\n",
        "|Model R4: ResNet-101 |   |\n",
        "|Model R5: ResNet-152|   |\n"
      ]
    },
    {
      "cell_type": "code",
      "metadata": {
        "id": "1emd9G62MeA6",
        "colab_type": "code",
        "outputId": "917d5e20-8f83-4507-d89a-8b8aa2783a3d",
        "colab": {
          "base_uri": "https://localhost:8080/",
          "height": 318
        }
      },
      "source": [
        "# To better compare how the architecture of the different networks affects its learning potential for a fine-grain classification task,\n",
        "#       Figure 1: Plot of Training Loss\n",
        "#       Figure 2: Plot of Validation Loss\n",
        "\n",
        "\n",
        "sns.set(style=\"darkgrid\")\n",
        "\n",
        "trainingLoss_df = pd.DataFrame(list(zip(trainLossListV1, trainLossListV2, trainLossListV3, trainLossListV4, trainLossListV5, trainLossListV6)),\n",
        "                              columns = ['Model V1','Model V2','Model V3','Model V4', 'Model V5','Model V6'])\n",
        "palette = sns.color_palette(\"mako_r\", 6)\n",
        "ax = sns.lineplot(data=trainingLoss_df, palette=palette).set_title('Training Loss for Models V1-6')\n",
        "plt.xlabel('Epoch')\n",
        "plt.ylabel('Training Loss')"
      ],
      "execution_count": 20,
      "outputs": [
        {
          "output_type": "execute_result",
          "data": {
            "text/plain": [
              "Text(0, 0.5, 'Training Loss')"
            ]
          },
          "metadata": {
            "tags": []
          },
          "execution_count": 20
        },
        {
          "output_type": "display_data",
          "data": {
            "image/png": "[encoded data removed]",
            "text/plain": [
              "<Figure size 432x288 with 1 Axes>"
            ]
          },
          "metadata": {
            "tags": []
          }
        }
      ]
    },
    {
      "cell_type": "code",
      "metadata": {
        "id": "HKfInX6nUJHb",
        "colab_type": "code",
        "outputId": "7dc69f32-3651-4412-b182-3d0d456507bd",
        "colab": {
          "base_uri": "https://localhost:8080/",
          "height": 318
        }
      },
      "source": [
        "validLoss_df = pd.DataFrame(list(zip(validLossListV1, validLossListV2, validLossListV3, validLossListV4, validLossListV5, validLossListV6)),\n",
        "                              columns = ['Model V1','Model V2','Model V3','Model v4', 'Model V5', 'Model V6'])\n",
        "palette = sns.color_palette(\"mako_r\", 6)\n",
        "ax = sns.lineplot(data=trainingLoss_df, palette=palette).set_title('Validation Loss for Models V1-6')\n",
        "plt.xlabel('Epoch')\n",
        "plt.ylabel('Validation Loss')"
      ],
      "execution_count": 21,
      "outputs": [
        {
          "output_type": "execute_result",
          "data": {
            "text/plain": [
              "Text(0, 0.5, 'Validation Loss')"
            ]
          },
          "metadata": {
            "tags": []
          },
          "execution_count": 21
        },
        {
          "output_type": "display_data",
          "data": {
            "image/png": "[encoded data removed]",
            "text/plain": [
              "<Figure size 432x288 with 1 Axes>"
            ]
          },
          "metadata": {
            "tags": []
          }
        }
      ]
    }
  ]
}